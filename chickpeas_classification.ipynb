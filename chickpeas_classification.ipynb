{
  "cells": [
    {
      "cell_type": "code",
      "source": [],
      "metadata": {
        "id": "RTLvFDPeIm38"
      },
      "execution_count": null,
      "outputs": []
    },
    {
      "cell_type": "code",
      "execution_count": null,
      "metadata": {
        "colab": {
          "base_uri": "https://localhost:8080/"
        },
        "id": "N9he_ZvftUPr",
        "outputId": "6622c243-877d-43d8-98b7-dcc7971c2078"
      },
      "outputs": [
        {
          "output_type": "stream",
          "name": "stdout",
          "text": [
            "(1483, 1024)\n",
            "(1483, 2048)\n",
            "(1483, 2048)\n",
            "(1483, 2048)\n",
            "(1483, 512)\n",
            "(1483, 1)\n",
            "(1483,)\n"
          ]
        }
      ],
      "source": [
        "import pandas as pd\n",
        "import numpy as np\n",
        "x_dense=pd.read_csv('/content/drive/MyDrive/IDB/data_densenet121.csv')\n",
        "x_res=pd.read_csv('/content/drive/MyDrive/IDB/data_resnet.csv')\n",
        "x_incep=pd.read_csv('/content/drive/MyDrive/IDB/data_incep.csv')\n",
        "x_xcep=pd.read_csv('/content/drive/MyDrive/IDB/data_xcep.csv')\n",
        "#x_mobile=pd.read_csv('data_mobile.csv')\n",
        "x_vgg19=pd.read_csv('/content/drive/MyDrive/IDB/data_vgg19.csv')\n",
        "x_label=pd.read_csv('/content/drive/MyDrive/IDB/target.csv')\n",
        "print(x_dense.shape)\n",
        "print(x_res.shape)\n",
        "print(x_incep.shape)\n",
        "print(x_xcep.shape)\n",
        "#print(x_mobile.shape)\n",
        "print(x_vgg19.shape)\n",
        "print(x_label.shape)\n",
        "x_label=np.squeeze(x_label,axis=1)\n",
        "print(x_label.shape)"
      ]
    },
    {
      "cell_type": "code",
      "source": [],
      "metadata": {
        "id": "refk31CPIic8"
      },
      "execution_count": null,
      "outputs": []
    },
    {
      "cell_type": "code",
      "source": [
        "from google.colab import drive\n",
        "drive.mount('/content/drive')"
      ],
      "metadata": {
        "id": "qiyyZ2tL8bnv",
        "outputId": "b48790de-4bb1-4bbb-c79f-bf450d581a9a",
        "colab": {
          "base_uri": "https://localhost:8080/"
        }
      },
      "execution_count": null,
      "outputs": [
        {
          "output_type": "stream",
          "name": "stdout",
          "text": [
            "Mounted at /content/drive\n"
          ]
        }
      ]
    },
    {
      "cell_type": "code",
      "execution_count": null,
      "metadata": {
        "colab": {
          "base_uri": "https://localhost:8080/"
        },
        "id": "LS8AJMqduWvR",
        "outputId": "9a910423-8fd9-448b-b92d-aa2628e9a7d7"
      },
      "outputs": [
        {
          "output_type": "execute_result",
          "data": {
            "text/plain": [
              "(1483, 7168)"
            ]
          },
          "metadata": {},
          "execution_count": 85
        }
      ],
      "source": [
        "x_new=np.concatenate((x_dense,x_res,x_incep,x_xcep),axis=1)\n",
        "x_new.shape"
      ]
    },
    {
      "cell_type": "code",
      "execution_count": null,
      "metadata": {
        "id": "5Bq4lmUhub1w"
      },
      "outputs": [],
      "source": [
        "X=x_dense\n",
        "y=x_label"
      ]
    },
    {
      "cell_type": "code",
      "execution_count": null,
      "metadata": {
        "id": "GKjsVOCDueFt"
      },
      "outputs": [],
      "source": [
        "########### train_test_split\n",
        "from sklearn.model_selection import train_test_split\n",
        "(x_train,x_test,y_train,y_test)=train_test_split(X,y,\n",
        "                                                test_size=0.2,\n",
        "                                                random_state=0)"
      ]
    },
    {
      "cell_type": "code",
      "execution_count": null,
      "metadata": {
        "colab": {
          "base_uri": "https://localhost:8080/"
        },
        "id": "RVTo0Ouwp4Sk",
        "outputId": "977a16c2-4f69-4226-df4a-c57e37dae1a4"
      },
      "outputs": [
        {
          "output_type": "execute_result",
          "data": {
            "text/plain": [
              "(1186, 1024)"
            ]
          },
          "metadata": {},
          "execution_count": 113
        }
      ],
      "source": [
        "x_train.shape"
      ]
    },
    {
      "cell_type": "code",
      "source": [
        "from sklearn.model_selection import GridSearchCV\n",
        "from sklearn.linear_model import LogisticRegression\n",
        " # defining parameter range\n",
        "param_grid = {'C': [0.01,0.1, 1, 10, 100, 1000],\n",
        "              'penalty': ['l1','l2'],\n",
        "              'solver':['lbfgs', 'liblinear', 'sag', 'saga']}\n",
        "grid = GridSearchCV(LogisticRegression(), param_grid, refit = True, verbose = 3,cv=5)\n",
        "# fitting the model for grid search\n",
        "grid.fit(x_train, y_train)"
      ],
      "metadata": {
        "colab": {
          "base_uri": "https://localhost:8080/"
        },
        "id": "Tly0-4alCwOi",
        "outputId": "d38dda24-9d67-475b-bd07-a61ca1dec767"
      },
      "execution_count": null,
      "outputs": [
        {
          "output_type": "stream",
          "name": "stdout",
          "text": [
            "Fitting 5 folds for each of 48 candidates, totalling 240 fits\n",
            "[CV 1/5] END ....C=0.01, penalty=l1, solver=lbfgs;, score=nan total time=   0.0s\n",
            "[CV 2/5] END ....C=0.01, penalty=l1, solver=lbfgs;, score=nan total time=   0.0s\n",
            "[CV 3/5] END ....C=0.01, penalty=l1, solver=lbfgs;, score=nan total time=   0.0s\n",
            "[CV 4/5] END ....C=0.01, penalty=l1, solver=lbfgs;, score=nan total time=   0.0s\n",
            "[CV 5/5] END ....C=0.01, penalty=l1, solver=lbfgs;, score=nan total time=   0.0s\n",
            "[CV 1/5] END C=0.01, penalty=l1, solver=liblinear;, score=0.840 total time=   0.1s\n",
            "[CV 2/5] END C=0.01, penalty=l1, solver=liblinear;, score=0.835 total time=   0.1s\n",
            "[CV 3/5] END C=0.01, penalty=l1, solver=liblinear;, score=0.886 total time=   0.1s\n",
            "[CV 4/5] END C=0.01, penalty=l1, solver=liblinear;, score=0.827 total time=   0.1s\n",
            "[CV 5/5] END C=0.01, penalty=l1, solver=liblinear;, score=0.806 total time=   0.1s\n",
            "[CV 1/5] END ......C=0.01, penalty=l1, solver=sag;, score=nan total time=   0.0s\n",
            "[CV 2/5] END ......C=0.01, penalty=l1, solver=sag;, score=nan total time=   0.0s\n",
            "[CV 3/5] END ......C=0.01, penalty=l1, solver=sag;, score=nan total time=   0.0s\n",
            "[CV 4/5] END ......C=0.01, penalty=l1, solver=sag;, score=nan total time=   0.0s\n",
            "[CV 5/5] END ......C=0.01, penalty=l1, solver=sag;, score=nan total time=   0.0s\n"
          ]
        },
        {
          "output_type": "stream",
          "name": "stderr",
          "text": [
            "/usr/local/lib/python3.7/dist-packages/sklearn/linear_model/_sag.py:354: ConvergenceWarning: The max_iter was reached which means the coef_ did not converge\n",
            "  ConvergenceWarning,\n"
          ]
        },
        {
          "output_type": "stream",
          "name": "stdout",
          "text": [
            "[CV 1/5] END ...C=0.01, penalty=l1, solver=saga;, score=0.840 total time=   1.4s\n"
          ]
        },
        {
          "output_type": "stream",
          "name": "stderr",
          "text": [
            "/usr/local/lib/python3.7/dist-packages/sklearn/linear_model/_sag.py:354: ConvergenceWarning: The max_iter was reached which means the coef_ did not converge\n",
            "  ConvergenceWarning,\n"
          ]
        },
        {
          "output_type": "stream",
          "name": "stdout",
          "text": [
            "[CV 2/5] END ...C=0.01, penalty=l1, solver=saga;, score=0.835 total time=   1.4s\n"
          ]
        },
        {
          "output_type": "stream",
          "name": "stderr",
          "text": [
            "/usr/local/lib/python3.7/dist-packages/sklearn/linear_model/_sag.py:354: ConvergenceWarning: The max_iter was reached which means the coef_ did not converge\n",
            "  ConvergenceWarning,\n"
          ]
        },
        {
          "output_type": "stream",
          "name": "stdout",
          "text": [
            "[CV 3/5] END ...C=0.01, penalty=l1, solver=saga;, score=0.886 total time=   1.4s\n"
          ]
        },
        {
          "output_type": "stream",
          "name": "stderr",
          "text": [
            "/usr/local/lib/python3.7/dist-packages/sklearn/linear_model/_sag.py:354: ConvergenceWarning: The max_iter was reached which means the coef_ did not converge\n",
            "  ConvergenceWarning,\n"
          ]
        },
        {
          "output_type": "stream",
          "name": "stdout",
          "text": [
            "[CV 4/5] END ...C=0.01, penalty=l1, solver=saga;, score=0.827 total time=   1.4s\n"
          ]
        },
        {
          "output_type": "stream",
          "name": "stderr",
          "text": [
            "/usr/local/lib/python3.7/dist-packages/sklearn/linear_model/_sag.py:354: ConvergenceWarning: The max_iter was reached which means the coef_ did not converge\n",
            "  ConvergenceWarning,\n"
          ]
        },
        {
          "output_type": "stream",
          "name": "stdout",
          "text": [
            "[CV 5/5] END ...C=0.01, penalty=l1, solver=saga;, score=0.806 total time=   1.4s\n",
            "[CV 1/5] END ..C=0.01, penalty=l2, solver=lbfgs;, score=0.895 total time=   0.1s\n",
            "[CV 2/5] END ..C=0.01, penalty=l2, solver=lbfgs;, score=0.903 total time=   0.2s\n",
            "[CV 3/5] END ..C=0.01, penalty=l2, solver=lbfgs;, score=0.941 total time=   0.2s\n"
          ]
        },
        {
          "output_type": "stream",
          "name": "stderr",
          "text": [
            "/usr/local/lib/python3.7/dist-packages/sklearn/linear_model/_logistic.py:818: ConvergenceWarning: lbfgs failed to converge (status=1):\n",
            "STOP: TOTAL NO. of ITERATIONS REACHED LIMIT.\n",
            "\n",
            "Increase the number of iterations (max_iter) or scale the data as shown in:\n",
            "    https://scikit-learn.org/stable/modules/preprocessing.html\n",
            "Please also refer to the documentation for alternative solver options:\n",
            "    https://scikit-learn.org/stable/modules/linear_model.html#logistic-regression\n",
            "  extra_warning_msg=_LOGISTIC_SOLVER_CONVERGENCE_MSG,\n",
            "/usr/local/lib/python3.7/dist-packages/sklearn/linear_model/_logistic.py:818: ConvergenceWarning: lbfgs failed to converge (status=1):\n",
            "STOP: TOTAL NO. of ITERATIONS REACHED LIMIT.\n",
            "\n",
            "Increase the number of iterations (max_iter) or scale the data as shown in:\n",
            "    https://scikit-learn.org/stable/modules/preprocessing.html\n",
            "Please also refer to the documentation for alternative solver options:\n",
            "    https://scikit-learn.org/stable/modules/linear_model.html#logistic-regression\n",
            "  extra_warning_msg=_LOGISTIC_SOLVER_CONVERGENCE_MSG,\n"
          ]
        },
        {
          "output_type": "stream",
          "name": "stdout",
          "text": [
            "[CV 4/5] END ..C=0.01, penalty=l2, solver=lbfgs;, score=0.932 total time=   0.2s\n",
            "[CV 5/5] END ..C=0.01, penalty=l2, solver=lbfgs;, score=0.941 total time=   0.2s\n"
          ]
        },
        {
          "output_type": "stream",
          "name": "stderr",
          "text": [
            "/usr/local/lib/python3.7/dist-packages/sklearn/linear_model/_logistic.py:818: ConvergenceWarning: lbfgs failed to converge (status=1):\n",
            "STOP: TOTAL NO. of ITERATIONS REACHED LIMIT.\n",
            "\n",
            "Increase the number of iterations (max_iter) or scale the data as shown in:\n",
            "    https://scikit-learn.org/stable/modules/preprocessing.html\n",
            "Please also refer to the documentation for alternative solver options:\n",
            "    https://scikit-learn.org/stable/modules/linear_model.html#logistic-regression\n",
            "  extra_warning_msg=_LOGISTIC_SOLVER_CONVERGENCE_MSG,\n"
          ]
        },
        {
          "output_type": "stream",
          "name": "stdout",
          "text": [
            "[CV 1/5] END C=0.01, penalty=l2, solver=liblinear;, score=0.895 total time=   0.2s\n",
            "[CV 2/5] END C=0.01, penalty=l2, solver=liblinear;, score=0.903 total time=   0.2s\n",
            "[CV 3/5] END C=0.01, penalty=l2, solver=liblinear;, score=0.941 total time=   0.2s\n",
            "[CV 4/5] END C=0.01, penalty=l2, solver=liblinear;, score=0.932 total time=   0.2s\n",
            "[CV 5/5] END C=0.01, penalty=l2, solver=liblinear;, score=0.937 total time=   0.2s\n"
          ]
        },
        {
          "output_type": "stream",
          "name": "stderr",
          "text": [
            "/usr/local/lib/python3.7/dist-packages/sklearn/linear_model/_sag.py:354: ConvergenceWarning: The max_iter was reached which means the coef_ did not converge\n",
            "  ConvergenceWarning,\n"
          ]
        },
        {
          "output_type": "stream",
          "name": "stdout",
          "text": [
            "[CV 1/5] END ....C=0.01, penalty=l2, solver=sag;, score=0.895 total time=   1.0s\n"
          ]
        },
        {
          "output_type": "stream",
          "name": "stderr",
          "text": [
            "/usr/local/lib/python3.7/dist-packages/sklearn/linear_model/_sag.py:354: ConvergenceWarning: The max_iter was reached which means the coef_ did not converge\n",
            "  ConvergenceWarning,\n"
          ]
        },
        {
          "output_type": "stream",
          "name": "stdout",
          "text": [
            "[CV 2/5] END ....C=0.01, penalty=l2, solver=sag;, score=0.907 total time=   1.0s\n"
          ]
        },
        {
          "output_type": "stream",
          "name": "stderr",
          "text": [
            "/usr/local/lib/python3.7/dist-packages/sklearn/linear_model/_sag.py:354: ConvergenceWarning: The max_iter was reached which means the coef_ did not converge\n",
            "  ConvergenceWarning,\n"
          ]
        },
        {
          "output_type": "stream",
          "name": "stdout",
          "text": [
            "[CV 3/5] END ....C=0.01, penalty=l2, solver=sag;, score=0.941 total time=   1.0s\n"
          ]
        },
        {
          "output_type": "stream",
          "name": "stderr",
          "text": [
            "/usr/local/lib/python3.7/dist-packages/sklearn/linear_model/_sag.py:354: ConvergenceWarning: The max_iter was reached which means the coef_ did not converge\n",
            "  ConvergenceWarning,\n"
          ]
        },
        {
          "output_type": "stream",
          "name": "stdout",
          "text": [
            "[CV 4/5] END ....C=0.01, penalty=l2, solver=sag;, score=0.932 total time=   1.7s\n"
          ]
        },
        {
          "output_type": "stream",
          "name": "stderr",
          "text": [
            "/usr/local/lib/python3.7/dist-packages/sklearn/linear_model/_sag.py:354: ConvergenceWarning: The max_iter was reached which means the coef_ did not converge\n",
            "  ConvergenceWarning,\n"
          ]
        },
        {
          "output_type": "stream",
          "name": "stdout",
          "text": [
            "[CV 5/5] END ....C=0.01, penalty=l2, solver=sag;, score=0.941 total time=   1.7s\n"
          ]
        },
        {
          "output_type": "stream",
          "name": "stderr",
          "text": [
            "/usr/local/lib/python3.7/dist-packages/sklearn/linear_model/_sag.py:354: ConvergenceWarning: The max_iter was reached which means the coef_ did not converge\n",
            "  ConvergenceWarning,\n"
          ]
        },
        {
          "output_type": "stream",
          "name": "stdout",
          "text": [
            "[CV 1/5] END ...C=0.01, penalty=l2, solver=saga;, score=0.891 total time=   1.2s\n"
          ]
        },
        {
          "output_type": "stream",
          "name": "stderr",
          "text": [
            "/usr/local/lib/python3.7/dist-packages/sklearn/linear_model/_sag.py:354: ConvergenceWarning: The max_iter was reached which means the coef_ did not converge\n",
            "  ConvergenceWarning,\n"
          ]
        },
        {
          "output_type": "stream",
          "name": "stdout",
          "text": [
            "[CV 2/5] END ...C=0.01, penalty=l2, solver=saga;, score=0.903 total time=   1.2s\n"
          ]
        },
        {
          "output_type": "stream",
          "name": "stderr",
          "text": [
            "/usr/local/lib/python3.7/dist-packages/sklearn/linear_model/_sag.py:354: ConvergenceWarning: The max_iter was reached which means the coef_ did not converge\n",
            "  ConvergenceWarning,\n"
          ]
        },
        {
          "output_type": "stream",
          "name": "stdout",
          "text": [
            "[CV 3/5] END ...C=0.01, penalty=l2, solver=saga;, score=0.937 total time=   1.2s\n"
          ]
        },
        {
          "output_type": "stream",
          "name": "stderr",
          "text": [
            "/usr/local/lib/python3.7/dist-packages/sklearn/linear_model/_sag.py:354: ConvergenceWarning: The max_iter was reached which means the coef_ did not converge\n",
            "  ConvergenceWarning,\n"
          ]
        },
        {
          "output_type": "stream",
          "name": "stdout",
          "text": [
            "[CV 4/5] END ...C=0.01, penalty=l2, solver=saga;, score=0.928 total time=   1.2s\n"
          ]
        },
        {
          "output_type": "stream",
          "name": "stderr",
          "text": [
            "/usr/local/lib/python3.7/dist-packages/sklearn/linear_model/_sag.py:354: ConvergenceWarning: The max_iter was reached which means the coef_ did not converge\n",
            "  ConvergenceWarning,\n"
          ]
        },
        {
          "output_type": "stream",
          "name": "stdout",
          "text": [
            "[CV 5/5] END ...C=0.01, penalty=l2, solver=saga;, score=0.937 total time=   1.2s\n",
            "[CV 1/5] END .....C=0.1, penalty=l1, solver=lbfgs;, score=nan total time=   0.0s\n",
            "[CV 2/5] END .....C=0.1, penalty=l1, solver=lbfgs;, score=nan total time=   0.0s\n",
            "[CV 3/5] END .....C=0.1, penalty=l1, solver=lbfgs;, score=nan total time=   0.0s\n",
            "[CV 4/5] END .....C=0.1, penalty=l1, solver=lbfgs;, score=nan total time=   0.0s\n",
            "[CV 5/5] END .....C=0.1, penalty=l1, solver=lbfgs;, score=nan total time=   0.0s\n",
            "[CV 1/5] END C=0.1, penalty=l1, solver=liblinear;, score=0.882 total time=   0.2s\n",
            "[CV 2/5] END C=0.1, penalty=l1, solver=liblinear;, score=0.890 total time=   0.2s\n",
            "[CV 3/5] END C=0.1, penalty=l1, solver=liblinear;, score=0.924 total time=   0.2s\n",
            "[CV 4/5] END C=0.1, penalty=l1, solver=liblinear;, score=0.903 total time=   0.2s\n",
            "[CV 5/5] END C=0.1, penalty=l1, solver=liblinear;, score=0.907 total time=   0.2s\n",
            "[CV 1/5] END .......C=0.1, penalty=l1, solver=sag;, score=nan total time=   0.0s\n",
            "[CV 2/5] END .......C=0.1, penalty=l1, solver=sag;, score=nan total time=   0.0s\n",
            "[CV 3/5] END .......C=0.1, penalty=l1, solver=sag;, score=nan total time=   0.0s\n",
            "[CV 4/5] END .......C=0.1, penalty=l1, solver=sag;, score=nan total time=   0.0s\n",
            "[CV 5/5] END .......C=0.1, penalty=l1, solver=sag;, score=nan total time=   0.0s\n"
          ]
        },
        {
          "output_type": "stream",
          "name": "stderr",
          "text": [
            "/usr/local/lib/python3.7/dist-packages/sklearn/linear_model/_sag.py:354: ConvergenceWarning: The max_iter was reached which means the coef_ did not converge\n",
            "  ConvergenceWarning,\n"
          ]
        },
        {
          "output_type": "stream",
          "name": "stdout",
          "text": [
            "[CV 1/5] END ....C=0.1, penalty=l1, solver=saga;, score=0.882 total time=   2.2s\n"
          ]
        },
        {
          "output_type": "stream",
          "name": "stderr",
          "text": [
            "/usr/local/lib/python3.7/dist-packages/sklearn/linear_model/_sag.py:354: ConvergenceWarning: The max_iter was reached which means the coef_ did not converge\n",
            "  ConvergenceWarning,\n"
          ]
        },
        {
          "output_type": "stream",
          "name": "stdout",
          "text": [
            "[CV 2/5] END ....C=0.1, penalty=l1, solver=saga;, score=0.895 total time=   3.9s\n"
          ]
        },
        {
          "output_type": "stream",
          "name": "stderr",
          "text": [
            "/usr/local/lib/python3.7/dist-packages/sklearn/linear_model/_sag.py:354: ConvergenceWarning: The max_iter was reached which means the coef_ did not converge\n",
            "  ConvergenceWarning,\n"
          ]
        },
        {
          "output_type": "stream",
          "name": "stdout",
          "text": [
            "[CV 3/5] END ....C=0.1, penalty=l1, solver=saga;, score=0.928 total time=   2.1s\n"
          ]
        },
        {
          "output_type": "stream",
          "name": "stderr",
          "text": [
            "/usr/local/lib/python3.7/dist-packages/sklearn/linear_model/_sag.py:354: ConvergenceWarning: The max_iter was reached which means the coef_ did not converge\n",
            "  ConvergenceWarning,\n"
          ]
        },
        {
          "output_type": "stream",
          "name": "stdout",
          "text": [
            "[CV 4/5] END ....C=0.1, penalty=l1, solver=saga;, score=0.903 total time=   1.4s\n"
          ]
        },
        {
          "output_type": "stream",
          "name": "stderr",
          "text": [
            "/usr/local/lib/python3.7/dist-packages/sklearn/linear_model/_sag.py:354: ConvergenceWarning: The max_iter was reached which means the coef_ did not converge\n",
            "  ConvergenceWarning,\n",
            "/usr/local/lib/python3.7/dist-packages/sklearn/linear_model/_logistic.py:818: ConvergenceWarning: lbfgs failed to converge (status=1):\n",
            "STOP: TOTAL NO. of ITERATIONS REACHED LIMIT.\n",
            "\n",
            "Increase the number of iterations (max_iter) or scale the data as shown in:\n",
            "    https://scikit-learn.org/stable/modules/preprocessing.html\n",
            "Please also refer to the documentation for alternative solver options:\n",
            "    https://scikit-learn.org/stable/modules/linear_model.html#logistic-regression\n",
            "  extra_warning_msg=_LOGISTIC_SOLVER_CONVERGENCE_MSG,\n"
          ]
        },
        {
          "output_type": "stream",
          "name": "stdout",
          "text": [
            "[CV 5/5] END ....C=0.1, penalty=l1, solver=saga;, score=0.899 total time=   1.5s\n",
            "[CV 1/5] END ...C=0.1, penalty=l2, solver=lbfgs;, score=0.916 total time=   0.2s\n"
          ]
        },
        {
          "output_type": "stream",
          "name": "stderr",
          "text": [
            "/usr/local/lib/python3.7/dist-packages/sklearn/linear_model/_logistic.py:818: ConvergenceWarning: lbfgs failed to converge (status=1):\n",
            "STOP: TOTAL NO. of ITERATIONS REACHED LIMIT.\n",
            "\n",
            "Increase the number of iterations (max_iter) or scale the data as shown in:\n",
            "    https://scikit-learn.org/stable/modules/preprocessing.html\n",
            "Please also refer to the documentation for alternative solver options:\n",
            "    https://scikit-learn.org/stable/modules/linear_model.html#logistic-regression\n",
            "  extra_warning_msg=_LOGISTIC_SOLVER_CONVERGENCE_MSG,\n",
            "/usr/local/lib/python3.7/dist-packages/sklearn/linear_model/_logistic.py:818: ConvergenceWarning: lbfgs failed to converge (status=1):\n",
            "STOP: TOTAL NO. of ITERATIONS REACHED LIMIT.\n",
            "\n",
            "Increase the number of iterations (max_iter) or scale the data as shown in:\n",
            "    https://scikit-learn.org/stable/modules/preprocessing.html\n",
            "Please also refer to the documentation for alternative solver options:\n",
            "    https://scikit-learn.org/stable/modules/linear_model.html#logistic-regression\n",
            "  extra_warning_msg=_LOGISTIC_SOLVER_CONVERGENCE_MSG,\n"
          ]
        },
        {
          "output_type": "stream",
          "name": "stdout",
          "text": [
            "[CV 2/5] END ...C=0.1, penalty=l2, solver=lbfgs;, score=0.911 total time=   0.2s\n",
            "[CV 3/5] END ...C=0.1, penalty=l2, solver=lbfgs;, score=0.941 total time=   0.2s\n"
          ]
        },
        {
          "output_type": "stream",
          "name": "stderr",
          "text": [
            "/usr/local/lib/python3.7/dist-packages/sklearn/linear_model/_logistic.py:818: ConvergenceWarning: lbfgs failed to converge (status=1):\n",
            "STOP: TOTAL NO. of ITERATIONS REACHED LIMIT.\n",
            "\n",
            "Increase the number of iterations (max_iter) or scale the data as shown in:\n",
            "    https://scikit-learn.org/stable/modules/preprocessing.html\n",
            "Please also refer to the documentation for alternative solver options:\n",
            "    https://scikit-learn.org/stable/modules/linear_model.html#logistic-regression\n",
            "  extra_warning_msg=_LOGISTIC_SOLVER_CONVERGENCE_MSG,\n",
            "/usr/local/lib/python3.7/dist-packages/sklearn/linear_model/_logistic.py:818: ConvergenceWarning: lbfgs failed to converge (status=1):\n",
            "STOP: TOTAL NO. of ITERATIONS REACHED LIMIT.\n",
            "\n",
            "Increase the number of iterations (max_iter) or scale the data as shown in:\n",
            "    https://scikit-learn.org/stable/modules/preprocessing.html\n",
            "Please also refer to the documentation for alternative solver options:\n",
            "    https://scikit-learn.org/stable/modules/linear_model.html#logistic-regression\n",
            "  extra_warning_msg=_LOGISTIC_SOLVER_CONVERGENCE_MSG,\n"
          ]
        },
        {
          "output_type": "stream",
          "name": "stdout",
          "text": [
            "[CV 4/5] END ...C=0.1, penalty=l2, solver=lbfgs;, score=0.911 total time=   0.2s\n",
            "[CV 5/5] END ...C=0.1, penalty=l2, solver=lbfgs;, score=0.945 total time=   0.2s\n",
            "[CV 1/5] END C=0.1, penalty=l2, solver=liblinear;, score=0.916 total time=   0.3s\n",
            "[CV 2/5] END C=0.1, penalty=l2, solver=liblinear;, score=0.911 total time=   0.3s\n",
            "[CV 3/5] END C=0.1, penalty=l2, solver=liblinear;, score=0.941 total time=   0.3s\n",
            "[CV 4/5] END C=0.1, penalty=l2, solver=liblinear;, score=0.911 total time=   0.3s\n",
            "[CV 5/5] END C=0.1, penalty=l2, solver=liblinear;, score=0.945 total time=   0.3s\n"
          ]
        },
        {
          "output_type": "stream",
          "name": "stderr",
          "text": [
            "/usr/local/lib/python3.7/dist-packages/sklearn/linear_model/_sag.py:354: ConvergenceWarning: The max_iter was reached which means the coef_ did not converge\n",
            "  ConvergenceWarning,\n"
          ]
        },
        {
          "output_type": "stream",
          "name": "stdout",
          "text": [
            "[CV 1/5] END .....C=0.1, penalty=l2, solver=sag;, score=0.899 total time=   0.9s\n"
          ]
        },
        {
          "output_type": "stream",
          "name": "stderr",
          "text": [
            "/usr/local/lib/python3.7/dist-packages/sklearn/linear_model/_sag.py:354: ConvergenceWarning: The max_iter was reached which means the coef_ did not converge\n",
            "  ConvergenceWarning,\n"
          ]
        },
        {
          "output_type": "stream",
          "name": "stdout",
          "text": [
            "[CV 2/5] END .....C=0.1, penalty=l2, solver=sag;, score=0.916 total time=   1.0s\n"
          ]
        },
        {
          "output_type": "stream",
          "name": "stderr",
          "text": [
            "/usr/local/lib/python3.7/dist-packages/sklearn/linear_model/_sag.py:354: ConvergenceWarning: The max_iter was reached which means the coef_ did not converge\n",
            "  ConvergenceWarning,\n"
          ]
        },
        {
          "output_type": "stream",
          "name": "stdout",
          "text": [
            "[CV 3/5] END .....C=0.1, penalty=l2, solver=sag;, score=0.941 total time=   0.9s\n"
          ]
        },
        {
          "output_type": "stream",
          "name": "stderr",
          "text": [
            "/usr/local/lib/python3.7/dist-packages/sklearn/linear_model/_sag.py:354: ConvergenceWarning: The max_iter was reached which means the coef_ did not converge\n",
            "  ConvergenceWarning,\n"
          ]
        },
        {
          "output_type": "stream",
          "name": "stdout",
          "text": [
            "[CV 4/5] END .....C=0.1, penalty=l2, solver=sag;, score=0.928 total time=   0.9s\n"
          ]
        },
        {
          "output_type": "stream",
          "name": "stderr",
          "text": [
            "/usr/local/lib/python3.7/dist-packages/sklearn/linear_model/_sag.py:354: ConvergenceWarning: The max_iter was reached which means the coef_ did not converge\n",
            "  ConvergenceWarning,\n"
          ]
        },
        {
          "output_type": "stream",
          "name": "stdout",
          "text": [
            "[CV 5/5] END .....C=0.1, penalty=l2, solver=sag;, score=0.949 total time=   0.9s\n"
          ]
        },
        {
          "output_type": "stream",
          "name": "stderr",
          "text": [
            "/usr/local/lib/python3.7/dist-packages/sklearn/linear_model/_sag.py:354: ConvergenceWarning: The max_iter was reached which means the coef_ did not converge\n",
            "  ConvergenceWarning,\n"
          ]
        },
        {
          "output_type": "stream",
          "name": "stdout",
          "text": [
            "[CV 1/5] END ....C=0.1, penalty=l2, solver=saga;, score=0.891 total time=   1.1s\n"
          ]
        },
        {
          "output_type": "stream",
          "name": "stderr",
          "text": [
            "/usr/local/lib/python3.7/dist-packages/sklearn/linear_model/_sag.py:354: ConvergenceWarning: The max_iter was reached which means the coef_ did not converge\n",
            "  ConvergenceWarning,\n"
          ]
        },
        {
          "output_type": "stream",
          "name": "stdout",
          "text": [
            "[CV 2/5] END ....C=0.1, penalty=l2, solver=saga;, score=0.907 total time=   1.1s\n"
          ]
        },
        {
          "output_type": "stream",
          "name": "stderr",
          "text": [
            "/usr/local/lib/python3.7/dist-packages/sklearn/linear_model/_sag.py:354: ConvergenceWarning: The max_iter was reached which means the coef_ did not converge\n",
            "  ConvergenceWarning,\n"
          ]
        },
        {
          "output_type": "stream",
          "name": "stdout",
          "text": [
            "[CV 3/5] END ....C=0.1, penalty=l2, solver=saga;, score=0.924 total time=   1.2s\n"
          ]
        },
        {
          "output_type": "stream",
          "name": "stderr",
          "text": [
            "/usr/local/lib/python3.7/dist-packages/sklearn/linear_model/_sag.py:354: ConvergenceWarning: The max_iter was reached which means the coef_ did not converge\n",
            "  ConvergenceWarning,\n"
          ]
        },
        {
          "output_type": "stream",
          "name": "stdout",
          "text": [
            "[CV 4/5] END ....C=0.1, penalty=l2, solver=saga;, score=0.932 total time=   1.2s\n"
          ]
        },
        {
          "output_type": "stream",
          "name": "stderr",
          "text": [
            "/usr/local/lib/python3.7/dist-packages/sklearn/linear_model/_sag.py:354: ConvergenceWarning: The max_iter was reached which means the coef_ did not converge\n",
            "  ConvergenceWarning,\n"
          ]
        },
        {
          "output_type": "stream",
          "name": "stdout",
          "text": [
            "[CV 5/5] END ....C=0.1, penalty=l2, solver=saga;, score=0.941 total time=   1.2s\n",
            "[CV 1/5] END .......C=1, penalty=l1, solver=lbfgs;, score=nan total time=   0.0s\n",
            "[CV 2/5] END .......C=1, penalty=l1, solver=lbfgs;, score=nan total time=   0.0s\n",
            "[CV 3/5] END .......C=1, penalty=l1, solver=lbfgs;, score=nan total time=   0.0s\n",
            "[CV 4/5] END .......C=1, penalty=l1, solver=lbfgs;, score=nan total time=   0.0s\n",
            "[CV 5/5] END .......C=1, penalty=l1, solver=lbfgs;, score=nan total time=   0.0s\n",
            "[CV 1/5] END .C=1, penalty=l1, solver=liblinear;, score=0.887 total time=   0.5s\n",
            "[CV 2/5] END .C=1, penalty=l1, solver=liblinear;, score=0.941 total time=   0.4s\n",
            "[CV 3/5] END .C=1, penalty=l1, solver=liblinear;, score=0.924 total time=   0.4s\n",
            "[CV 4/5] END .C=1, penalty=l1, solver=liblinear;, score=0.911 total time=   0.3s\n",
            "[CV 5/5] END .C=1, penalty=l1, solver=liblinear;, score=0.932 total time=   0.3s\n",
            "[CV 1/5] END .........C=1, penalty=l1, solver=sag;, score=nan total time=   0.0s\n",
            "[CV 2/5] END .........C=1, penalty=l1, solver=sag;, score=nan total time=   0.0s\n",
            "[CV 3/5] END .........C=1, penalty=l1, solver=sag;, score=nan total time=   0.0s\n",
            "[CV 4/5] END .........C=1, penalty=l1, solver=sag;, score=nan total time=   0.0s\n",
            "[CV 5/5] END .........C=1, penalty=l1, solver=sag;, score=nan total time=   0.0s\n"
          ]
        },
        {
          "output_type": "stream",
          "name": "stderr",
          "text": [
            "/usr/local/lib/python3.7/dist-packages/sklearn/linear_model/_sag.py:354: ConvergenceWarning: The max_iter was reached which means the coef_ did not converge\n",
            "  ConvergenceWarning,\n"
          ]
        },
        {
          "output_type": "stream",
          "name": "stdout",
          "text": [
            "[CV 1/5] END ......C=1, penalty=l1, solver=saga;, score=0.891 total time=   1.6s\n"
          ]
        },
        {
          "output_type": "stream",
          "name": "stderr",
          "text": [
            "/usr/local/lib/python3.7/dist-packages/sklearn/linear_model/_sag.py:354: ConvergenceWarning: The max_iter was reached which means the coef_ did not converge\n",
            "  ConvergenceWarning,\n"
          ]
        },
        {
          "output_type": "stream",
          "name": "stdout",
          "text": [
            "[CV 2/5] END ......C=1, penalty=l1, solver=saga;, score=0.911 total time=   1.6s\n"
          ]
        },
        {
          "output_type": "stream",
          "name": "stderr",
          "text": [
            "/usr/local/lib/python3.7/dist-packages/sklearn/linear_model/_sag.py:354: ConvergenceWarning: The max_iter was reached which means the coef_ did not converge\n",
            "  ConvergenceWarning,\n"
          ]
        },
        {
          "output_type": "stream",
          "name": "stdout",
          "text": [
            "[CV 3/5] END ......C=1, penalty=l1, solver=saga;, score=0.928 total time=   1.6s\n"
          ]
        },
        {
          "output_type": "stream",
          "name": "stderr",
          "text": [
            "/usr/local/lib/python3.7/dist-packages/sklearn/linear_model/_sag.py:354: ConvergenceWarning: The max_iter was reached which means the coef_ did not converge\n",
            "  ConvergenceWarning,\n"
          ]
        },
        {
          "output_type": "stream",
          "name": "stdout",
          "text": [
            "[CV 4/5] END ......C=1, penalty=l1, solver=saga;, score=0.928 total time=   1.6s\n"
          ]
        },
        {
          "output_type": "stream",
          "name": "stderr",
          "text": [
            "/usr/local/lib/python3.7/dist-packages/sklearn/linear_model/_sag.py:354: ConvergenceWarning: The max_iter was reached which means the coef_ did not converge\n",
            "  ConvergenceWarning,\n",
            "/usr/local/lib/python3.7/dist-packages/sklearn/linear_model/_logistic.py:818: ConvergenceWarning: lbfgs failed to converge (status=1):\n",
            "STOP: TOTAL NO. of ITERATIONS REACHED LIMIT.\n",
            "\n",
            "Increase the number of iterations (max_iter) or scale the data as shown in:\n",
            "    https://scikit-learn.org/stable/modules/preprocessing.html\n",
            "Please also refer to the documentation for alternative solver options:\n",
            "    https://scikit-learn.org/stable/modules/linear_model.html#logistic-regression\n",
            "  extra_warning_msg=_LOGISTIC_SOLVER_CONVERGENCE_MSG,\n"
          ]
        },
        {
          "output_type": "stream",
          "name": "stdout",
          "text": [
            "[CV 5/5] END ......C=1, penalty=l1, solver=saga;, score=0.941 total time=   1.6s\n",
            "[CV 1/5] END .....C=1, penalty=l2, solver=lbfgs;, score=0.912 total time=   0.2s\n"
          ]
        },
        {
          "output_type": "stream",
          "name": "stderr",
          "text": [
            "/usr/local/lib/python3.7/dist-packages/sklearn/linear_model/_logistic.py:818: ConvergenceWarning: lbfgs failed to converge (status=1):\n",
            "STOP: TOTAL NO. of ITERATIONS REACHED LIMIT.\n",
            "\n",
            "Increase the number of iterations (max_iter) or scale the data as shown in:\n",
            "    https://scikit-learn.org/stable/modules/preprocessing.html\n",
            "Please also refer to the documentation for alternative solver options:\n",
            "    https://scikit-learn.org/stable/modules/linear_model.html#logistic-regression\n",
            "  extra_warning_msg=_LOGISTIC_SOLVER_CONVERGENCE_MSG,\n",
            "/usr/local/lib/python3.7/dist-packages/sklearn/linear_model/_logistic.py:818: ConvergenceWarning: lbfgs failed to converge (status=1):\n",
            "STOP: TOTAL NO. of ITERATIONS REACHED LIMIT.\n",
            "\n",
            "Increase the number of iterations (max_iter) or scale the data as shown in:\n",
            "    https://scikit-learn.org/stable/modules/preprocessing.html\n",
            "Please also refer to the documentation for alternative solver options:\n",
            "    https://scikit-learn.org/stable/modules/linear_model.html#logistic-regression\n",
            "  extra_warning_msg=_LOGISTIC_SOLVER_CONVERGENCE_MSG,\n"
          ]
        },
        {
          "output_type": "stream",
          "name": "stdout",
          "text": [
            "[CV 2/5] END .....C=1, penalty=l2, solver=lbfgs;, score=0.924 total time=   0.2s\n",
            "[CV 3/5] END .....C=1, penalty=l2, solver=lbfgs;, score=0.945 total time=   0.2s\n"
          ]
        },
        {
          "output_type": "stream",
          "name": "stderr",
          "text": [
            "/usr/local/lib/python3.7/dist-packages/sklearn/linear_model/_logistic.py:818: ConvergenceWarning: lbfgs failed to converge (status=1):\n",
            "STOP: TOTAL NO. of ITERATIONS REACHED LIMIT.\n",
            "\n",
            "Increase the number of iterations (max_iter) or scale the data as shown in:\n",
            "    https://scikit-learn.org/stable/modules/preprocessing.html\n",
            "Please also refer to the documentation for alternative solver options:\n",
            "    https://scikit-learn.org/stable/modules/linear_model.html#logistic-regression\n",
            "  extra_warning_msg=_LOGISTIC_SOLVER_CONVERGENCE_MSG,\n",
            "/usr/local/lib/python3.7/dist-packages/sklearn/linear_model/_logistic.py:818: ConvergenceWarning: lbfgs failed to converge (status=1):\n",
            "STOP: TOTAL NO. of ITERATIONS REACHED LIMIT.\n",
            "\n",
            "Increase the number of iterations (max_iter) or scale the data as shown in:\n",
            "    https://scikit-learn.org/stable/modules/preprocessing.html\n",
            "Please also refer to the documentation for alternative solver options:\n",
            "    https://scikit-learn.org/stable/modules/linear_model.html#logistic-regression\n",
            "  extra_warning_msg=_LOGISTIC_SOLVER_CONVERGENCE_MSG,\n"
          ]
        },
        {
          "output_type": "stream",
          "name": "stdout",
          "text": [
            "[CV 4/5] END .....C=1, penalty=l2, solver=lbfgs;, score=0.916 total time=   0.2s\n",
            "[CV 5/5] END .....C=1, penalty=l2, solver=lbfgs;, score=0.937 total time=   0.2s\n",
            "[CV 1/5] END .C=1, penalty=l2, solver=liblinear;, score=0.920 total time=   0.3s\n",
            "[CV 2/5] END .C=1, penalty=l2, solver=liblinear;, score=0.920 total time=   0.3s\n",
            "[CV 3/5] END .C=1, penalty=l2, solver=liblinear;, score=0.941 total time=   0.3s\n",
            "[CV 4/5] END .C=1, penalty=l2, solver=liblinear;, score=0.924 total time=   0.3s\n",
            "[CV 5/5] END .C=1, penalty=l2, solver=liblinear;, score=0.937 total time=   0.3s\n"
          ]
        },
        {
          "output_type": "stream",
          "name": "stderr",
          "text": [
            "/usr/local/lib/python3.7/dist-packages/sklearn/linear_model/_sag.py:354: ConvergenceWarning: The max_iter was reached which means the coef_ did not converge\n",
            "  ConvergenceWarning,\n"
          ]
        },
        {
          "output_type": "stream",
          "name": "stdout",
          "text": [
            "[CV 1/5] END .......C=1, penalty=l2, solver=sag;, score=0.903 total time=   1.0s\n"
          ]
        },
        {
          "output_type": "stream",
          "name": "stderr",
          "text": [
            "/usr/local/lib/python3.7/dist-packages/sklearn/linear_model/_sag.py:354: ConvergenceWarning: The max_iter was reached which means the coef_ did not converge\n",
            "  ConvergenceWarning,\n"
          ]
        },
        {
          "output_type": "stream",
          "name": "stdout",
          "text": [
            "[CV 2/5] END .......C=1, penalty=l2, solver=sag;, score=0.920 total time=   1.0s\n"
          ]
        },
        {
          "output_type": "stream",
          "name": "stderr",
          "text": [
            "/usr/local/lib/python3.7/dist-packages/sklearn/linear_model/_sag.py:354: ConvergenceWarning: The max_iter was reached which means the coef_ did not converge\n",
            "  ConvergenceWarning,\n"
          ]
        },
        {
          "output_type": "stream",
          "name": "stdout",
          "text": [
            "[CV 3/5] END .......C=1, penalty=l2, solver=sag;, score=0.937 total time=   1.0s\n"
          ]
        },
        {
          "output_type": "stream",
          "name": "stderr",
          "text": [
            "/usr/local/lib/python3.7/dist-packages/sklearn/linear_model/_sag.py:354: ConvergenceWarning: The max_iter was reached which means the coef_ did not converge\n",
            "  ConvergenceWarning,\n"
          ]
        },
        {
          "output_type": "stream",
          "name": "stdout",
          "text": [
            "[CV 4/5] END .......C=1, penalty=l2, solver=sag;, score=0.932 total time=   1.0s\n"
          ]
        },
        {
          "output_type": "stream",
          "name": "stderr",
          "text": [
            "/usr/local/lib/python3.7/dist-packages/sklearn/linear_model/_sag.py:354: ConvergenceWarning: The max_iter was reached which means the coef_ did not converge\n",
            "  ConvergenceWarning,\n"
          ]
        },
        {
          "output_type": "stream",
          "name": "stdout",
          "text": [
            "[CV 5/5] END .......C=1, penalty=l2, solver=sag;, score=0.945 total time=   1.0s\n"
          ]
        },
        {
          "output_type": "stream",
          "name": "stderr",
          "text": [
            "/usr/local/lib/python3.7/dist-packages/sklearn/linear_model/_sag.py:354: ConvergenceWarning: The max_iter was reached which means the coef_ did not converge\n",
            "  ConvergenceWarning,\n"
          ]
        },
        {
          "output_type": "stream",
          "name": "stdout",
          "text": [
            "[CV 1/5] END ......C=1, penalty=l2, solver=saga;, score=0.891 total time=   1.1s\n"
          ]
        },
        {
          "output_type": "stream",
          "name": "stderr",
          "text": [
            "/usr/local/lib/python3.7/dist-packages/sklearn/linear_model/_sag.py:354: ConvergenceWarning: The max_iter was reached which means the coef_ did not converge\n",
            "  ConvergenceWarning,\n"
          ]
        },
        {
          "output_type": "stream",
          "name": "stdout",
          "text": [
            "[CV 2/5] END ......C=1, penalty=l2, solver=saga;, score=0.907 total time=   1.2s\n"
          ]
        },
        {
          "output_type": "stream",
          "name": "stderr",
          "text": [
            "/usr/local/lib/python3.7/dist-packages/sklearn/linear_model/_sag.py:354: ConvergenceWarning: The max_iter was reached which means the coef_ did not converge\n",
            "  ConvergenceWarning,\n"
          ]
        },
        {
          "output_type": "stream",
          "name": "stdout",
          "text": [
            "[CV 3/5] END ......C=1, penalty=l2, solver=saga;, score=0.928 total time=   1.2s\n"
          ]
        },
        {
          "output_type": "stream",
          "name": "stderr",
          "text": [
            "/usr/local/lib/python3.7/dist-packages/sklearn/linear_model/_sag.py:354: ConvergenceWarning: The max_iter was reached which means the coef_ did not converge\n",
            "  ConvergenceWarning,\n"
          ]
        },
        {
          "output_type": "stream",
          "name": "stdout",
          "text": [
            "[CV 4/5] END ......C=1, penalty=l2, solver=saga;, score=0.937 total time=   1.2s\n"
          ]
        },
        {
          "output_type": "stream",
          "name": "stderr",
          "text": [
            "/usr/local/lib/python3.7/dist-packages/sklearn/linear_model/_sag.py:354: ConvergenceWarning: The max_iter was reached which means the coef_ did not converge\n",
            "  ConvergenceWarning,\n"
          ]
        },
        {
          "output_type": "stream",
          "name": "stdout",
          "text": [
            "[CV 5/5] END ......C=1, penalty=l2, solver=saga;, score=0.941 total time=   1.1s\n",
            "[CV 1/5] END ......C=10, penalty=l1, solver=lbfgs;, score=nan total time=   0.0s\n",
            "[CV 2/5] END ......C=10, penalty=l1, solver=lbfgs;, score=nan total time=   0.0s\n",
            "[CV 3/5] END ......C=10, penalty=l1, solver=lbfgs;, score=nan total time=   0.0s\n",
            "[CV 4/5] END ......C=10, penalty=l1, solver=lbfgs;, score=nan total time=   0.0s\n",
            "[CV 5/5] END ......C=10, penalty=l1, solver=lbfgs;, score=nan total time=   0.0s\n",
            "[CV 1/5] END C=10, penalty=l1, solver=liblinear;, score=0.899 total time=   0.5s\n",
            "[CV 2/5] END C=10, penalty=l1, solver=liblinear;, score=0.945 total time=   0.3s\n",
            "[CV 3/5] END C=10, penalty=l1, solver=liblinear;, score=0.928 total time=   0.5s\n",
            "[CV 4/5] END C=10, penalty=l1, solver=liblinear;, score=0.907 total time=   0.4s\n",
            "[CV 5/5] END C=10, penalty=l1, solver=liblinear;, score=0.941 total time=   0.3s\n",
            "[CV 1/5] END ........C=10, penalty=l1, solver=sag;, score=nan total time=   0.0s\n",
            "[CV 2/5] END ........C=10, penalty=l1, solver=sag;, score=nan total time=   0.0s\n",
            "[CV 3/5] END ........C=10, penalty=l1, solver=sag;, score=nan total time=   0.0s\n",
            "[CV 4/5] END ........C=10, penalty=l1, solver=sag;, score=nan total time=   0.0s\n",
            "[CV 5/5] END ........C=10, penalty=l1, solver=sag;, score=nan total time=   0.0s\n"
          ]
        },
        {
          "output_type": "stream",
          "name": "stderr",
          "text": [
            "/usr/local/lib/python3.7/dist-packages/sklearn/linear_model/_sag.py:354: ConvergenceWarning: The max_iter was reached which means the coef_ did not converge\n",
            "  ConvergenceWarning,\n"
          ]
        },
        {
          "output_type": "stream",
          "name": "stdout",
          "text": [
            "[CV 1/5] END .....C=10, penalty=l1, solver=saga;, score=0.891 total time=   1.7s\n"
          ]
        },
        {
          "output_type": "stream",
          "name": "stderr",
          "text": [
            "/usr/local/lib/python3.7/dist-packages/sklearn/linear_model/_sag.py:354: ConvergenceWarning: The max_iter was reached which means the coef_ did not converge\n",
            "  ConvergenceWarning,\n"
          ]
        },
        {
          "output_type": "stream",
          "name": "stdout",
          "text": [
            "[CV 2/5] END .....C=10, penalty=l1, solver=saga;, score=0.907 total time=   1.7s\n"
          ]
        },
        {
          "output_type": "stream",
          "name": "stderr",
          "text": [
            "/usr/local/lib/python3.7/dist-packages/sklearn/linear_model/_sag.py:354: ConvergenceWarning: The max_iter was reached which means the coef_ did not converge\n",
            "  ConvergenceWarning,\n"
          ]
        },
        {
          "output_type": "stream",
          "name": "stdout",
          "text": [
            "[CV 3/5] END .....C=10, penalty=l1, solver=saga;, score=0.928 total time=   1.7s\n"
          ]
        },
        {
          "output_type": "stream",
          "name": "stderr",
          "text": [
            "/usr/local/lib/python3.7/dist-packages/sklearn/linear_model/_sag.py:354: ConvergenceWarning: The max_iter was reached which means the coef_ did not converge\n",
            "  ConvergenceWarning,\n"
          ]
        },
        {
          "output_type": "stream",
          "name": "stdout",
          "text": [
            "[CV 4/5] END .....C=10, penalty=l1, solver=saga;, score=0.937 total time=   1.7s\n"
          ]
        },
        {
          "output_type": "stream",
          "name": "stderr",
          "text": [
            "/usr/local/lib/python3.7/dist-packages/sklearn/linear_model/_sag.py:354: ConvergenceWarning: The max_iter was reached which means the coef_ did not converge\n",
            "  ConvergenceWarning,\n",
            "/usr/local/lib/python3.7/dist-packages/sklearn/linear_model/_logistic.py:818: ConvergenceWarning: lbfgs failed to converge (status=1):\n",
            "STOP: TOTAL NO. of ITERATIONS REACHED LIMIT.\n",
            "\n",
            "Increase the number of iterations (max_iter) or scale the data as shown in:\n",
            "    https://scikit-learn.org/stable/modules/preprocessing.html\n",
            "Please also refer to the documentation for alternative solver options:\n",
            "    https://scikit-learn.org/stable/modules/linear_model.html#logistic-regression\n",
            "  extra_warning_msg=_LOGISTIC_SOLVER_CONVERGENCE_MSG,\n"
          ]
        },
        {
          "output_type": "stream",
          "name": "stdout",
          "text": [
            "[CV 5/5] END .....C=10, penalty=l1, solver=saga;, score=0.941 total time=   1.7s\n",
            "[CV 1/5] END ....C=10, penalty=l2, solver=lbfgs;, score=0.912 total time=   0.2s\n"
          ]
        },
        {
          "output_type": "stream",
          "name": "stderr",
          "text": [
            "/usr/local/lib/python3.7/dist-packages/sklearn/linear_model/_logistic.py:818: ConvergenceWarning: lbfgs failed to converge (status=1):\n",
            "STOP: TOTAL NO. of ITERATIONS REACHED LIMIT.\n",
            "\n",
            "Increase the number of iterations (max_iter) or scale the data as shown in:\n",
            "    https://scikit-learn.org/stable/modules/preprocessing.html\n",
            "Please also refer to the documentation for alternative solver options:\n",
            "    https://scikit-learn.org/stable/modules/linear_model.html#logistic-regression\n",
            "  extra_warning_msg=_LOGISTIC_SOLVER_CONVERGENCE_MSG,\n",
            "/usr/local/lib/python3.7/dist-packages/sklearn/linear_model/_logistic.py:818: ConvergenceWarning: lbfgs failed to converge (status=1):\n",
            "STOP: TOTAL NO. of ITERATIONS REACHED LIMIT.\n",
            "\n",
            "Increase the number of iterations (max_iter) or scale the data as shown in:\n",
            "    https://scikit-learn.org/stable/modules/preprocessing.html\n",
            "Please also refer to the documentation for alternative solver options:\n",
            "    https://scikit-learn.org/stable/modules/linear_model.html#logistic-regression\n",
            "  extra_warning_msg=_LOGISTIC_SOLVER_CONVERGENCE_MSG,\n"
          ]
        },
        {
          "output_type": "stream",
          "name": "stdout",
          "text": [
            "[CV 2/5] END ....C=10, penalty=l2, solver=lbfgs;, score=0.916 total time=   0.2s\n",
            "[CV 3/5] END ....C=10, penalty=l2, solver=lbfgs;, score=0.941 total time=   0.2s\n"
          ]
        },
        {
          "output_type": "stream",
          "name": "stderr",
          "text": [
            "/usr/local/lib/python3.7/dist-packages/sklearn/linear_model/_logistic.py:818: ConvergenceWarning: lbfgs failed to converge (status=1):\n",
            "STOP: TOTAL NO. of ITERATIONS REACHED LIMIT.\n",
            "\n",
            "Increase the number of iterations (max_iter) or scale the data as shown in:\n",
            "    https://scikit-learn.org/stable/modules/preprocessing.html\n",
            "Please also refer to the documentation for alternative solver options:\n",
            "    https://scikit-learn.org/stable/modules/linear_model.html#logistic-regression\n",
            "  extra_warning_msg=_LOGISTIC_SOLVER_CONVERGENCE_MSG,\n",
            "/usr/local/lib/python3.7/dist-packages/sklearn/linear_model/_logistic.py:818: ConvergenceWarning: lbfgs failed to converge (status=1):\n",
            "STOP: TOTAL NO. of ITERATIONS REACHED LIMIT.\n",
            "\n",
            "Increase the number of iterations (max_iter) or scale the data as shown in:\n",
            "    https://scikit-learn.org/stable/modules/preprocessing.html\n",
            "Please also refer to the documentation for alternative solver options:\n",
            "    https://scikit-learn.org/stable/modules/linear_model.html#logistic-regression\n",
            "  extra_warning_msg=_LOGISTIC_SOLVER_CONVERGENCE_MSG,\n"
          ]
        },
        {
          "output_type": "stream",
          "name": "stdout",
          "text": [
            "[CV 4/5] END ....C=10, penalty=l2, solver=lbfgs;, score=0.911 total time=   0.2s\n",
            "[CV 5/5] END ....C=10, penalty=l2, solver=lbfgs;, score=0.937 total time=   0.2s\n",
            "[CV 1/5] END C=10, penalty=l2, solver=liblinear;, score=0.916 total time=   0.3s\n",
            "[CV 2/5] END C=10, penalty=l2, solver=liblinear;, score=0.920 total time=   0.3s\n",
            "[CV 3/5] END C=10, penalty=l2, solver=liblinear;, score=0.941 total time=   0.3s\n",
            "[CV 4/5] END C=10, penalty=l2, solver=liblinear;, score=0.924 total time=   0.3s\n",
            "[CV 5/5] END C=10, penalty=l2, solver=liblinear;, score=0.932 total time=   0.3s\n"
          ]
        },
        {
          "output_type": "stream",
          "name": "stderr",
          "text": [
            "/usr/local/lib/python3.7/dist-packages/sklearn/linear_model/_sag.py:354: ConvergenceWarning: The max_iter was reached which means the coef_ did not converge\n",
            "  ConvergenceWarning,\n"
          ]
        },
        {
          "output_type": "stream",
          "name": "stdout",
          "text": [
            "[CV 1/5] END ......C=10, penalty=l2, solver=sag;, score=0.903 total time=   1.0s\n"
          ]
        },
        {
          "output_type": "stream",
          "name": "stderr",
          "text": [
            "/usr/local/lib/python3.7/dist-packages/sklearn/linear_model/_sag.py:354: ConvergenceWarning: The max_iter was reached which means the coef_ did not converge\n",
            "  ConvergenceWarning,\n"
          ]
        },
        {
          "output_type": "stream",
          "name": "stdout",
          "text": [
            "[CV 2/5] END ......C=10, penalty=l2, solver=sag;, score=0.916 total time=   1.0s\n"
          ]
        },
        {
          "output_type": "stream",
          "name": "stderr",
          "text": [
            "/usr/local/lib/python3.7/dist-packages/sklearn/linear_model/_sag.py:354: ConvergenceWarning: The max_iter was reached which means the coef_ did not converge\n",
            "  ConvergenceWarning,\n"
          ]
        },
        {
          "output_type": "stream",
          "name": "stdout",
          "text": [
            "[CV 3/5] END ......C=10, penalty=l2, solver=sag;, score=0.932 total time=   1.0s\n"
          ]
        },
        {
          "output_type": "stream",
          "name": "stderr",
          "text": [
            "/usr/local/lib/python3.7/dist-packages/sklearn/linear_model/_sag.py:354: ConvergenceWarning: The max_iter was reached which means the coef_ did not converge\n",
            "  ConvergenceWarning,\n"
          ]
        },
        {
          "output_type": "stream",
          "name": "stdout",
          "text": [
            "[CV 4/5] END ......C=10, penalty=l2, solver=sag;, score=0.932 total time=   1.0s\n"
          ]
        },
        {
          "output_type": "stream",
          "name": "stderr",
          "text": [
            "/usr/local/lib/python3.7/dist-packages/sklearn/linear_model/_sag.py:354: ConvergenceWarning: The max_iter was reached which means the coef_ did not converge\n",
            "  ConvergenceWarning,\n"
          ]
        },
        {
          "output_type": "stream",
          "name": "stdout",
          "text": [
            "[CV 5/5] END ......C=10, penalty=l2, solver=sag;, score=0.945 total time=   1.0s\n"
          ]
        },
        {
          "output_type": "stream",
          "name": "stderr",
          "text": [
            "/usr/local/lib/python3.7/dist-packages/sklearn/linear_model/_sag.py:354: ConvergenceWarning: The max_iter was reached which means the coef_ did not converge\n",
            "  ConvergenceWarning,\n"
          ]
        },
        {
          "output_type": "stream",
          "name": "stdout",
          "text": [
            "[CV 1/5] END .....C=10, penalty=l2, solver=saga;, score=0.891 total time=   1.2s\n"
          ]
        },
        {
          "output_type": "stream",
          "name": "stderr",
          "text": [
            "/usr/local/lib/python3.7/dist-packages/sklearn/linear_model/_sag.py:354: ConvergenceWarning: The max_iter was reached which means the coef_ did not converge\n",
            "  ConvergenceWarning,\n"
          ]
        },
        {
          "output_type": "stream",
          "name": "stdout",
          "text": [
            "[CV 2/5] END .....C=10, penalty=l2, solver=saga;, score=0.907 total time=   1.2s\n"
          ]
        },
        {
          "output_type": "stream",
          "name": "stderr",
          "text": [
            "/usr/local/lib/python3.7/dist-packages/sklearn/linear_model/_sag.py:354: ConvergenceWarning: The max_iter was reached which means the coef_ did not converge\n",
            "  ConvergenceWarning,\n"
          ]
        },
        {
          "output_type": "stream",
          "name": "stdout",
          "text": [
            "[CV 3/5] END .....C=10, penalty=l2, solver=saga;, score=0.928 total time=   1.2s\n"
          ]
        },
        {
          "output_type": "stream",
          "name": "stderr",
          "text": [
            "/usr/local/lib/python3.7/dist-packages/sklearn/linear_model/_sag.py:354: ConvergenceWarning: The max_iter was reached which means the coef_ did not converge\n",
            "  ConvergenceWarning,\n"
          ]
        },
        {
          "output_type": "stream",
          "name": "stdout",
          "text": [
            "[CV 4/5] END .....C=10, penalty=l2, solver=saga;, score=0.937 total time=   1.2s\n"
          ]
        },
        {
          "output_type": "stream",
          "name": "stderr",
          "text": [
            "/usr/local/lib/python3.7/dist-packages/sklearn/linear_model/_sag.py:354: ConvergenceWarning: The max_iter was reached which means the coef_ did not converge\n",
            "  ConvergenceWarning,\n"
          ]
        },
        {
          "output_type": "stream",
          "name": "stdout",
          "text": [
            "[CV 5/5] END .....C=10, penalty=l2, solver=saga;, score=0.941 total time=   1.2s\n",
            "[CV 1/5] END .....C=100, penalty=l1, solver=lbfgs;, score=nan total time=   0.0s\n",
            "[CV 2/5] END .....C=100, penalty=l1, solver=lbfgs;, score=nan total time=   0.0s\n",
            "[CV 3/5] END .....C=100, penalty=l1, solver=lbfgs;, score=nan total time=   0.0s\n",
            "[CV 4/5] END .....C=100, penalty=l1, solver=lbfgs;, score=nan total time=   0.0s\n",
            "[CV 5/5] END .....C=100, penalty=l1, solver=lbfgs;, score=nan total time=   0.0s\n",
            "[CV 1/5] END C=100, penalty=l1, solver=liblinear;, score=0.912 total time=   0.2s\n",
            "[CV 2/5] END C=100, penalty=l1, solver=liblinear;, score=0.916 total time=   0.2s\n",
            "[CV 3/5] END C=100, penalty=l1, solver=liblinear;, score=0.911 total time=   0.2s\n",
            "[CV 4/5] END C=100, penalty=l1, solver=liblinear;, score=0.899 total time=   0.2s\n",
            "[CV 5/5] END C=100, penalty=l1, solver=liblinear;, score=0.920 total time=   0.2s\n",
            "[CV 1/5] END .......C=100, penalty=l1, solver=sag;, score=nan total time=   0.0s\n",
            "[CV 2/5] END .......C=100, penalty=l1, solver=sag;, score=nan total time=   0.0s\n",
            "[CV 3/5] END .......C=100, penalty=l1, solver=sag;, score=nan total time=   0.0s\n",
            "[CV 4/5] END .......C=100, penalty=l1, solver=sag;, score=nan total time=   0.0s\n",
            "[CV 5/5] END .......C=100, penalty=l1, solver=sag;, score=nan total time=   0.0s\n"
          ]
        },
        {
          "output_type": "stream",
          "name": "stderr",
          "text": [
            "/usr/local/lib/python3.7/dist-packages/sklearn/linear_model/_sag.py:354: ConvergenceWarning: The max_iter was reached which means the coef_ did not converge\n",
            "  ConvergenceWarning,\n"
          ]
        },
        {
          "output_type": "stream",
          "name": "stdout",
          "text": [
            "[CV 1/5] END ....C=100, penalty=l1, solver=saga;, score=0.891 total time=   1.8s\n"
          ]
        },
        {
          "output_type": "stream",
          "name": "stderr",
          "text": [
            "/usr/local/lib/python3.7/dist-packages/sklearn/linear_model/_sag.py:354: ConvergenceWarning: The max_iter was reached which means the coef_ did not converge\n",
            "  ConvergenceWarning,\n"
          ]
        },
        {
          "output_type": "stream",
          "name": "stdout",
          "text": [
            "[CV 2/5] END ....C=100, penalty=l1, solver=saga;, score=0.907 total time=   1.8s\n"
          ]
        },
        {
          "output_type": "stream",
          "name": "stderr",
          "text": [
            "/usr/local/lib/python3.7/dist-packages/sklearn/linear_model/_sag.py:354: ConvergenceWarning: The max_iter was reached which means the coef_ did not converge\n",
            "  ConvergenceWarning,\n"
          ]
        },
        {
          "output_type": "stream",
          "name": "stdout",
          "text": [
            "[CV 3/5] END ....C=100, penalty=l1, solver=saga;, score=0.928 total time=   1.8s\n"
          ]
        },
        {
          "output_type": "stream",
          "name": "stderr",
          "text": [
            "/usr/local/lib/python3.7/dist-packages/sklearn/linear_model/_sag.py:354: ConvergenceWarning: The max_iter was reached which means the coef_ did not converge\n",
            "  ConvergenceWarning,\n"
          ]
        },
        {
          "output_type": "stream",
          "name": "stdout",
          "text": [
            "[CV 4/5] END ....C=100, penalty=l1, solver=saga;, score=0.932 total time=   1.8s\n"
          ]
        },
        {
          "output_type": "stream",
          "name": "stderr",
          "text": [
            "/usr/local/lib/python3.7/dist-packages/sklearn/linear_model/_sag.py:354: ConvergenceWarning: The max_iter was reached which means the coef_ did not converge\n",
            "  ConvergenceWarning,\n",
            "/usr/local/lib/python3.7/dist-packages/sklearn/linear_model/_logistic.py:818: ConvergenceWarning: lbfgs failed to converge (status=1):\n",
            "STOP: TOTAL NO. of ITERATIONS REACHED LIMIT.\n",
            "\n",
            "Increase the number of iterations (max_iter) or scale the data as shown in:\n",
            "    https://scikit-learn.org/stable/modules/preprocessing.html\n",
            "Please also refer to the documentation for alternative solver options:\n",
            "    https://scikit-learn.org/stable/modules/linear_model.html#logistic-regression\n",
            "  extra_warning_msg=_LOGISTIC_SOLVER_CONVERGENCE_MSG,\n"
          ]
        },
        {
          "output_type": "stream",
          "name": "stdout",
          "text": [
            "[CV 5/5] END ....C=100, penalty=l1, solver=saga;, score=0.945 total time=   1.8s\n",
            "[CV 1/5] END ...C=100, penalty=l2, solver=lbfgs;, score=0.908 total time=   0.2s\n"
          ]
        },
        {
          "output_type": "stream",
          "name": "stderr",
          "text": [
            "/usr/local/lib/python3.7/dist-packages/sklearn/linear_model/_logistic.py:818: ConvergenceWarning: lbfgs failed to converge (status=1):\n",
            "STOP: TOTAL NO. of ITERATIONS REACHED LIMIT.\n",
            "\n",
            "Increase the number of iterations (max_iter) or scale the data as shown in:\n",
            "    https://scikit-learn.org/stable/modules/preprocessing.html\n",
            "Please also refer to the documentation for alternative solver options:\n",
            "    https://scikit-learn.org/stable/modules/linear_model.html#logistic-regression\n",
            "  extra_warning_msg=_LOGISTIC_SOLVER_CONVERGENCE_MSG,\n",
            "/usr/local/lib/python3.7/dist-packages/sklearn/linear_model/_logistic.py:818: ConvergenceWarning: lbfgs failed to converge (status=1):\n",
            "STOP: TOTAL NO. of ITERATIONS REACHED LIMIT.\n",
            "\n",
            "Increase the number of iterations (max_iter) or scale the data as shown in:\n",
            "    https://scikit-learn.org/stable/modules/preprocessing.html\n",
            "Please also refer to the documentation for alternative solver options:\n",
            "    https://scikit-learn.org/stable/modules/linear_model.html#logistic-regression\n",
            "  extra_warning_msg=_LOGISTIC_SOLVER_CONVERGENCE_MSG,\n"
          ]
        },
        {
          "output_type": "stream",
          "name": "stdout",
          "text": [
            "[CV 2/5] END ...C=100, penalty=l2, solver=lbfgs;, score=0.924 total time=   0.2s\n",
            "[CV 3/5] END ...C=100, penalty=l2, solver=lbfgs;, score=0.937 total time=   0.2s\n"
          ]
        },
        {
          "output_type": "stream",
          "name": "stderr",
          "text": [
            "/usr/local/lib/python3.7/dist-packages/sklearn/linear_model/_logistic.py:818: ConvergenceWarning: lbfgs failed to converge (status=1):\n",
            "STOP: TOTAL NO. of ITERATIONS REACHED LIMIT.\n",
            "\n",
            "Increase the number of iterations (max_iter) or scale the data as shown in:\n",
            "    https://scikit-learn.org/stable/modules/preprocessing.html\n",
            "Please also refer to the documentation for alternative solver options:\n",
            "    https://scikit-learn.org/stable/modules/linear_model.html#logistic-regression\n",
            "  extra_warning_msg=_LOGISTIC_SOLVER_CONVERGENCE_MSG,\n",
            "/usr/local/lib/python3.7/dist-packages/sklearn/linear_model/_logistic.py:818: ConvergenceWarning: lbfgs failed to converge (status=1):\n",
            "STOP: TOTAL NO. of ITERATIONS REACHED LIMIT.\n",
            "\n",
            "Increase the number of iterations (max_iter) or scale the data as shown in:\n",
            "    https://scikit-learn.org/stable/modules/preprocessing.html\n",
            "Please also refer to the documentation for alternative solver options:\n",
            "    https://scikit-learn.org/stable/modules/linear_model.html#logistic-regression\n",
            "  extra_warning_msg=_LOGISTIC_SOLVER_CONVERGENCE_MSG,\n"
          ]
        },
        {
          "output_type": "stream",
          "name": "stdout",
          "text": [
            "[CV 4/5] END ...C=100, penalty=l2, solver=lbfgs;, score=0.907 total time=   0.2s\n",
            "[CV 5/5] END ...C=100, penalty=l2, solver=lbfgs;, score=0.941 total time=   0.2s\n",
            "[CV 1/5] END C=100, penalty=l2, solver=liblinear;, score=0.916 total time=   0.3s\n",
            "[CV 2/5] END C=100, penalty=l2, solver=liblinear;, score=0.920 total time=   0.3s\n",
            "[CV 3/5] END C=100, penalty=l2, solver=liblinear;, score=0.945 total time=   0.3s\n",
            "[CV 4/5] END C=100, penalty=l2, solver=liblinear;, score=0.924 total time=   0.3s\n",
            "[CV 5/5] END C=100, penalty=l2, solver=liblinear;, score=0.932 total time=   0.3s\n"
          ]
        },
        {
          "output_type": "stream",
          "name": "stderr",
          "text": [
            "/usr/local/lib/python3.7/dist-packages/sklearn/linear_model/_sag.py:354: ConvergenceWarning: The max_iter was reached which means the coef_ did not converge\n",
            "  ConvergenceWarning,\n"
          ]
        },
        {
          "output_type": "stream",
          "name": "stdout",
          "text": [
            "[CV 1/5] END .....C=100, penalty=l2, solver=sag;, score=0.903 total time=   1.0s\n"
          ]
        },
        {
          "output_type": "stream",
          "name": "stderr",
          "text": [
            "/usr/local/lib/python3.7/dist-packages/sklearn/linear_model/_sag.py:354: ConvergenceWarning: The max_iter was reached which means the coef_ did not converge\n",
            "  ConvergenceWarning,\n"
          ]
        },
        {
          "output_type": "stream",
          "name": "stdout",
          "text": [
            "[CV 2/5] END .....C=100, penalty=l2, solver=sag;, score=0.920 total time=   1.0s\n"
          ]
        },
        {
          "output_type": "stream",
          "name": "stderr",
          "text": [
            "/usr/local/lib/python3.7/dist-packages/sklearn/linear_model/_sag.py:354: ConvergenceWarning: The max_iter was reached which means the coef_ did not converge\n",
            "  ConvergenceWarning,\n"
          ]
        },
        {
          "output_type": "stream",
          "name": "stdout",
          "text": [
            "[CV 3/5] END .....C=100, penalty=l2, solver=sag;, score=0.937 total time=   1.0s\n"
          ]
        },
        {
          "output_type": "stream",
          "name": "stderr",
          "text": [
            "/usr/local/lib/python3.7/dist-packages/sklearn/linear_model/_sag.py:354: ConvergenceWarning: The max_iter was reached which means the coef_ did not converge\n",
            "  ConvergenceWarning,\n"
          ]
        },
        {
          "output_type": "stream",
          "name": "stdout",
          "text": [
            "[CV 4/5] END .....C=100, penalty=l2, solver=sag;, score=0.932 total time=   1.0s\n"
          ]
        },
        {
          "output_type": "stream",
          "name": "stderr",
          "text": [
            "/usr/local/lib/python3.7/dist-packages/sklearn/linear_model/_sag.py:354: ConvergenceWarning: The max_iter was reached which means the coef_ did not converge\n",
            "  ConvergenceWarning,\n"
          ]
        },
        {
          "output_type": "stream",
          "name": "stdout",
          "text": [
            "[CV 5/5] END .....C=100, penalty=l2, solver=sag;, score=0.945 total time=   1.0s\n"
          ]
        },
        {
          "output_type": "stream",
          "name": "stderr",
          "text": [
            "/usr/local/lib/python3.7/dist-packages/sklearn/linear_model/_sag.py:354: ConvergenceWarning: The max_iter was reached which means the coef_ did not converge\n",
            "  ConvergenceWarning,\n"
          ]
        },
        {
          "output_type": "stream",
          "name": "stdout",
          "text": [
            "[CV 1/5] END ....C=100, penalty=l2, solver=saga;, score=0.891 total time=   1.2s\n"
          ]
        },
        {
          "output_type": "stream",
          "name": "stderr",
          "text": [
            "/usr/local/lib/python3.7/dist-packages/sklearn/linear_model/_sag.py:354: ConvergenceWarning: The max_iter was reached which means the coef_ did not converge\n",
            "  ConvergenceWarning,\n"
          ]
        },
        {
          "output_type": "stream",
          "name": "stdout",
          "text": [
            "[CV 2/5] END ....C=100, penalty=l2, solver=saga;, score=0.907 total time=   1.2s\n"
          ]
        },
        {
          "output_type": "stream",
          "name": "stderr",
          "text": [
            "/usr/local/lib/python3.7/dist-packages/sklearn/linear_model/_sag.py:354: ConvergenceWarning: The max_iter was reached which means the coef_ did not converge\n",
            "  ConvergenceWarning,\n"
          ]
        },
        {
          "output_type": "stream",
          "name": "stdout",
          "text": [
            "[CV 3/5] END ....C=100, penalty=l2, solver=saga;, score=0.928 total time=   1.2s\n"
          ]
        },
        {
          "output_type": "stream",
          "name": "stderr",
          "text": [
            "/usr/local/lib/python3.7/dist-packages/sklearn/linear_model/_sag.py:354: ConvergenceWarning: The max_iter was reached which means the coef_ did not converge\n",
            "  ConvergenceWarning,\n"
          ]
        },
        {
          "output_type": "stream",
          "name": "stdout",
          "text": [
            "[CV 4/5] END ....C=100, penalty=l2, solver=saga;, score=0.932 total time=   1.2s\n"
          ]
        },
        {
          "output_type": "stream",
          "name": "stderr",
          "text": [
            "/usr/local/lib/python3.7/dist-packages/sklearn/linear_model/_sag.py:354: ConvergenceWarning: The max_iter was reached which means the coef_ did not converge\n",
            "  ConvergenceWarning,\n"
          ]
        },
        {
          "output_type": "stream",
          "name": "stdout",
          "text": [
            "[CV 5/5] END ....C=100, penalty=l2, solver=saga;, score=0.941 total time=   1.2s\n",
            "[CV 1/5] END ....C=1000, penalty=l1, solver=lbfgs;, score=nan total time=   0.0s\n",
            "[CV 2/5] END ....C=1000, penalty=l1, solver=lbfgs;, score=nan total time=   0.0s\n",
            "[CV 3/5] END ....C=1000, penalty=l1, solver=lbfgs;, score=nan total time=   0.0s\n",
            "[CV 4/5] END ....C=1000, penalty=l1, solver=lbfgs;, score=nan total time=   0.0s\n",
            "[CV 5/5] END ....C=1000, penalty=l1, solver=lbfgs;, score=nan total time=   0.0s\n",
            "[CV 1/5] END C=1000, penalty=l1, solver=liblinear;, score=0.899 total time=   0.1s\n",
            "[CV 2/5] END C=1000, penalty=l1, solver=liblinear;, score=0.899 total time=   0.2s\n",
            "[CV 3/5] END C=1000, penalty=l1, solver=liblinear;, score=0.932 total time=   0.2s\n",
            "[CV 4/5] END C=1000, penalty=l1, solver=liblinear;, score=0.916 total time=   0.2s\n",
            "[CV 5/5] END C=1000, penalty=l1, solver=liblinear;, score=0.911 total time=   0.1s\n",
            "[CV 1/5] END ......C=1000, penalty=l1, solver=sag;, score=nan total time=   0.0s\n",
            "[CV 2/5] END ......C=1000, penalty=l1, solver=sag;, score=nan total time=   0.0s\n",
            "[CV 3/5] END ......C=1000, penalty=l1, solver=sag;, score=nan total time=   0.0s\n",
            "[CV 4/5] END ......C=1000, penalty=l1, solver=sag;, score=nan total time=   0.0s\n",
            "[CV 5/5] END ......C=1000, penalty=l1, solver=sag;, score=nan total time=   0.0s\n"
          ]
        },
        {
          "output_type": "stream",
          "name": "stderr",
          "text": [
            "/usr/local/lib/python3.7/dist-packages/sklearn/linear_model/_sag.py:354: ConvergenceWarning: The max_iter was reached which means the coef_ did not converge\n",
            "  ConvergenceWarning,\n"
          ]
        },
        {
          "output_type": "stream",
          "name": "stdout",
          "text": [
            "[CV 1/5] END ...C=1000, penalty=l1, solver=saga;, score=0.891 total time=   1.8s\n"
          ]
        },
        {
          "output_type": "stream",
          "name": "stderr",
          "text": [
            "/usr/local/lib/python3.7/dist-packages/sklearn/linear_model/_sag.py:354: ConvergenceWarning: The max_iter was reached which means the coef_ did not converge\n",
            "  ConvergenceWarning,\n"
          ]
        },
        {
          "output_type": "stream",
          "name": "stdout",
          "text": [
            "[CV 2/5] END ...C=1000, penalty=l1, solver=saga;, score=0.907 total time=   1.9s\n"
          ]
        },
        {
          "output_type": "stream",
          "name": "stderr",
          "text": [
            "/usr/local/lib/python3.7/dist-packages/sklearn/linear_model/_sag.py:354: ConvergenceWarning: The max_iter was reached which means the coef_ did not converge\n",
            "  ConvergenceWarning,\n"
          ]
        },
        {
          "output_type": "stream",
          "name": "stdout",
          "text": [
            "[CV 3/5] END ...C=1000, penalty=l1, solver=saga;, score=0.928 total time=   1.8s\n"
          ]
        },
        {
          "output_type": "stream",
          "name": "stderr",
          "text": [
            "/usr/local/lib/python3.7/dist-packages/sklearn/linear_model/_sag.py:354: ConvergenceWarning: The max_iter was reached which means the coef_ did not converge\n",
            "  ConvergenceWarning,\n"
          ]
        },
        {
          "output_type": "stream",
          "name": "stdout",
          "text": [
            "[CV 4/5] END ...C=1000, penalty=l1, solver=saga;, score=0.932 total time=   1.9s\n"
          ]
        },
        {
          "output_type": "stream",
          "name": "stderr",
          "text": [
            "/usr/local/lib/python3.7/dist-packages/sklearn/linear_model/_sag.py:354: ConvergenceWarning: The max_iter was reached which means the coef_ did not converge\n",
            "  ConvergenceWarning,\n",
            "/usr/local/lib/python3.7/dist-packages/sklearn/linear_model/_logistic.py:818: ConvergenceWarning: lbfgs failed to converge (status=1):\n",
            "STOP: TOTAL NO. of ITERATIONS REACHED LIMIT.\n",
            "\n",
            "Increase the number of iterations (max_iter) or scale the data as shown in:\n",
            "    https://scikit-learn.org/stable/modules/preprocessing.html\n",
            "Please also refer to the documentation for alternative solver options:\n",
            "    https://scikit-learn.org/stable/modules/linear_model.html#logistic-regression\n",
            "  extra_warning_msg=_LOGISTIC_SOLVER_CONVERGENCE_MSG,\n"
          ]
        },
        {
          "output_type": "stream",
          "name": "stdout",
          "text": [
            "[CV 5/5] END ...C=1000, penalty=l1, solver=saga;, score=0.941 total time=   1.9s\n",
            "[CV 1/5] END ..C=1000, penalty=l2, solver=lbfgs;, score=0.903 total time=   0.2s\n"
          ]
        },
        {
          "output_type": "stream",
          "name": "stderr",
          "text": [
            "/usr/local/lib/python3.7/dist-packages/sklearn/linear_model/_logistic.py:818: ConvergenceWarning: lbfgs failed to converge (status=1):\n",
            "STOP: TOTAL NO. of ITERATIONS REACHED LIMIT.\n",
            "\n",
            "Increase the number of iterations (max_iter) or scale the data as shown in:\n",
            "    https://scikit-learn.org/stable/modules/preprocessing.html\n",
            "Please also refer to the documentation for alternative solver options:\n",
            "    https://scikit-learn.org/stable/modules/linear_model.html#logistic-regression\n",
            "  extra_warning_msg=_LOGISTIC_SOLVER_CONVERGENCE_MSG,\n",
            "/usr/local/lib/python3.7/dist-packages/sklearn/linear_model/_logistic.py:818: ConvergenceWarning: lbfgs failed to converge (status=1):\n",
            "STOP: TOTAL NO. of ITERATIONS REACHED LIMIT.\n",
            "\n",
            "Increase the number of iterations (max_iter) or scale the data as shown in:\n",
            "    https://scikit-learn.org/stable/modules/preprocessing.html\n",
            "Please also refer to the documentation for alternative solver options:\n",
            "    https://scikit-learn.org/stable/modules/linear_model.html#logistic-regression\n",
            "  extra_warning_msg=_LOGISTIC_SOLVER_CONVERGENCE_MSG,\n"
          ]
        },
        {
          "output_type": "stream",
          "name": "stdout",
          "text": [
            "[CV 2/5] END ..C=1000, penalty=l2, solver=lbfgs;, score=0.920 total time=   0.2s\n",
            "[CV 3/5] END ..C=1000, penalty=l2, solver=lbfgs;, score=0.941 total time=   0.2s\n"
          ]
        },
        {
          "output_type": "stream",
          "name": "stderr",
          "text": [
            "/usr/local/lib/python3.7/dist-packages/sklearn/linear_model/_logistic.py:818: ConvergenceWarning: lbfgs failed to converge (status=1):\n",
            "STOP: TOTAL NO. of ITERATIONS REACHED LIMIT.\n",
            "\n",
            "Increase the number of iterations (max_iter) or scale the data as shown in:\n",
            "    https://scikit-learn.org/stable/modules/preprocessing.html\n",
            "Please also refer to the documentation for alternative solver options:\n",
            "    https://scikit-learn.org/stable/modules/linear_model.html#logistic-regression\n",
            "  extra_warning_msg=_LOGISTIC_SOLVER_CONVERGENCE_MSG,\n",
            "/usr/local/lib/python3.7/dist-packages/sklearn/linear_model/_logistic.py:818: ConvergenceWarning: lbfgs failed to converge (status=1):\n",
            "STOP: TOTAL NO. of ITERATIONS REACHED LIMIT.\n",
            "\n",
            "Increase the number of iterations (max_iter) or scale the data as shown in:\n",
            "    https://scikit-learn.org/stable/modules/preprocessing.html\n",
            "Please also refer to the documentation for alternative solver options:\n",
            "    https://scikit-learn.org/stable/modules/linear_model.html#logistic-regression\n",
            "  extra_warning_msg=_LOGISTIC_SOLVER_CONVERGENCE_MSG,\n"
          ]
        },
        {
          "output_type": "stream",
          "name": "stdout",
          "text": [
            "[CV 4/5] END ..C=1000, penalty=l2, solver=lbfgs;, score=0.903 total time=   0.2s\n",
            "[CV 5/5] END ..C=1000, penalty=l2, solver=lbfgs;, score=0.941 total time=   0.2s\n",
            "[CV 1/5] END C=1000, penalty=l2, solver=liblinear;, score=0.920 total time=   0.6s\n",
            "[CV 2/5] END C=1000, penalty=l2, solver=liblinear;, score=0.928 total time=   0.4s\n",
            "[CV 3/5] END C=1000, penalty=l2, solver=liblinear;, score=0.945 total time=   0.5s\n",
            "[CV 4/5] END C=1000, penalty=l2, solver=liblinear;, score=0.916 total time=   0.5s\n",
            "[CV 5/5] END C=1000, penalty=l2, solver=liblinear;, score=0.937 total time=   0.4s\n"
          ]
        },
        {
          "output_type": "stream",
          "name": "stderr",
          "text": [
            "/usr/local/lib/python3.7/dist-packages/sklearn/linear_model/_sag.py:354: ConvergenceWarning: The max_iter was reached which means the coef_ did not converge\n",
            "  ConvergenceWarning,\n"
          ]
        },
        {
          "output_type": "stream",
          "name": "stdout",
          "text": [
            "[CV 1/5] END ....C=1000, penalty=l2, solver=sag;, score=0.895 total time=   1.2s\n"
          ]
        },
        {
          "output_type": "stream",
          "name": "stderr",
          "text": [
            "/usr/local/lib/python3.7/dist-packages/sklearn/linear_model/_sag.py:354: ConvergenceWarning: The max_iter was reached which means the coef_ did not converge\n",
            "  ConvergenceWarning,\n"
          ]
        },
        {
          "output_type": "stream",
          "name": "stdout",
          "text": [
            "[CV 2/5] END ....C=1000, penalty=l2, solver=sag;, score=0.916 total time=   1.0s\n"
          ]
        },
        {
          "output_type": "stream",
          "name": "stderr",
          "text": [
            "/usr/local/lib/python3.7/dist-packages/sklearn/linear_model/_sag.py:354: ConvergenceWarning: The max_iter was reached which means the coef_ did not converge\n",
            "  ConvergenceWarning,\n"
          ]
        },
        {
          "output_type": "stream",
          "name": "stdout",
          "text": [
            "[CV 3/5] END ....C=1000, penalty=l2, solver=sag;, score=0.932 total time=   1.0s\n"
          ]
        },
        {
          "output_type": "stream",
          "name": "stderr",
          "text": [
            "/usr/local/lib/python3.7/dist-packages/sklearn/linear_model/_sag.py:354: ConvergenceWarning: The max_iter was reached which means the coef_ did not converge\n",
            "  ConvergenceWarning,\n"
          ]
        },
        {
          "output_type": "stream",
          "name": "stdout",
          "text": [
            "[CV 4/5] END ....C=1000, penalty=l2, solver=sag;, score=0.928 total time=   1.0s\n"
          ]
        },
        {
          "output_type": "stream",
          "name": "stderr",
          "text": [
            "/usr/local/lib/python3.7/dist-packages/sklearn/linear_model/_sag.py:354: ConvergenceWarning: The max_iter was reached which means the coef_ did not converge\n",
            "  ConvergenceWarning,\n"
          ]
        },
        {
          "output_type": "stream",
          "name": "stdout",
          "text": [
            "[CV 5/5] END ....C=1000, penalty=l2, solver=sag;, score=0.945 total time=   1.0s\n"
          ]
        },
        {
          "output_type": "stream",
          "name": "stderr",
          "text": [
            "/usr/local/lib/python3.7/dist-packages/sklearn/linear_model/_sag.py:354: ConvergenceWarning: The max_iter was reached which means the coef_ did not converge\n",
            "  ConvergenceWarning,\n"
          ]
        },
        {
          "output_type": "stream",
          "name": "stdout",
          "text": [
            "[CV 1/5] END ...C=1000, penalty=l2, solver=saga;, score=0.891 total time=   1.2s\n"
          ]
        },
        {
          "output_type": "stream",
          "name": "stderr",
          "text": [
            "/usr/local/lib/python3.7/dist-packages/sklearn/linear_model/_sag.py:354: ConvergenceWarning: The max_iter was reached which means the coef_ did not converge\n",
            "  ConvergenceWarning,\n"
          ]
        },
        {
          "output_type": "stream",
          "name": "stdout",
          "text": [
            "[CV 2/5] END ...C=1000, penalty=l2, solver=saga;, score=0.911 total time=   1.2s\n"
          ]
        },
        {
          "output_type": "stream",
          "name": "stderr",
          "text": [
            "/usr/local/lib/python3.7/dist-packages/sklearn/linear_model/_sag.py:354: ConvergenceWarning: The max_iter was reached which means the coef_ did not converge\n",
            "  ConvergenceWarning,\n"
          ]
        },
        {
          "output_type": "stream",
          "name": "stdout",
          "text": [
            "[CV 3/5] END ...C=1000, penalty=l2, solver=saga;, score=0.928 total time=   1.2s\n"
          ]
        },
        {
          "output_type": "stream",
          "name": "stderr",
          "text": [
            "/usr/local/lib/python3.7/dist-packages/sklearn/linear_model/_sag.py:354: ConvergenceWarning: The max_iter was reached which means the coef_ did not converge\n",
            "  ConvergenceWarning,\n"
          ]
        },
        {
          "output_type": "stream",
          "name": "stdout",
          "text": [
            "[CV 4/5] END ...C=1000, penalty=l2, solver=saga;, score=0.937 total time=   1.2s\n"
          ]
        },
        {
          "output_type": "stream",
          "name": "stderr",
          "text": [
            "/usr/local/lib/python3.7/dist-packages/sklearn/linear_model/_sag.py:354: ConvergenceWarning: The max_iter was reached which means the coef_ did not converge\n",
            "  ConvergenceWarning,\n",
            "/usr/local/lib/python3.7/dist-packages/sklearn/model_selection/_validation.py:372: FitFailedWarning: \n",
            "60 fits failed out of a total of 240.\n",
            "The score on these train-test partitions for these parameters will be set to nan.\n",
            "If these failures are not expected, you can try to debug them by setting error_score='raise'.\n",
            "\n",
            "Below are more details about the failures:\n",
            "--------------------------------------------------------------------------------\n",
            "30 fits failed with the following error:\n",
            "Traceback (most recent call last):\n",
            "  File \"/usr/local/lib/python3.7/dist-packages/sklearn/model_selection/_validation.py\", line 680, in _fit_and_score\n",
            "    estimator.fit(X_train, y_train, **fit_params)\n",
            "  File \"/usr/local/lib/python3.7/dist-packages/sklearn/linear_model/_logistic.py\", line 1461, in fit\n",
            "    solver = _check_solver(self.solver, self.penalty, self.dual)\n",
            "  File \"/usr/local/lib/python3.7/dist-packages/sklearn/linear_model/_logistic.py\", line 449, in _check_solver\n",
            "    % (solver, penalty)\n",
            "ValueError: Solver lbfgs supports only 'l2' or 'none' penalties, got l1 penalty.\n",
            "\n",
            "--------------------------------------------------------------------------------\n",
            "30 fits failed with the following error:\n",
            "Traceback (most recent call last):\n",
            "  File \"/usr/local/lib/python3.7/dist-packages/sklearn/model_selection/_validation.py\", line 680, in _fit_and_score\n",
            "    estimator.fit(X_train, y_train, **fit_params)\n",
            "  File \"/usr/local/lib/python3.7/dist-packages/sklearn/linear_model/_logistic.py\", line 1461, in fit\n",
            "    solver = _check_solver(self.solver, self.penalty, self.dual)\n",
            "  File \"/usr/local/lib/python3.7/dist-packages/sklearn/linear_model/_logistic.py\", line 449, in _check_solver\n",
            "    % (solver, penalty)\n",
            "ValueError: Solver sag supports only 'l2' or 'none' penalties, got l1 penalty.\n",
            "\n",
            "  warnings.warn(some_fits_failed_message, FitFailedWarning)\n",
            "/usr/local/lib/python3.7/dist-packages/sklearn/model_selection/_search.py:972: UserWarning: One or more of the test scores are non-finite: [       nan 0.8389533         nan 0.8389533  0.92245151 0.92160763\n",
            " 0.92329539 0.91907953        nan 0.9013651         nan 0.9013651\n",
            " 0.92496543 0.92496543 0.92666738 0.91907953        nan 0.91908308\n",
            "        nan 0.91992341 0.92665674 0.92833741 0.92750771 0.92076729\n",
            "        nan 0.92413573        nan 0.92076729 0.92328121 0.92665319\n",
            " 0.92581995 0.92076729        nan 0.91146687        nan 0.92076729\n",
            " 0.92328476 0.92749707 0.92750771 0.91992341        nan 0.9114775\n",
            "        nan 0.91992341 0.92160054 0.92918129 0.92329539 0.92245506]\n",
            "  category=UserWarning,\n"
          ]
        },
        {
          "output_type": "stream",
          "name": "stdout",
          "text": [
            "[CV 5/5] END ...C=1000, penalty=l2, solver=saga;, score=0.945 total time=   1.2s\n"
          ]
        },
        {
          "output_type": "execute_result",
          "data": {
            "text/plain": [
              "GridSearchCV(cv=5, estimator=LogisticRegression(),\n",
              "             param_grid={'C': [0.01, 0.1, 1, 10, 100, 1000],\n",
              "                         'penalty': ['l1', 'l2'],\n",
              "                         'solver': ['lbfgs', 'liblinear', 'sag', 'saga']},\n",
              "             verbose=3)"
            ]
          },
          "metadata": {},
          "execution_count": 114
        }
      ]
    },
    {
      "cell_type": "code",
      "source": [
        "# print best parameter after tuning\n",
        "print(grid.best_params_)\n",
        "# print how our model looks after hyper-parameter tuning\n",
        "print(grid.best_estimator_)\n",
        "clf_lr=grid.best_estimator_"
      ],
      "metadata": {
        "colab": {
          "base_uri": "https://localhost:8080/"
        },
        "id": "fC1VyOL2CxAV",
        "outputId": "b9c98b02-922f-43e2-aa83-50b349f7bbe1"
      },
      "execution_count": null,
      "outputs": [
        {
          "output_type": "stream",
          "name": "stdout",
          "text": [
            "{'C': 1000, 'penalty': 'l2', 'solver': 'liblinear'}\n",
            "LogisticRegression(C=1000, solver='liblinear')\n"
          ]
        }
      ]
    },
    {
      "cell_type": "code",
      "source": [
        "clf_lr.fit(x_train,y_train)\n",
        "y_pred=clf_lr.predict(x_test)\n",
        "from sklearn.metrics import classification_report\n",
        "cpr=classification_report(y_test,y_pred)\n",
        "print(cpr)"
      ],
      "metadata": {
        "id": "NdTDIX2_Cxay",
        "colab": {
          "base_uri": "https://localhost:8080/"
        },
        "outputId": "3550fabc-a63c-4f73-8d66-0a589d71f35e"
      },
      "execution_count": null,
      "outputs": [
        {
          "output_type": "stream",
          "name": "stdout",
          "text": [
            "              precision    recall  f1-score   support\n",
            "\n",
            "           0       0.93      0.91      0.92       139\n",
            "           1       0.93      0.94      0.93       158\n",
            "\n",
            "    accuracy                           0.93       297\n",
            "   macro avg       0.93      0.93      0.93       297\n",
            "weighted avg       0.93      0.93      0.93       297\n",
            "\n"
          ]
        }
      ]
    },
    {
      "cell_type": "code",
      "source": [
        "from sklearn.metrics import accuracy_score,precision_score,f1_score,recall_score\n",
        "acc=accuracy_score(y_pred,y_test)\n",
        "print('%.2f'%(acc*100))\n",
        "pre=precision_score(y_pred,y_test)\n",
        "print('%.2f'%(pre*100))\n",
        "rec=recall_score(y_pred,y_test)\n",
        "print('%.2f'%(rec*100))\n",
        "f1=f1_score(y_pred,y_test)\n",
        "print('%.2f'%(f1*100))"
      ],
      "metadata": {
        "id": "Hu8oT2snEpqD",
        "colab": {
          "base_uri": "https://localhost:8080/"
        },
        "outputId": "9bd688e9-eb0e-494a-9a47-f59dfdef13f9"
      },
      "execution_count": null,
      "outputs": [
        {
          "output_type": "stream",
          "name": "stdout",
          "text": [
            "92.59\n",
            "93.67\n",
            "92.50\n",
            "93.08\n"
          ]
        }
      ]
    },
    {
      "cell_type": "code",
      "source": [
        "from sklearn.model_selection import GridSearchCV\n",
        "from sklearn.neighbors import KNeighborsClassifier\n",
        " # defining parameter range\n",
        "param_grid = {'n_neighbors': [ 1,3,5,7,10,15,20],\n",
        "              'p': [1,2,3]}\n",
        "grid = GridSearchCV(KNeighborsClassifier(), param_grid, refit = True, verbose = 3,cv=5)\n",
        "# fitting the model for grid search\n",
        "grid.fit(x_train, y_train)"
      ],
      "metadata": {
        "colab": {
          "base_uri": "https://localhost:8080/"
        },
        "id": "0gvyPJ-fEuym",
        "outputId": "d94a3d52-f87e-4097-b7bc-a1ad2e5d4cc5"
      },
      "execution_count": null,
      "outputs": [
        {
          "output_type": "stream",
          "name": "stdout",
          "text": [
            "Fitting 5 folds for each of 21 candidates, totalling 105 fits\n",
            "[CV 1/5] END ................n_neighbors=1, p=1;, score=0.894 total time=   1.0s\n",
            "[CV 2/5] END ................n_neighbors=1, p=1;, score=0.909 total time=   1.0s\n",
            "[CV 3/5] END ................n_neighbors=1, p=1;, score=0.885 total time=   1.0s\n",
            "[CV 4/5] END ................n_neighbors=1, p=1;, score=0.947 total time=   0.9s\n",
            "[CV 5/5] END ................n_neighbors=1, p=1;, score=0.894 total time=   1.0s\n",
            "[CV 1/5] END ................n_neighbors=1, p=2;, score=0.880 total time=   0.1s\n",
            "[CV 2/5] END ................n_neighbors=1, p=2;, score=0.894 total time=   0.1s\n",
            "[CV 3/5] END ................n_neighbors=1, p=2;, score=0.875 total time=   0.1s\n",
            "[CV 4/5] END ................n_neighbors=1, p=2;, score=0.923 total time=   0.1s\n",
            "[CV 5/5] END ................n_neighbors=1, p=2;, score=0.894 total time=   0.1s\n",
            "[CV 1/5] END ................n_neighbors=1, p=3;, score=0.880 total time=  38.0s\n",
            "[CV 2/5] END ................n_neighbors=1, p=3;, score=0.904 total time=  37.8s\n",
            "[CV 3/5] END ................n_neighbors=1, p=3;, score=0.880 total time=  39.1s\n",
            "[CV 4/5] END ................n_neighbors=1, p=3;, score=0.903 total time=  37.6s\n",
            "[CV 5/5] END ................n_neighbors=1, p=3;, score=0.870 total time=  37.6s\n",
            "[CV 1/5] END ................n_neighbors=3, p=1;, score=0.894 total time=   1.0s\n",
            "[CV 2/5] END ................n_neighbors=3, p=1;, score=0.918 total time=   1.0s\n",
            "[CV 3/5] END ................n_neighbors=3, p=1;, score=0.913 total time=   1.0s\n",
            "[CV 4/5] END ................n_neighbors=3, p=1;, score=0.932 total time=   1.0s\n",
            "[CV 5/5] END ................n_neighbors=3, p=1;, score=0.894 total time=   1.0s\n",
            "[CV 1/5] END ................n_neighbors=3, p=2;, score=0.899 total time=   0.1s\n",
            "[CV 2/5] END ................n_neighbors=3, p=2;, score=0.909 total time=   0.1s\n",
            "[CV 3/5] END ................n_neighbors=3, p=2;, score=0.904 total time=   0.1s\n",
            "[CV 4/5] END ................n_neighbors=3, p=2;, score=0.937 total time=   0.1s\n",
            "[CV 5/5] END ................n_neighbors=3, p=2;, score=0.899 total time=   0.1s\n",
            "[CV 1/5] END ................n_neighbors=3, p=3;, score=0.894 total time=  39.0s\n",
            "[CV 2/5] END ................n_neighbors=3, p=3;, score=0.904 total time=  37.8s\n",
            "[CV 3/5] END ................n_neighbors=3, p=3;, score=0.894 total time=  37.8s\n",
            "[CV 4/5] END ................n_neighbors=3, p=3;, score=0.894 total time=  38.8s\n",
            "[CV 5/5] END ................n_neighbors=3, p=3;, score=0.874 total time=  37.7s\n",
            "[CV 1/5] END ................n_neighbors=5, p=1;, score=0.875 total time=   1.0s\n",
            "[CV 2/5] END ................n_neighbors=5, p=1;, score=0.913 total time=   0.9s\n",
            "[CV 3/5] END ................n_neighbors=5, p=1;, score=0.894 total time=   0.9s\n",
            "[CV 4/5] END ................n_neighbors=5, p=1;, score=0.918 total time=   0.9s\n",
            "[CV 5/5] END ................n_neighbors=5, p=1;, score=0.903 total time=   1.0s\n",
            "[CV 1/5] END ................n_neighbors=5, p=2;, score=0.899 total time=   0.1s\n",
            "[CV 2/5] END ................n_neighbors=5, p=2;, score=0.909 total time=   0.1s\n",
            "[CV 3/5] END ................n_neighbors=5, p=2;, score=0.909 total time=   0.1s\n",
            "[CV 4/5] END ................n_neighbors=5, p=2;, score=0.947 total time=   0.1s\n",
            "[CV 5/5] END ................n_neighbors=5, p=2;, score=0.908 total time=   0.1s\n",
            "[CV 1/5] END ................n_neighbors=5, p=3;, score=0.894 total time=  37.7s\n",
            "[CV 2/5] END ................n_neighbors=5, p=3;, score=0.913 total time=  39.0s\n",
            "[CV 3/5] END ................n_neighbors=5, p=3;, score=0.889 total time=  37.6s\n",
            "[CV 4/5] END ................n_neighbors=5, p=3;, score=0.913 total time=  37.6s\n",
            "[CV 5/5] END ................n_neighbors=5, p=3;, score=0.865 total time=  37.8s\n",
            "[CV 1/5] END ................n_neighbors=7, p=1;, score=0.894 total time=   0.9s\n",
            "[CV 2/5] END ................n_neighbors=7, p=1;, score=0.904 total time=   1.1s\n",
            "[CV 3/5] END ................n_neighbors=7, p=1;, score=0.899 total time=   1.1s\n",
            "[CV 4/5] END ................n_neighbors=7, p=1;, score=0.932 total time=   1.1s\n",
            "[CV 5/5] END ................n_neighbors=7, p=1;, score=0.908 total time=   1.0s\n",
            "[CV 1/5] END ................n_neighbors=7, p=2;, score=0.885 total time=   0.1s\n",
            "[CV 2/5] END ................n_neighbors=7, p=2;, score=0.909 total time=   0.1s\n",
            "[CV 3/5] END ................n_neighbors=7, p=2;, score=0.904 total time=   0.1s\n",
            "[CV 4/5] END ................n_neighbors=7, p=2;, score=0.928 total time=   0.1s\n",
            "[CV 5/5] END ................n_neighbors=7, p=2;, score=0.918 total time=   0.1s\n",
            "[CV 1/5] END ................n_neighbors=7, p=3;, score=0.870 total time=  37.9s\n",
            "[CV 2/5] END ................n_neighbors=7, p=3;, score=0.899 total time=  37.7s\n",
            "[CV 3/5] END ................n_neighbors=7, p=3;, score=0.909 total time=  37.9s\n",
            "[CV 4/5] END ................n_neighbors=7, p=3;, score=0.923 total time=  38.6s\n",
            "[CV 5/5] END ................n_neighbors=7, p=3;, score=0.874 total time=  37.8s\n",
            "[CV 1/5] END ...............n_neighbors=10, p=1;, score=0.875 total time=   0.9s\n",
            "[CV 2/5] END ...............n_neighbors=10, p=1;, score=0.909 total time=   1.0s\n",
            "[CV 3/5] END ...............n_neighbors=10, p=1;, score=0.904 total time=   0.9s\n",
            "[CV 4/5] END ...............n_neighbors=10, p=1;, score=0.923 total time=   0.9s\n",
            "[CV 5/5] END ...............n_neighbors=10, p=1;, score=0.913 total time=   1.0s\n",
            "[CV 1/5] END ...............n_neighbors=10, p=2;, score=0.885 total time=   0.1s\n",
            "[CV 2/5] END ...............n_neighbors=10, p=2;, score=0.928 total time=   0.1s\n",
            "[CV 3/5] END ...............n_neighbors=10, p=2;, score=0.894 total time=   0.1s\n",
            "[CV 4/5] END ...............n_neighbors=10, p=2;, score=0.923 total time=   0.1s\n",
            "[CV 5/5] END ...............n_neighbors=10, p=2;, score=0.908 total time=   0.1s\n",
            "[CV 1/5] END ...............n_neighbors=10, p=3;, score=0.875 total time=  37.8s\n",
            "[CV 2/5] END ...............n_neighbors=10, p=3;, score=0.904 total time=  39.0s\n",
            "[CV 3/5] END ...............n_neighbors=10, p=3;, score=0.894 total time=  37.8s\n",
            "[CV 4/5] END ...............n_neighbors=10, p=3;, score=0.918 total time=  37.7s\n",
            "[CV 5/5] END ...............n_neighbors=10, p=3;, score=0.870 total time=  38.7s\n",
            "[CV 1/5] END ...............n_neighbors=15, p=1;, score=0.856 total time=   1.0s\n",
            "[CV 2/5] END ...............n_neighbors=15, p=1;, score=0.909 total time=   0.9s\n",
            "[CV 3/5] END ...............n_neighbors=15, p=1;, score=0.880 total time=   1.0s\n",
            "[CV 4/5] END ...............n_neighbors=15, p=1;, score=0.913 total time=   1.0s\n",
            "[CV 5/5] END ...............n_neighbors=15, p=1;, score=0.903 total time=   0.9s\n",
            "[CV 1/5] END ...............n_neighbors=15, p=2;, score=0.865 total time=   0.1s\n",
            "[CV 2/5] END ...............n_neighbors=15, p=2;, score=0.913 total time=   0.1s\n",
            "[CV 3/5] END ...............n_neighbors=15, p=2;, score=0.909 total time=   0.1s\n",
            "[CV 4/5] END ...............n_neighbors=15, p=2;, score=0.928 total time=   0.1s\n",
            "[CV 5/5] END ...............n_neighbors=15, p=2;, score=0.870 total time=   0.1s\n",
            "[CV 1/5] END ...............n_neighbors=15, p=3;, score=0.865 total time=  37.9s\n",
            "[CV 2/5] END ...............n_neighbors=15, p=3;, score=0.870 total time=  37.6s\n",
            "[CV 3/5] END ...............n_neighbors=15, p=3;, score=0.918 total time=  39.0s\n",
            "[CV 4/5] END ...............n_neighbors=15, p=3;, score=0.937 total time=  37.5s\n",
            "[CV 5/5] END ...............n_neighbors=15, p=3;, score=0.870 total time=  37.7s\n",
            "[CV 1/5] END ...............n_neighbors=20, p=1;, score=0.870 total time=   1.0s\n",
            "[CV 2/5] END ...............n_neighbors=20, p=1;, score=0.918 total time=   1.0s\n",
            "[CV 3/5] END ...............n_neighbors=20, p=1;, score=0.913 total time=   1.0s\n",
            "[CV 4/5] END ...............n_neighbors=20, p=1;, score=0.913 total time=   1.0s\n",
            "[CV 5/5] END ...............n_neighbors=20, p=1;, score=0.874 total time=   1.0s\n",
            "[CV 1/5] END ...............n_neighbors=20, p=2;, score=0.865 total time=   0.1s\n",
            "[CV 2/5] END ...............n_neighbors=20, p=2;, score=0.909 total time=   0.1s\n",
            "[CV 3/5] END ...............n_neighbors=20, p=2;, score=0.885 total time=   0.1s\n",
            "[CV 4/5] END ...............n_neighbors=20, p=2;, score=0.918 total time=   0.1s\n",
            "[CV 5/5] END ...............n_neighbors=20, p=2;, score=0.870 total time=   0.1s\n",
            "[CV 1/5] END ...............n_neighbors=20, p=3;, score=0.865 total time=  39.0s\n",
            "[CV 2/5] END ...............n_neighbors=20, p=3;, score=0.875 total time=  37.8s\n",
            "[CV 3/5] END ...............n_neighbors=20, p=3;, score=0.889 total time=  37.7s\n",
            "[CV 4/5] END ...............n_neighbors=20, p=3;, score=0.908 total time=  38.8s\n",
            "[CV 5/5] END ...............n_neighbors=20, p=3;, score=0.845 total time=  37.6s\n"
          ]
        },
        {
          "output_type": "execute_result",
          "data": {
            "text/plain": [
              "GridSearchCV(cv=5, estimator=KNeighborsClassifier(),\n",
              "             param_grid={'n_neighbors': [1, 3, 5, 7, 10, 15, 20],\n",
              "                         'p': [1, 2, 3]},\n",
              "             verbose=3)"
            ]
          },
          "metadata": {},
          "execution_count": 93
        }
      ]
    },
    {
      "cell_type": "code",
      "source": [
        "# print best parameter after tuning\n",
        "print(grid.best_params_)\n",
        "# print how our model looks after hyper-parameter tuning\n",
        "print(grid.best_estimator_)\n",
        "clf_kn=grid.best_estimator_"
      ],
      "metadata": {
        "id": "JAftgL-bGGyB",
        "colab": {
          "base_uri": "https://localhost:8080/"
        },
        "outputId": "49bf81b9-55cb-4c96-f093-a9fef74756b6"
      },
      "execution_count": null,
      "outputs": [
        {
          "output_type": "stream",
          "name": "stdout",
          "text": [
            "{'n_neighbors': 5, 'p': 2}\n",
            "KNeighborsClassifier()\n"
          ]
        }
      ]
    },
    {
      "cell_type": "code",
      "source": [
        "clf_kn.fit(x_train,y_train)\n",
        "y_pred=clf_kn.predict(x_test)\n",
        "from sklearn.metrics import classification_report\n",
        "cpr=classification_report(y_test,y_pred)\n",
        "print(cpr)"
      ],
      "metadata": {
        "id": "3smac4i-FQzk",
        "colab": {
          "base_uri": "https://localhost:8080/"
        },
        "outputId": "941d9b16-ede5-4df8-a5f1-ed7287ca3681"
      },
      "execution_count": null,
      "outputs": [
        {
          "output_type": "stream",
          "name": "stdout",
          "text": [
            "              precision    recall  f1-score   support\n",
            "\n",
            "           0       0.90      0.86      0.88       206\n",
            "           1       0.89      0.92      0.90       239\n",
            "\n",
            "    accuracy                           0.89       445\n",
            "   macro avg       0.89      0.89      0.89       445\n",
            "weighted avg       0.89      0.89      0.89       445\n",
            "\n"
          ]
        }
      ]
    },
    {
      "cell_type": "code",
      "source": [
        "from sklearn.metrics import accuracy_score,precision_score,f1_score,recall_score\n",
        "acc=accuracy_score(y_pred,y_test)\n",
        "print('%.2f'%(acc*100))\n",
        "pre=precision_score(y_pred,y_test)\n",
        "print('%.2f'%(pre*100))\n",
        "rec=recall_score(y_pred,y_test)\n",
        "print('%.2f'%(rec*100))\n",
        "f1=f1_score(y_pred,y_test)\n",
        "print('%.2f'%(f1*100))"
      ],
      "metadata": {
        "id": "5ehSCDs_GSgC",
        "colab": {
          "base_uri": "https://localhost:8080/"
        },
        "outputId": "97e4a72a-a2b5-49ad-d70b-a45d765faf5b"
      },
      "execution_count": null,
      "outputs": [
        {
          "output_type": "stream",
          "name": "stdout",
          "text": [
            "89.21\n",
            "91.63\n",
            "88.66\n",
            "90.12\n"
          ]
        }
      ]
    },
    {
      "cell_type": "code",
      "execution_count": null,
      "metadata": {
        "colab": {
          "base_uri": "https://localhost:8080/"
        },
        "id": "jwD57WlEufJO",
        "outputId": "0fda10cc-622e-4e09-e65b-c8f78e85ec04"
      },
      "outputs": [
        {
          "output_type": "stream",
          "name": "stdout",
          "text": [
            "Fitting 5 folds for each of 96 candidates, totalling 480 fits\n",
            "[CV 1/5] END ....C=0.01, gamma=1000, kernel=rbf;, score=0.519 total time=   4.0s\n",
            "[CV 2/5] END ....C=0.01, gamma=1000, kernel=rbf;, score=0.519 total time=   4.0s\n",
            "[CV 3/5] END ....C=0.01, gamma=1000, kernel=rbf;, score=0.519 total time=   4.0s\n",
            "[CV 4/5] END ....C=0.01, gamma=1000, kernel=rbf;, score=0.522 total time=   4.0s\n",
            "[CV 5/5] END ....C=0.01, gamma=1000, kernel=rbf;, score=0.517 total time=   4.0s\n",
            "[CV 1/5] END .C=0.01, gamma=1000, kernel=linear;, score=0.899 total time=   1.0s\n",
            "[CV 2/5] END .C=0.01, gamma=1000, kernel=linear;, score=0.913 total time=   1.0s\n",
            "[CV 3/5] END .C=0.01, gamma=1000, kernel=linear;, score=0.918 total time=   1.1s\n",
            "[CV 4/5] END .C=0.01, gamma=1000, kernel=linear;, score=0.928 total time=   1.1s\n",
            "[CV 5/5] END .C=0.01, gamma=1000, kernel=linear;, score=0.937 total time=   1.1s\n",
            "[CV 1/5] END .....C=0.01, gamma=100, kernel=rbf;, score=0.519 total time=   4.0s\n",
            "[CV 2/5] END .....C=0.01, gamma=100, kernel=rbf;, score=0.519 total time=   4.0s\n",
            "[CV 3/5] END .....C=0.01, gamma=100, kernel=rbf;, score=0.519 total time=   4.0s\n",
            "[CV 4/5] END .....C=0.01, gamma=100, kernel=rbf;, score=0.522 total time=   4.0s\n",
            "[CV 5/5] END .....C=0.01, gamma=100, kernel=rbf;, score=0.517 total time=   4.0s\n",
            "[CV 1/5] END ..C=0.01, gamma=100, kernel=linear;, score=0.899 total time=   0.9s\n",
            "[CV 2/5] END ..C=0.01, gamma=100, kernel=linear;, score=0.913 total time=   1.0s\n",
            "[CV 3/5] END ..C=0.01, gamma=100, kernel=linear;, score=0.918 total time=   1.1s\n",
            "[CV 4/5] END ..C=0.01, gamma=100, kernel=linear;, score=0.928 total time=   1.1s\n",
            "[CV 5/5] END ..C=0.01, gamma=100, kernel=linear;, score=0.937 total time=   1.0s\n",
            "[CV 1/5] END ......C=0.01, gamma=10, kernel=rbf;, score=0.519 total time=   4.0s\n",
            "[CV 2/5] END ......C=0.01, gamma=10, kernel=rbf;, score=0.519 total time=   4.0s\n",
            "[CV 3/5] END ......C=0.01, gamma=10, kernel=rbf;, score=0.519 total time=   4.0s\n",
            "[CV 4/5] END ......C=0.01, gamma=10, kernel=rbf;, score=0.522 total time=   4.0s\n",
            "[CV 5/5] END ......C=0.01, gamma=10, kernel=rbf;, score=0.517 total time=   4.0s\n",
            "[CV 1/5] END ...C=0.01, gamma=10, kernel=linear;, score=0.899 total time=   1.0s\n",
            "[CV 2/5] END ...C=0.01, gamma=10, kernel=linear;, score=0.913 total time=   1.0s\n",
            "[CV 3/5] END ...C=0.01, gamma=10, kernel=linear;, score=0.918 total time=   1.1s\n",
            "[CV 4/5] END ...C=0.01, gamma=10, kernel=linear;, score=0.928 total time=   1.1s\n",
            "[CV 5/5] END ...C=0.01, gamma=10, kernel=linear;, score=0.937 total time=   1.1s\n",
            "[CV 1/5] END .......C=0.01, gamma=1, kernel=rbf;, score=0.519 total time=   4.0s\n",
            "[CV 2/5] END .......C=0.01, gamma=1, kernel=rbf;, score=0.519 total time=   4.0s\n",
            "[CV 3/5] END .......C=0.01, gamma=1, kernel=rbf;, score=0.519 total time=   4.0s\n",
            "[CV 4/5] END .......C=0.01, gamma=1, kernel=rbf;, score=0.522 total time=   4.0s\n",
            "[CV 5/5] END .......C=0.01, gamma=1, kernel=rbf;, score=0.517 total time=   4.0s\n",
            "[CV 1/5] END ....C=0.01, gamma=1, kernel=linear;, score=0.899 total time=   1.0s\n",
            "[CV 2/5] END ....C=0.01, gamma=1, kernel=linear;, score=0.913 total time=   1.0s\n",
            "[CV 3/5] END ....C=0.01, gamma=1, kernel=linear;, score=0.918 total time=   1.1s\n",
            "[CV 4/5] END ....C=0.01, gamma=1, kernel=linear;, score=0.928 total time=   1.1s\n",
            "[CV 5/5] END ....C=0.01, gamma=1, kernel=linear;, score=0.937 total time=   1.1s\n",
            "[CV 1/5] END .....C=0.01, gamma=0.1, kernel=rbf;, score=0.519 total time=   4.0s\n",
            "[CV 2/5] END .....C=0.01, gamma=0.1, kernel=rbf;, score=0.519 total time=   4.0s\n",
            "[CV 3/5] END .....C=0.01, gamma=0.1, kernel=rbf;, score=0.519 total time=   4.1s\n",
            "[CV 4/5] END .....C=0.01, gamma=0.1, kernel=rbf;, score=0.522 total time=   4.0s\n",
            "[CV 5/5] END .....C=0.01, gamma=0.1, kernel=rbf;, score=0.517 total time=   4.5s\n",
            "[CV 1/5] END ..C=0.01, gamma=0.1, kernel=linear;, score=0.899 total time=   1.0s\n",
            "[CV 2/5] END ..C=0.01, gamma=0.1, kernel=linear;, score=0.913 total time=   1.0s\n",
            "[CV 3/5] END ..C=0.01, gamma=0.1, kernel=linear;, score=0.918 total time=   1.1s\n",
            "[CV 4/5] END ..C=0.01, gamma=0.1, kernel=linear;, score=0.928 total time=   1.1s\n",
            "[CV 5/5] END ..C=0.01, gamma=0.1, kernel=linear;, score=0.937 total time=   1.0s\n",
            "[CV 1/5] END ....C=0.01, gamma=0.01, kernel=rbf;, score=0.519 total time=   4.0s\n",
            "[CV 2/5] END ....C=0.01, gamma=0.01, kernel=rbf;, score=0.519 total time=   4.0s\n",
            "[CV 3/5] END ....C=0.01, gamma=0.01, kernel=rbf;, score=0.519 total time=   4.0s\n",
            "[CV 4/5] END ....C=0.01, gamma=0.01, kernel=rbf;, score=0.522 total time=   4.0s\n",
            "[CV 5/5] END ....C=0.01, gamma=0.01, kernel=rbf;, score=0.517 total time=   4.1s\n",
            "[CV 1/5] END .C=0.01, gamma=0.01, kernel=linear;, score=0.899 total time=   1.0s\n",
            "[CV 2/5] END .C=0.01, gamma=0.01, kernel=linear;, score=0.913 total time=   1.0s\n",
            "[CV 3/5] END .C=0.01, gamma=0.01, kernel=linear;, score=0.918 total time=   1.1s\n",
            "[CV 4/5] END .C=0.01, gamma=0.01, kernel=linear;, score=0.928 total time=   1.1s\n",
            "[CV 5/5] END .C=0.01, gamma=0.01, kernel=linear;, score=0.937 total time=   1.1s\n",
            "[CV 1/5] END ...C=0.01, gamma=0.001, kernel=rbf;, score=0.519 total time=   3.9s\n",
            "[CV 2/5] END ...C=0.01, gamma=0.001, kernel=rbf;, score=0.519 total time=   3.9s\n",
            "[CV 3/5] END ...C=0.01, gamma=0.001, kernel=rbf;, score=0.519 total time=   3.9s\n",
            "[CV 4/5] END ...C=0.01, gamma=0.001, kernel=rbf;, score=0.522 total time=   3.9s\n",
            "[CV 5/5] END ...C=0.01, gamma=0.001, kernel=rbf;, score=0.517 total time=   3.9s\n",
            "[CV 1/5] END C=0.01, gamma=0.001, kernel=linear;, score=0.899 total time=   1.0s\n",
            "[CV 2/5] END C=0.01, gamma=0.001, kernel=linear;, score=0.913 total time=   1.0s\n",
            "[CV 3/5] END C=0.01, gamma=0.001, kernel=linear;, score=0.918 total time=   1.1s\n",
            "[CV 4/5] END C=0.01, gamma=0.001, kernel=linear;, score=0.928 total time=   1.1s\n",
            "[CV 5/5] END C=0.01, gamma=0.001, kernel=linear;, score=0.937 total time=   1.1s\n",
            "[CV 1/5] END ..C=0.01, gamma=0.0001, kernel=rbf;, score=0.519 total time=   3.9s\n",
            "[CV 2/5] END ..C=0.01, gamma=0.0001, kernel=rbf;, score=0.519 total time=   3.9s\n",
            "[CV 3/5] END ..C=0.01, gamma=0.0001, kernel=rbf;, score=0.519 total time=   3.9s\n",
            "[CV 4/5] END ..C=0.01, gamma=0.0001, kernel=rbf;, score=0.522 total time=   3.8s\n",
            "[CV 5/5] END ..C=0.01, gamma=0.0001, kernel=rbf;, score=0.517 total time=   3.8s\n",
            "[CV 1/5] END C=0.01, gamma=0.0001, kernel=linear;, score=0.899 total time=   1.0s\n",
            "[CV 2/5] END C=0.01, gamma=0.0001, kernel=linear;, score=0.913 total time=   1.0s\n",
            "[CV 3/5] END C=0.01, gamma=0.0001, kernel=linear;, score=0.918 total time=   1.1s\n",
            "[CV 4/5] END C=0.01, gamma=0.0001, kernel=linear;, score=0.928 total time=   1.1s\n",
            "[CV 5/5] END C=0.01, gamma=0.0001, kernel=linear;, score=0.937 total time=   1.0s\n",
            "[CV 1/5] END .....C=0.1, gamma=1000, kernel=rbf;, score=0.519 total time=   4.0s\n",
            "[CV 2/5] END .....C=0.1, gamma=1000, kernel=rbf;, score=0.519 total time=   4.1s\n",
            "[CV 3/5] END .....C=0.1, gamma=1000, kernel=rbf;, score=0.519 total time=   4.1s\n",
            "[CV 4/5] END .....C=0.1, gamma=1000, kernel=rbf;, score=0.522 total time=   4.0s\n",
            "[CV 5/5] END .....C=0.1, gamma=1000, kernel=rbf;, score=0.517 total time=   4.1s\n",
            "[CV 1/5] END ..C=0.1, gamma=1000, kernel=linear;, score=0.899 total time=   1.0s\n",
            "[CV 2/5] END ..C=0.1, gamma=1000, kernel=linear;, score=0.923 total time=   1.0s\n",
            "[CV 3/5] END ..C=0.1, gamma=1000, kernel=linear;, score=0.904 total time=   1.1s\n",
            "[CV 4/5] END ..C=0.1, gamma=1000, kernel=linear;, score=0.928 total time=   1.1s\n",
            "[CV 5/5] END ..C=0.1, gamma=1000, kernel=linear;, score=0.937 total time=   1.0s\n",
            "[CV 1/5] END ......C=0.1, gamma=100, kernel=rbf;, score=0.519 total time=   4.0s\n",
            "[CV 2/5] END ......C=0.1, gamma=100, kernel=rbf;, score=0.519 total time=   4.0s\n",
            "[CV 3/5] END ......C=0.1, gamma=100, kernel=rbf;, score=0.519 total time=   4.1s\n",
            "[CV 4/5] END ......C=0.1, gamma=100, kernel=rbf;, score=0.522 total time=   4.6s\n",
            "[CV 5/5] END ......C=0.1, gamma=100, kernel=rbf;, score=0.517 total time=   4.1s\n",
            "[CV 1/5] END ...C=0.1, gamma=100, kernel=linear;, score=0.899 total time=   1.0s\n",
            "[CV 2/5] END ...C=0.1, gamma=100, kernel=linear;, score=0.923 total time=   1.0s\n",
            "[CV 3/5] END ...C=0.1, gamma=100, kernel=linear;, score=0.904 total time=   1.1s\n",
            "[CV 4/5] END ...C=0.1, gamma=100, kernel=linear;, score=0.928 total time=   1.1s\n",
            "[CV 5/5] END ...C=0.1, gamma=100, kernel=linear;, score=0.937 total time=   1.1s\n",
            "[CV 1/5] END .......C=0.1, gamma=10, kernel=rbf;, score=0.519 total time=   4.0s\n",
            "[CV 2/5] END .......C=0.1, gamma=10, kernel=rbf;, score=0.519 total time=   3.9s\n",
            "[CV 3/5] END .......C=0.1, gamma=10, kernel=rbf;, score=0.519 total time=   3.6s\n",
            "[CV 4/5] END .......C=0.1, gamma=10, kernel=rbf;, score=0.522 total time=   3.7s\n",
            "[CV 5/5] END .......C=0.1, gamma=10, kernel=rbf;, score=0.517 total time=   3.6s\n",
            "[CV 1/5] END ....C=0.1, gamma=10, kernel=linear;, score=0.899 total time=   0.9s\n",
            "[CV 2/5] END ....C=0.1, gamma=10, kernel=linear;, score=0.923 total time=   1.0s\n",
            "[CV 3/5] END ....C=0.1, gamma=10, kernel=linear;, score=0.904 total time=   1.0s\n",
            "[CV 4/5] END ....C=0.1, gamma=10, kernel=linear;, score=0.928 total time=   1.0s\n",
            "[CV 5/5] END ....C=0.1, gamma=10, kernel=linear;, score=0.937 total time=   0.9s\n",
            "[CV 1/5] END ........C=0.1, gamma=1, kernel=rbf;, score=0.519 total time=   3.8s\n",
            "[CV 2/5] END ........C=0.1, gamma=1, kernel=rbf;, score=0.519 total time=   3.6s\n",
            "[CV 3/5] END ........C=0.1, gamma=1, kernel=rbf;, score=0.519 total time=   3.6s\n",
            "[CV 4/5] END ........C=0.1, gamma=1, kernel=rbf;, score=0.522 total time=   3.6s\n",
            "[CV 5/5] END ........C=0.1, gamma=1, kernel=rbf;, score=0.517 total time=   3.6s\n",
            "[CV 1/5] END .....C=0.1, gamma=1, kernel=linear;, score=0.899 total time=   0.9s\n",
            "[CV 2/5] END .....C=0.1, gamma=1, kernel=linear;, score=0.923 total time=   0.9s\n",
            "[CV 3/5] END .....C=0.1, gamma=1, kernel=linear;, score=0.904 total time=   1.0s\n",
            "[CV 4/5] END .....C=0.1, gamma=1, kernel=linear;, score=0.928 total time=   1.0s\n",
            "[CV 5/5] END .....C=0.1, gamma=1, kernel=linear;, score=0.937 total time=   1.0s\n",
            "[CV 1/5] END ......C=0.1, gamma=0.1, kernel=rbf;, score=0.519 total time=   3.6s\n",
            "[CV 2/5] END ......C=0.1, gamma=0.1, kernel=rbf;, score=0.519 total time=   3.6s\n",
            "[CV 3/5] END ......C=0.1, gamma=0.1, kernel=rbf;, score=0.519 total time=   3.5s\n",
            "[CV 4/5] END ......C=0.1, gamma=0.1, kernel=rbf;, score=0.522 total time=   3.6s\n",
            "[CV 5/5] END ......C=0.1, gamma=0.1, kernel=rbf;, score=0.517 total time=   3.6s\n",
            "[CV 1/5] END ...C=0.1, gamma=0.1, kernel=linear;, score=0.899 total time=   0.9s\n",
            "[CV 2/5] END ...C=0.1, gamma=0.1, kernel=linear;, score=0.923 total time=   0.9s\n",
            "[CV 3/5] END ...C=0.1, gamma=0.1, kernel=linear;, score=0.904 total time=   1.0s\n",
            "[CV 4/5] END ...C=0.1, gamma=0.1, kernel=linear;, score=0.928 total time=   1.0s\n",
            "[CV 5/5] END ...C=0.1, gamma=0.1, kernel=linear;, score=0.937 total time=   0.9s\n",
            "[CV 1/5] END .....C=0.1, gamma=0.01, kernel=rbf;, score=0.519 total time=   3.7s\n",
            "[CV 2/5] END .....C=0.1, gamma=0.01, kernel=rbf;, score=0.519 total time=   3.7s\n",
            "[CV 3/5] END .....C=0.1, gamma=0.01, kernel=rbf;, score=0.519 total time=   3.6s\n",
            "[CV 4/5] END .....C=0.1, gamma=0.01, kernel=rbf;, score=0.522 total time=   3.6s\n",
            "[CV 5/5] END .....C=0.1, gamma=0.01, kernel=rbf;, score=0.517 total time=   3.6s\n",
            "[CV 1/5] END ..C=0.1, gamma=0.01, kernel=linear;, score=0.899 total time=   0.9s\n",
            "[CV 2/5] END ..C=0.1, gamma=0.01, kernel=linear;, score=0.923 total time=   1.0s\n",
            "[CV 3/5] END ..C=0.1, gamma=0.01, kernel=linear;, score=0.904 total time=   1.0s\n",
            "[CV 4/5] END ..C=0.1, gamma=0.01, kernel=linear;, score=0.928 total time=   1.0s\n",
            "[CV 5/5] END ..C=0.1, gamma=0.01, kernel=linear;, score=0.937 total time=   1.0s\n",
            "[CV 1/5] END ....C=0.1, gamma=0.001, kernel=rbf;, score=0.702 total time=   3.5s\n",
            "[CV 2/5] END ....C=0.1, gamma=0.001, kernel=rbf;, score=0.788 total time=   3.4s\n",
            "[CV 3/5] END ....C=0.1, gamma=0.001, kernel=rbf;, score=0.736 total time=   3.5s\n",
            "[CV 4/5] END ....C=0.1, gamma=0.001, kernel=rbf;, score=0.734 total time=   3.5s\n",
            "[CV 5/5] END ....C=0.1, gamma=0.001, kernel=rbf;, score=0.729 total time=   3.5s\n",
            "[CV 1/5] END .C=0.1, gamma=0.001, kernel=linear;, score=0.899 total time=   0.9s\n",
            "[CV 2/5] END .C=0.1, gamma=0.001, kernel=linear;, score=0.923 total time=   1.1s\n",
            "[CV 3/5] END .C=0.1, gamma=0.001, kernel=linear;, score=0.904 total time=   1.2s\n",
            "[CV 4/5] END .C=0.1, gamma=0.001, kernel=linear;, score=0.928 total time=   1.1s\n",
            "[CV 5/5] END .C=0.1, gamma=0.001, kernel=linear;, score=0.937 total time=   0.9s\n",
            "[CV 1/5] END ...C=0.1, gamma=0.0001, kernel=rbf;, score=0.851 total time=   2.8s\n",
            "[CV 2/5] END ...C=0.1, gamma=0.0001, kernel=rbf;, score=0.861 total time=   2.8s\n",
            "[CV 3/5] END ...C=0.1, gamma=0.0001, kernel=rbf;, score=0.865 total time=   2.8s\n",
            "[CV 4/5] END ...C=0.1, gamma=0.0001, kernel=rbf;, score=0.870 total time=   2.9s\n",
            "[CV 5/5] END ...C=0.1, gamma=0.0001, kernel=rbf;, score=0.821 total time=   2.8s\n",
            "[CV 1/5] END C=0.1, gamma=0.0001, kernel=linear;, score=0.899 total time=   0.9s\n",
            "[CV 2/5] END C=0.1, gamma=0.0001, kernel=linear;, score=0.923 total time=   0.9s\n",
            "[CV 3/5] END C=0.1, gamma=0.0001, kernel=linear;, score=0.904 total time=   1.0s\n",
            "[CV 4/5] END C=0.1, gamma=0.0001, kernel=linear;, score=0.928 total time=   1.0s\n",
            "[CV 5/5] END C=0.1, gamma=0.0001, kernel=linear;, score=0.937 total time=   0.9s\n",
            "[CV 1/5] END .......C=1, gamma=1000, kernel=rbf;, score=0.519 total time=   3.6s\n",
            "[CV 2/5] END .......C=1, gamma=1000, kernel=rbf;, score=0.519 total time=   3.6s\n",
            "[CV 3/5] END .......C=1, gamma=1000, kernel=rbf;, score=0.519 total time=   3.6s\n",
            "[CV 4/5] END .......C=1, gamma=1000, kernel=rbf;, score=0.522 total time=   3.6s\n",
            "[CV 5/5] END .......C=1, gamma=1000, kernel=rbf;, score=0.517 total time=   3.6s\n",
            "[CV 1/5] END ....C=1, gamma=1000, kernel=linear;, score=0.899 total time=   0.9s\n",
            "[CV 2/5] END ....C=1, gamma=1000, kernel=linear;, score=0.923 total time=   0.9s\n",
            "[CV 3/5] END ....C=1, gamma=1000, kernel=linear;, score=0.904 total time=   1.0s\n",
            "[CV 4/5] END ....C=1, gamma=1000, kernel=linear;, score=0.928 total time=   1.0s\n",
            "[CV 5/5] END ....C=1, gamma=1000, kernel=linear;, score=0.937 total time=   0.9s\n",
            "[CV 1/5] END ........C=1, gamma=100, kernel=rbf;, score=0.519 total time=   3.6s\n",
            "[CV 2/5] END ........C=1, gamma=100, kernel=rbf;, score=0.519 total time=   3.6s\n",
            "[CV 3/5] END ........C=1, gamma=100, kernel=rbf;, score=0.519 total time=   3.7s\n",
            "[CV 4/5] END ........C=1, gamma=100, kernel=rbf;, score=0.522 total time=   3.6s\n",
            "[CV 5/5] END ........C=1, gamma=100, kernel=rbf;, score=0.517 total time=   3.6s\n",
            "[CV 1/5] END .....C=1, gamma=100, kernel=linear;, score=0.899 total time=   0.9s\n",
            "[CV 2/5] END .....C=1, gamma=100, kernel=linear;, score=0.923 total time=   0.9s\n",
            "[CV 3/5] END .....C=1, gamma=100, kernel=linear;, score=0.904 total time=   1.0s\n",
            "[CV 4/5] END .....C=1, gamma=100, kernel=linear;, score=0.928 total time=   1.0s\n",
            "[CV 5/5] END .....C=1, gamma=100, kernel=linear;, score=0.937 total time=   0.9s\n",
            "[CV 1/5] END .........C=1, gamma=10, kernel=rbf;, score=0.519 total time=   3.6s\n",
            "[CV 2/5] END .........C=1, gamma=10, kernel=rbf;, score=0.519 total time=   3.6s\n",
            "[CV 3/5] END .........C=1, gamma=10, kernel=rbf;, score=0.519 total time=   3.6s\n",
            "[CV 4/5] END .........C=1, gamma=10, kernel=rbf;, score=0.522 total time=   3.6s\n",
            "[CV 5/5] END .........C=1, gamma=10, kernel=rbf;, score=0.517 total time=   3.6s\n",
            "[CV 1/5] END ......C=1, gamma=10, kernel=linear;, score=0.899 total time=   0.9s\n",
            "[CV 2/5] END ......C=1, gamma=10, kernel=linear;, score=0.923 total time=   0.9s\n",
            "[CV 3/5] END ......C=1, gamma=10, kernel=linear;, score=0.904 total time=   1.0s\n",
            "[CV 4/5] END ......C=1, gamma=10, kernel=linear;, score=0.928 total time=   1.0s\n",
            "[CV 5/5] END ......C=1, gamma=10, kernel=linear;, score=0.937 total time=   0.9s\n",
            "[CV 1/5] END ..........C=1, gamma=1, kernel=rbf;, score=0.519 total time=   3.6s\n",
            "[CV 2/5] END ..........C=1, gamma=1, kernel=rbf;, score=0.519 total time=   3.6s\n",
            "[CV 3/5] END ..........C=1, gamma=1, kernel=rbf;, score=0.519 total time=   3.6s\n",
            "[CV 4/5] END ..........C=1, gamma=1, kernel=rbf;, score=0.522 total time=   3.6s\n",
            "[CV 5/5] END ..........C=1, gamma=1, kernel=rbf;, score=0.517 total time=   3.6s\n",
            "[CV 1/5] END .......C=1, gamma=1, kernel=linear;, score=0.899 total time=   0.9s\n",
            "[CV 2/5] END .......C=1, gamma=1, kernel=linear;, score=0.923 total time=   1.0s\n",
            "[CV 3/5] END .......C=1, gamma=1, kernel=linear;, score=0.904 total time=   1.0s\n",
            "[CV 4/5] END .......C=1, gamma=1, kernel=linear;, score=0.928 total time=   1.0s\n",
            "[CV 5/5] END .......C=1, gamma=1, kernel=linear;, score=0.937 total time=   0.9s\n",
            "[CV 1/5] END ........C=1, gamma=0.1, kernel=rbf;, score=0.519 total time=   3.7s\n",
            "[CV 2/5] END ........C=1, gamma=0.1, kernel=rbf;, score=0.519 total time=   3.6s\n",
            "[CV 3/5] END ........C=1, gamma=0.1, kernel=rbf;, score=0.519 total time=   4.2s\n",
            "[CV 4/5] END ........C=1, gamma=0.1, kernel=rbf;, score=0.522 total time=   3.6s\n",
            "[CV 5/5] END ........C=1, gamma=0.1, kernel=rbf;, score=0.517 total time=   3.7s\n",
            "[CV 1/5] END .....C=1, gamma=0.1, kernel=linear;, score=0.899 total time=   0.9s\n",
            "[CV 2/5] END .....C=1, gamma=0.1, kernel=linear;, score=0.923 total time=   0.9s\n",
            "[CV 3/5] END .....C=1, gamma=0.1, kernel=linear;, score=0.904 total time=   1.0s\n",
            "[CV 4/5] END .....C=1, gamma=0.1, kernel=linear;, score=0.928 total time=   1.0s\n",
            "[CV 5/5] END .....C=1, gamma=0.1, kernel=linear;, score=0.937 total time=   1.0s\n",
            "[CV 1/5] END .......C=1, gamma=0.01, kernel=rbf;, score=0.519 total time=   3.7s\n",
            "[CV 2/5] END .......C=1, gamma=0.01, kernel=rbf;, score=0.519 total time=   3.7s\n",
            "[CV 3/5] END .......C=1, gamma=0.01, kernel=rbf;, score=0.519 total time=   3.6s\n",
            "[CV 4/5] END .......C=1, gamma=0.01, kernel=rbf;, score=0.522 total time=   3.6s\n",
            "[CV 5/5] END .......C=1, gamma=0.01, kernel=rbf;, score=0.517 total time=   3.6s\n",
            "[CV 1/5] END ....C=1, gamma=0.01, kernel=linear;, score=0.899 total time=   0.8s\n",
            "[CV 2/5] END ....C=1, gamma=0.01, kernel=linear;, score=0.923 total time=   0.9s\n",
            "[CV 3/5] END ....C=1, gamma=0.01, kernel=linear;, score=0.904 total time=   1.0s\n",
            "[CV 4/5] END ....C=1, gamma=0.01, kernel=linear;, score=0.928 total time=   0.9s\n",
            "[CV 5/5] END ....C=1, gamma=0.01, kernel=linear;, score=0.937 total time=   0.9s\n",
            "[CV 1/5] END ......C=1, gamma=0.001, kernel=rbf;, score=0.861 total time=   3.1s\n",
            "[CV 2/5] END ......C=1, gamma=0.001, kernel=rbf;, score=0.947 total time=   3.2s\n",
            "[CV 3/5] END ......C=1, gamma=0.001, kernel=rbf;, score=0.918 total time=   3.2s\n",
            "[CV 4/5] END ......C=1, gamma=0.001, kernel=rbf;, score=0.942 total time=   3.2s\n",
            "[CV 5/5] END ......C=1, gamma=0.001, kernel=rbf;, score=0.913 total time=   3.1s\n",
            "[CV 1/5] END ...C=1, gamma=0.001, kernel=linear;, score=0.899 total time=   0.9s\n",
            "[CV 2/5] END ...C=1, gamma=0.001, kernel=linear;, score=0.923 total time=   0.9s\n",
            "[CV 3/5] END ...C=1, gamma=0.001, kernel=linear;, score=0.904 total time=   1.0s\n",
            "[CV 4/5] END ...C=1, gamma=0.001, kernel=linear;, score=0.928 total time=   1.0s\n",
            "[CV 5/5] END ...C=1, gamma=0.001, kernel=linear;, score=0.937 total time=   0.9s\n",
            "[CV 1/5] END .....C=1, gamma=0.0001, kernel=rbf;, score=0.880 total time=   1.7s\n",
            "[CV 2/5] END .....C=1, gamma=0.0001, kernel=rbf;, score=0.918 total time=   1.7s\n",
            "[CV 3/5] END .....C=1, gamma=0.0001, kernel=rbf;, score=0.918 total time=   1.7s\n",
            "[CV 4/5] END .....C=1, gamma=0.0001, kernel=rbf;, score=0.923 total time=   1.8s\n",
            "[CV 5/5] END .....C=1, gamma=0.0001, kernel=rbf;, score=0.908 total time=   1.7s\n",
            "[CV 1/5] END ..C=1, gamma=0.0001, kernel=linear;, score=0.899 total time=   0.9s\n",
            "[CV 2/5] END ..C=1, gamma=0.0001, kernel=linear;, score=0.923 total time=   0.9s\n",
            "[CV 3/5] END ..C=1, gamma=0.0001, kernel=linear;, score=0.904 total time=   1.0s\n",
            "[CV 4/5] END ..C=1, gamma=0.0001, kernel=linear;, score=0.928 total time=   1.0s\n",
            "[CV 5/5] END ..C=1, gamma=0.0001, kernel=linear;, score=0.937 total time=   1.0s\n",
            "[CV 1/5] END ......C=10, gamma=1000, kernel=rbf;, score=0.519 total time=   3.7s\n",
            "[CV 2/5] END ......C=10, gamma=1000, kernel=rbf;, score=0.519 total time=   3.6s\n",
            "[CV 3/5] END ......C=10, gamma=1000, kernel=rbf;, score=0.519 total time=   3.6s\n",
            "[CV 4/5] END ......C=10, gamma=1000, kernel=rbf;, score=0.522 total time=   3.6s\n",
            "[CV 5/5] END ......C=10, gamma=1000, kernel=rbf;, score=0.517 total time=   3.6s\n",
            "[CV 1/5] END ...C=10, gamma=1000, kernel=linear;, score=0.899 total time=   0.9s\n",
            "[CV 2/5] END ...C=10, gamma=1000, kernel=linear;, score=0.923 total time=   0.9s\n",
            "[CV 3/5] END ...C=10, gamma=1000, kernel=linear;, score=0.904 total time=   1.0s\n",
            "[CV 4/5] END ...C=10, gamma=1000, kernel=linear;, score=0.928 total time=   1.0s\n",
            "[CV 5/5] END ...C=10, gamma=1000, kernel=linear;, score=0.937 total time=   0.9s\n",
            "[CV 1/5] END .......C=10, gamma=100, kernel=rbf;, score=0.519 total time=   3.7s\n",
            "[CV 2/5] END .......C=10, gamma=100, kernel=rbf;, score=0.519 total time=   3.6s\n",
            "[CV 3/5] END .......C=10, gamma=100, kernel=rbf;, score=0.519 total time=   3.6s\n",
            "[CV 4/5] END .......C=10, gamma=100, kernel=rbf;, score=0.522 total time=   3.6s\n",
            "[CV 5/5] END .......C=10, gamma=100, kernel=rbf;, score=0.517 total time=   3.6s\n",
            "[CV 1/5] END ....C=10, gamma=100, kernel=linear;, score=0.899 total time=   0.9s\n",
            "[CV 2/5] END ....C=10, gamma=100, kernel=linear;, score=0.923 total time=   0.9s\n",
            "[CV 3/5] END ....C=10, gamma=100, kernel=linear;, score=0.904 total time=   1.0s\n",
            "[CV 4/5] END ....C=10, gamma=100, kernel=linear;, score=0.928 total time=   1.0s\n",
            "[CV 5/5] END ....C=10, gamma=100, kernel=linear;, score=0.937 total time=   1.0s\n",
            "[CV 1/5] END ........C=10, gamma=10, kernel=rbf;, score=0.519 total time=   3.6s\n",
            "[CV 2/5] END ........C=10, gamma=10, kernel=rbf;, score=0.519 total time=   4.0s\n",
            "[CV 3/5] END ........C=10, gamma=10, kernel=rbf;, score=0.519 total time=   3.7s\n",
            "[CV 4/5] END ........C=10, gamma=10, kernel=rbf;, score=0.522 total time=   3.6s\n",
            "[CV 5/5] END ........C=10, gamma=10, kernel=rbf;, score=0.517 total time=   3.6s\n",
            "[CV 1/5] END .....C=10, gamma=10, kernel=linear;, score=0.899 total time=   0.9s\n",
            "[CV 2/5] END .....C=10, gamma=10, kernel=linear;, score=0.923 total time=   0.9s\n",
            "[CV 3/5] END .....C=10, gamma=10, kernel=linear;, score=0.904 total time=   1.0s\n",
            "[CV 4/5] END .....C=10, gamma=10, kernel=linear;, score=0.928 total time=   1.0s\n",
            "[CV 5/5] END .....C=10, gamma=10, kernel=linear;, score=0.937 total time=   0.9s\n",
            "[CV 1/5] END .........C=10, gamma=1, kernel=rbf;, score=0.519 total time=   3.6s\n",
            "[CV 2/5] END .........C=10, gamma=1, kernel=rbf;, score=0.519 total time=   3.6s\n",
            "[CV 3/5] END .........C=10, gamma=1, kernel=rbf;, score=0.519 total time=   3.6s\n",
            "[CV 4/5] END .........C=10, gamma=1, kernel=rbf;, score=0.522 total time=   3.6s\n",
            "[CV 5/5] END .........C=10, gamma=1, kernel=rbf;, score=0.517 total time=   3.6s\n",
            "[CV 1/5] END ......C=10, gamma=1, kernel=linear;, score=0.899 total time=   0.9s\n",
            "[CV 2/5] END ......C=10, gamma=1, kernel=linear;, score=0.923 total time=   0.9s\n",
            "[CV 3/5] END ......C=10, gamma=1, kernel=linear;, score=0.904 total time=   1.0s\n",
            "[CV 4/5] END ......C=10, gamma=1, kernel=linear;, score=0.928 total time=   1.0s\n",
            "[CV 5/5] END ......C=10, gamma=1, kernel=linear;, score=0.937 total time=   0.9s\n",
            "[CV 1/5] END .......C=10, gamma=0.1, kernel=rbf;, score=0.519 total time=   3.6s\n",
            "[CV 2/5] END .......C=10, gamma=0.1, kernel=rbf;, score=0.519 total time=   3.6s\n",
            "[CV 3/5] END .......C=10, gamma=0.1, kernel=rbf;, score=0.519 total time=   3.6s\n",
            "[CV 4/5] END .......C=10, gamma=0.1, kernel=rbf;, score=0.522 total time=   3.7s\n",
            "[CV 5/5] END .......C=10, gamma=0.1, kernel=rbf;, score=0.517 total time=   3.6s\n",
            "[CV 1/5] END ....C=10, gamma=0.1, kernel=linear;, score=0.899 total time=   0.9s\n",
            "[CV 2/5] END ....C=10, gamma=0.1, kernel=linear;, score=0.923 total time=   0.9s\n",
            "[CV 3/5] END ....C=10, gamma=0.1, kernel=linear;, score=0.904 total time=   1.0s\n",
            "[CV 4/5] END ....C=10, gamma=0.1, kernel=linear;, score=0.928 total time=   1.0s\n",
            "[CV 5/5] END ....C=10, gamma=0.1, kernel=linear;, score=0.937 total time=   0.9s\n",
            "[CV 1/5] END ......C=10, gamma=0.01, kernel=rbf;, score=0.519 total time=   3.6s\n",
            "[CV 2/5] END ......C=10, gamma=0.01, kernel=rbf;, score=0.519 total time=   3.6s\n",
            "[CV 3/5] END ......C=10, gamma=0.01, kernel=rbf;, score=0.519 total time=   3.6s\n",
            "[CV 4/5] END ......C=10, gamma=0.01, kernel=rbf;, score=0.522 total time=   3.6s\n",
            "[CV 5/5] END ......C=10, gamma=0.01, kernel=rbf;, score=0.517 total time=   3.6s\n",
            "[CV 1/5] END ...C=10, gamma=0.01, kernel=linear;, score=0.899 total time=   0.9s\n",
            "[CV 2/5] END ...C=10, gamma=0.01, kernel=linear;, score=0.923 total time=   0.9s\n",
            "[CV 3/5] END ...C=10, gamma=0.01, kernel=linear;, score=0.904 total time=   1.0s\n",
            "[CV 4/5] END ...C=10, gamma=0.01, kernel=linear;, score=0.928 total time=   1.0s\n",
            "[CV 5/5] END ...C=10, gamma=0.01, kernel=linear;, score=0.937 total time=   1.0s\n",
            "[CV 1/5] END .....C=10, gamma=0.001, kernel=rbf;, score=0.880 total time=   3.2s\n",
            "[CV 2/5] END .....C=10, gamma=0.001, kernel=rbf;, score=0.947 total time=   3.3s\n",
            "[CV 3/5] END .....C=10, gamma=0.001, kernel=rbf;, score=0.933 total time=   3.3s\n",
            "[CV 4/5] END .....C=10, gamma=0.001, kernel=rbf;, score=0.947 total time=   3.3s\n",
            "[CV 5/5] END .....C=10, gamma=0.001, kernel=rbf;, score=0.947 total time=   3.3s\n",
            "[CV 1/5] END ..C=10, gamma=0.001, kernel=linear;, score=0.899 total time=   0.9s\n",
            "[CV 2/5] END ..C=10, gamma=0.001, kernel=linear;, score=0.923 total time=   0.9s\n",
            "[CV 3/5] END ..C=10, gamma=0.001, kernel=linear;, score=0.904 total time=   1.0s\n",
            "[CV 4/5] END ..C=10, gamma=0.001, kernel=linear;, score=0.928 total time=   0.9s\n",
            "[CV 5/5] END ..C=10, gamma=0.001, kernel=linear;, score=0.937 total time=   0.9s\n",
            "[CV 1/5] END ....C=10, gamma=0.0001, kernel=rbf;, score=0.923 total time=   1.2s\n",
            "[CV 2/5] END ....C=10, gamma=0.0001, kernel=rbf;, score=0.957 total time=   1.3s\n",
            "[CV 3/5] END ....C=10, gamma=0.0001, kernel=rbf;, score=0.942 total time=   1.3s\n",
            "[CV 4/5] END ....C=10, gamma=0.0001, kernel=rbf;, score=0.957 total time=   1.3s\n",
            "[CV 5/5] END ....C=10, gamma=0.0001, kernel=rbf;, score=0.942 total time=   1.3s\n",
            "[CV 1/5] END .C=10, gamma=0.0001, kernel=linear;, score=0.899 total time=   0.9s\n",
            "[CV 2/5] END .C=10, gamma=0.0001, kernel=linear;, score=0.923 total time=   1.0s\n",
            "[CV 3/5] END .C=10, gamma=0.0001, kernel=linear;, score=0.904 total time=   1.0s\n",
            "[CV 4/5] END .C=10, gamma=0.0001, kernel=linear;, score=0.928 total time=   1.0s\n",
            "[CV 5/5] END .C=10, gamma=0.0001, kernel=linear;, score=0.937 total time=   0.9s\n",
            "[CV 1/5] END .....C=100, gamma=1000, kernel=rbf;, score=0.519 total time=   3.6s\n",
            "[CV 2/5] END .....C=100, gamma=1000, kernel=rbf;, score=0.519 total time=   4.0s\n",
            "[CV 3/5] END .....C=100, gamma=1000, kernel=rbf;, score=0.519 total time=   3.7s\n",
            "[CV 4/5] END .....C=100, gamma=1000, kernel=rbf;, score=0.522 total time=   3.6s\n",
            "[CV 5/5] END .....C=100, gamma=1000, kernel=rbf;, score=0.517 total time=   3.6s\n",
            "[CV 1/5] END ..C=100, gamma=1000, kernel=linear;, score=0.899 total time=   0.9s\n",
            "[CV 2/5] END ..C=100, gamma=1000, kernel=linear;, score=0.923 total time=   1.0s\n",
            "[CV 3/5] END ..C=100, gamma=1000, kernel=linear;, score=0.904 total time=   1.0s\n",
            "[CV 4/5] END ..C=100, gamma=1000, kernel=linear;, score=0.928 total time=   1.0s\n",
            "[CV 5/5] END ..C=100, gamma=1000, kernel=linear;, score=0.937 total time=   0.9s\n",
            "[CV 1/5] END ......C=100, gamma=100, kernel=rbf;, score=0.519 total time=   3.6s\n",
            "[CV 2/5] END ......C=100, gamma=100, kernel=rbf;, score=0.519 total time=   3.6s\n",
            "[CV 3/5] END ......C=100, gamma=100, kernel=rbf;, score=0.519 total time=   3.6s\n",
            "[CV 4/5] END ......C=100, gamma=100, kernel=rbf;, score=0.522 total time=   3.6s\n",
            "[CV 5/5] END ......C=100, gamma=100, kernel=rbf;, score=0.517 total time=   3.5s\n",
            "[CV 1/5] END ...C=100, gamma=100, kernel=linear;, score=0.899 total time=   0.9s\n",
            "[CV 2/5] END ...C=100, gamma=100, kernel=linear;, score=0.923 total time=   0.9s\n",
            "[CV 3/5] END ...C=100, gamma=100, kernel=linear;, score=0.904 total time=   1.0s\n",
            "[CV 4/5] END ...C=100, gamma=100, kernel=linear;, score=0.928 total time=   1.0s\n",
            "[CV 5/5] END ...C=100, gamma=100, kernel=linear;, score=0.937 total time=   0.9s\n",
            "[CV 1/5] END .......C=100, gamma=10, kernel=rbf;, score=0.519 total time=   3.6s\n",
            "[CV 2/5] END .......C=100, gamma=10, kernel=rbf;, score=0.519 total time=   3.6s\n",
            "[CV 3/5] END .......C=100, gamma=10, kernel=rbf;, score=0.519 total time=   3.6s\n",
            "[CV 4/5] END .......C=100, gamma=10, kernel=rbf;, score=0.522 total time=   3.6s\n",
            "[CV 5/5] END .......C=100, gamma=10, kernel=rbf;, score=0.517 total time=   3.6s\n",
            "[CV 1/5] END ....C=100, gamma=10, kernel=linear;, score=0.899 total time=   0.9s\n",
            "[CV 2/5] END ....C=100, gamma=10, kernel=linear;, score=0.923 total time=   0.9s\n",
            "[CV 3/5] END ....C=100, gamma=10, kernel=linear;, score=0.904 total time=   1.0s\n",
            "[CV 4/5] END ....C=100, gamma=10, kernel=linear;, score=0.928 total time=   0.9s\n",
            "[CV 5/5] END ....C=100, gamma=10, kernel=linear;, score=0.937 total time=   1.0s\n",
            "[CV 1/5] END ........C=100, gamma=1, kernel=rbf;, score=0.519 total time=   3.6s\n",
            "[CV 2/5] END ........C=100, gamma=1, kernel=rbf;, score=0.519 total time=   3.6s\n",
            "[CV 3/5] END ........C=100, gamma=1, kernel=rbf;, score=0.519 total time=   3.6s\n",
            "[CV 4/5] END ........C=100, gamma=1, kernel=rbf;, score=0.522 total time=   3.6s\n",
            "[CV 5/5] END ........C=100, gamma=1, kernel=rbf;, score=0.517 total time=   3.6s\n",
            "[CV 1/5] END .....C=100, gamma=1, kernel=linear;, score=0.899 total time=   0.9s\n",
            "[CV 2/5] END .....C=100, gamma=1, kernel=linear;, score=0.923 total time=   0.9s\n",
            "[CV 3/5] END .....C=100, gamma=1, kernel=linear;, score=0.904 total time=   1.0s\n",
            "[CV 4/5] END .....C=100, gamma=1, kernel=linear;, score=0.928 total time=   1.0s\n",
            "[CV 5/5] END .....C=100, gamma=1, kernel=linear;, score=0.937 total time=   1.0s\n",
            "[CV 1/5] END ......C=100, gamma=0.1, kernel=rbf;, score=0.519 total time=   3.8s\n",
            "[CV 2/5] END ......C=100, gamma=0.1, kernel=rbf;, score=0.519 total time=   3.7s\n",
            "[CV 3/5] END ......C=100, gamma=0.1, kernel=rbf;, score=0.519 total time=   3.8s\n",
            "[CV 4/5] END ......C=100, gamma=0.1, kernel=rbf;, score=0.522 total time=   3.6s\n",
            "[CV 5/5] END ......C=100, gamma=0.1, kernel=rbf;, score=0.517 total time=   3.7s\n",
            "[CV 1/5] END ...C=100, gamma=0.1, kernel=linear;, score=0.899 total time=   0.9s\n",
            "[CV 2/5] END ...C=100, gamma=0.1, kernel=linear;, score=0.923 total time=   0.9s\n",
            "[CV 3/5] END ...C=100, gamma=0.1, kernel=linear;, score=0.904 total time=   1.0s\n",
            "[CV 4/5] END ...C=100, gamma=0.1, kernel=linear;, score=0.928 total time=   1.0s\n",
            "[CV 5/5] END ...C=100, gamma=0.1, kernel=linear;, score=0.937 total time=   0.9s\n",
            "[CV 1/5] END .....C=100, gamma=0.01, kernel=rbf;, score=0.519 total time=   3.7s\n",
            "[CV 2/5] END .....C=100, gamma=0.01, kernel=rbf;, score=0.519 total time=   3.7s\n",
            "[CV 3/5] END .....C=100, gamma=0.01, kernel=rbf;, score=0.519 total time=   3.6s\n",
            "[CV 4/5] END .....C=100, gamma=0.01, kernel=rbf;, score=0.522 total time=   3.6s\n",
            "[CV 5/5] END .....C=100, gamma=0.01, kernel=rbf;, score=0.517 total time=   4.1s\n",
            "[CV 1/5] END ..C=100, gamma=0.01, kernel=linear;, score=0.899 total time=   1.0s\n",
            "[CV 2/5] END ..C=100, gamma=0.01, kernel=linear;, score=0.923 total time=   1.0s\n",
            "[CV 3/5] END ..C=100, gamma=0.01, kernel=linear;, score=0.904 total time=   1.0s\n",
            "[CV 4/5] END ..C=100, gamma=0.01, kernel=linear;, score=0.928 total time=   1.1s\n",
            "[CV 5/5] END ..C=100, gamma=0.01, kernel=linear;, score=0.937 total time=   1.0s\n",
            "[CV 1/5] END ....C=100, gamma=0.001, kernel=rbf;, score=0.880 total time=   3.4s\n",
            "[CV 2/5] END ....C=100, gamma=0.001, kernel=rbf;, score=0.947 total time=   3.6s\n",
            "[CV 3/5] END ....C=100, gamma=0.001, kernel=rbf;, score=0.933 total time=   3.6s\n",
            "[CV 4/5] END ....C=100, gamma=0.001, kernel=rbf;, score=0.947 total time=   3.5s\n",
            "[CV 5/5] END ....C=100, gamma=0.001, kernel=rbf;, score=0.947 total time=   3.5s\n",
            "[CV 1/5] END .C=100, gamma=0.001, kernel=linear;, score=0.899 total time=   0.9s\n",
            "[CV 2/5] END .C=100, gamma=0.001, kernel=linear;, score=0.923 total time=   1.0s\n",
            "[CV 3/5] END .C=100, gamma=0.001, kernel=linear;, score=0.904 total time=   1.0s\n",
            "[CV 4/5] END .C=100, gamma=0.001, kernel=linear;, score=0.928 total time=   1.1s\n",
            "[CV 5/5] END .C=100, gamma=0.001, kernel=linear;, score=0.937 total time=   1.0s\n",
            "[CV 1/5] END ...C=100, gamma=0.0001, kernel=rbf;, score=0.913 total time=   1.3s\n",
            "[CV 2/5] END ...C=100, gamma=0.0001, kernel=rbf;, score=0.933 total time=   1.4s\n",
            "[CV 3/5] END ...C=100, gamma=0.0001, kernel=rbf;, score=0.947 total time=   1.4s\n",
            "[CV 4/5] END ...C=100, gamma=0.0001, kernel=rbf;, score=0.952 total time=   1.4s\n",
            "[CV 5/5] END ...C=100, gamma=0.0001, kernel=rbf;, score=0.937 total time=   1.4s\n",
            "[CV 1/5] END C=100, gamma=0.0001, kernel=linear;, score=0.899 total time=   0.9s\n",
            "[CV 2/5] END C=100, gamma=0.0001, kernel=linear;, score=0.923 total time=   1.0s\n",
            "[CV 3/5] END C=100, gamma=0.0001, kernel=linear;, score=0.904 total time=   1.0s\n",
            "[CV 4/5] END C=100, gamma=0.0001, kernel=linear;, score=0.928 total time=   1.0s\n",
            "[CV 5/5] END C=100, gamma=0.0001, kernel=linear;, score=0.937 total time=   1.0s\n",
            "[CV 1/5] END ....C=1000, gamma=1000, kernel=rbf;, score=0.519 total time=   4.0s\n",
            "[CV 2/5] END ....C=1000, gamma=1000, kernel=rbf;, score=0.519 total time=   3.9s\n",
            "[CV 3/5] END ....C=1000, gamma=1000, kernel=rbf;, score=0.519 total time=   3.9s\n",
            "[CV 4/5] END ....C=1000, gamma=1000, kernel=rbf;, score=0.522 total time=   4.0s\n",
            "[CV 5/5] END ....C=1000, gamma=1000, kernel=rbf;, score=0.517 total time=   4.0s\n",
            "[CV 1/5] END .C=1000, gamma=1000, kernel=linear;, score=0.899 total time=   1.0s\n",
            "[CV 2/5] END .C=1000, gamma=1000, kernel=linear;, score=0.923 total time=   1.0s\n",
            "[CV 3/5] END .C=1000, gamma=1000, kernel=linear;, score=0.904 total time=   1.1s\n",
            "[CV 4/5] END .C=1000, gamma=1000, kernel=linear;, score=0.928 total time=   1.0s\n",
            "[CV 5/5] END .C=1000, gamma=1000, kernel=linear;, score=0.937 total time=   1.0s\n",
            "[CV 1/5] END .....C=1000, gamma=100, kernel=rbf;, score=0.519 total time=   3.9s\n",
            "[CV 2/5] END .....C=1000, gamma=100, kernel=rbf;, score=0.519 total time=   3.7s\n",
            "[CV 3/5] END .....C=1000, gamma=100, kernel=rbf;, score=0.519 total time=   3.8s\n",
            "[CV 4/5] END .....C=1000, gamma=100, kernel=rbf;, score=0.522 total time=   3.7s\n",
            "[CV 5/5] END .....C=1000, gamma=100, kernel=rbf;, score=0.517 total time=   3.7s\n",
            "[CV 1/5] END ..C=1000, gamma=100, kernel=linear;, score=0.899 total time=   0.9s\n",
            "[CV 2/5] END ..C=1000, gamma=100, kernel=linear;, score=0.923 total time=   1.0s\n",
            "[CV 3/5] END ..C=1000, gamma=100, kernel=linear;, score=0.904 total time=   1.0s\n",
            "[CV 4/5] END ..C=1000, gamma=100, kernel=linear;, score=0.928 total time=   1.0s\n",
            "[CV 5/5] END ..C=1000, gamma=100, kernel=linear;, score=0.937 total time=   1.0s\n",
            "[CV 1/5] END ......C=1000, gamma=10, kernel=rbf;, score=0.519 total time=   3.6s\n",
            "[CV 2/5] END ......C=1000, gamma=10, kernel=rbf;, score=0.519 total time=   3.7s\n",
            "[CV 3/5] END ......C=1000, gamma=10, kernel=rbf;, score=0.519 total time=   3.6s\n",
            "[CV 4/5] END ......C=1000, gamma=10, kernel=rbf;, score=0.522 total time=   3.6s\n",
            "[CV 5/5] END ......C=1000, gamma=10, kernel=rbf;, score=0.517 total time=   3.7s\n",
            "[CV 1/5] END ...C=1000, gamma=10, kernel=linear;, score=0.899 total time=   0.9s\n",
            "[CV 2/5] END ...C=1000, gamma=10, kernel=linear;, score=0.923 total time=   1.0s\n",
            "[CV 3/5] END ...C=1000, gamma=10, kernel=linear;, score=0.904 total time=   1.0s\n",
            "[CV 4/5] END ...C=1000, gamma=10, kernel=linear;, score=0.928 total time=   1.0s\n",
            "[CV 5/5] END ...C=1000, gamma=10, kernel=linear;, score=0.937 total time=   1.0s\n",
            "[CV 1/5] END .......C=1000, gamma=1, kernel=rbf;, score=0.519 total time=   3.7s\n",
            "[CV 2/5] END .......C=1000, gamma=1, kernel=rbf;, score=0.519 total time=   3.9s\n",
            "[CV 3/5] END .......C=1000, gamma=1, kernel=rbf;, score=0.519 total time=   4.2s\n",
            "[CV 4/5] END .......C=1000, gamma=1, kernel=rbf;, score=0.522 total time=   4.0s\n",
            "[CV 5/5] END .......C=1000, gamma=1, kernel=rbf;, score=0.517 total time=   3.9s\n",
            "[CV 1/5] END ....C=1000, gamma=1, kernel=linear;, score=0.899 total time=   0.9s\n",
            "[CV 2/5] END ....C=1000, gamma=1, kernel=linear;, score=0.923 total time=   1.0s\n",
            "[CV 3/5] END ....C=1000, gamma=1, kernel=linear;, score=0.904 total time=   1.0s\n",
            "[CV 4/5] END ....C=1000, gamma=1, kernel=linear;, score=0.928 total time=   1.0s\n",
            "[CV 5/5] END ....C=1000, gamma=1, kernel=linear;, score=0.937 total time=   1.0s\n",
            "[CV 1/5] END .....C=1000, gamma=0.1, kernel=rbf;, score=0.519 total time=   3.8s\n",
            "[CV 2/5] END .....C=1000, gamma=0.1, kernel=rbf;, score=0.519 total time=   3.9s\n",
            "[CV 3/5] END .....C=1000, gamma=0.1, kernel=rbf;, score=0.519 total time=   3.6s\n",
            "[CV 4/5] END .....C=1000, gamma=0.1, kernel=rbf;, score=0.522 total time=   3.7s\n",
            "[CV 5/5] END .....C=1000, gamma=0.1, kernel=rbf;, score=0.517 total time=   3.9s\n",
            "[CV 1/5] END ..C=1000, gamma=0.1, kernel=linear;, score=0.899 total time=   0.9s\n",
            "[CV 2/5] END ..C=1000, gamma=0.1, kernel=linear;, score=0.923 total time=   1.0s\n",
            "[CV 3/5] END ..C=1000, gamma=0.1, kernel=linear;, score=0.904 total time=   1.0s\n",
            "[CV 4/5] END ..C=1000, gamma=0.1, kernel=linear;, score=0.928 total time=   1.0s\n",
            "[CV 5/5] END ..C=1000, gamma=0.1, kernel=linear;, score=0.937 total time=   1.0s\n",
            "[CV 1/5] END ....C=1000, gamma=0.01, kernel=rbf;, score=0.519 total time=   3.9s\n",
            "[CV 2/5] END ....C=1000, gamma=0.01, kernel=rbf;, score=0.519 total time=   3.8s\n",
            "[CV 3/5] END ....C=1000, gamma=0.01, kernel=rbf;, score=0.519 total time=   3.8s\n",
            "[CV 4/5] END ....C=1000, gamma=0.01, kernel=rbf;, score=0.522 total time=   3.9s\n",
            "[CV 5/5] END ....C=1000, gamma=0.01, kernel=rbf;, score=0.517 total time=   3.6s\n",
            "[CV 1/5] END .C=1000, gamma=0.01, kernel=linear;, score=0.899 total time=   0.9s\n",
            "[CV 2/5] END .C=1000, gamma=0.01, kernel=linear;, score=0.923 total time=   1.0s\n",
            "[CV 3/5] END .C=1000, gamma=0.01, kernel=linear;, score=0.904 total time=   1.0s\n",
            "[CV 4/5] END .C=1000, gamma=0.01, kernel=linear;, score=0.928 total time=   1.0s\n",
            "[CV 5/5] END .C=1000, gamma=0.01, kernel=linear;, score=0.937 total time=   0.9s\n",
            "[CV 1/5] END ...C=1000, gamma=0.001, kernel=rbf;, score=0.880 total time=   3.3s\n",
            "[CV 2/5] END ...C=1000, gamma=0.001, kernel=rbf;, score=0.947 total time=   3.4s\n",
            "[CV 3/5] END ...C=1000, gamma=0.001, kernel=rbf;, score=0.933 total time=   3.4s\n",
            "[CV 4/5] END ...C=1000, gamma=0.001, kernel=rbf;, score=0.947 total time=   3.4s\n",
            "[CV 5/5] END ...C=1000, gamma=0.001, kernel=rbf;, score=0.947 total time=   3.4s\n",
            "[CV 1/5] END C=1000, gamma=0.001, kernel=linear;, score=0.899 total time=   0.9s\n",
            "[CV 2/5] END C=1000, gamma=0.001, kernel=linear;, score=0.923 total time=   1.0s\n",
            "[CV 3/5] END C=1000, gamma=0.001, kernel=linear;, score=0.904 total time=   1.0s\n",
            "[CV 4/5] END C=1000, gamma=0.001, kernel=linear;, score=0.928 total time=   1.0s\n",
            "[CV 5/5] END C=1000, gamma=0.001, kernel=linear;, score=0.937 total time=   1.0s\n",
            "[CV 1/5] END ..C=1000, gamma=0.0001, kernel=rbf;, score=0.913 total time=   1.2s\n",
            "[CV 2/5] END ..C=1000, gamma=0.0001, kernel=rbf;, score=0.933 total time=   1.3s\n",
            "[CV 3/5] END ..C=1000, gamma=0.0001, kernel=rbf;, score=0.947 total time=   1.3s\n",
            "[CV 4/5] END ..C=1000, gamma=0.0001, kernel=rbf;, score=0.952 total time=   1.3s\n",
            "[CV 5/5] END ..C=1000, gamma=0.0001, kernel=rbf;, score=0.937 total time=   1.3s\n",
            "[CV 1/5] END C=1000, gamma=0.0001, kernel=linear;, score=0.899 total time=   0.8s\n",
            "[CV 2/5] END C=1000, gamma=0.0001, kernel=linear;, score=0.923 total time=   0.9s\n",
            "[CV 3/5] END C=1000, gamma=0.0001, kernel=linear;, score=0.904 total time=   1.0s\n",
            "[CV 4/5] END C=1000, gamma=0.0001, kernel=linear;, score=0.928 total time=   1.0s\n",
            "[CV 5/5] END C=1000, gamma=0.0001, kernel=linear;, score=0.937 total time=   1.0s\n"
          ]
        },
        {
          "output_type": "execute_result",
          "data": {
            "text/plain": [
              "GridSearchCV(cv=5, estimator=SVC(),\n",
              "             param_grid={'C': [0.01, 0.1, 1, 10, 100, 1000],\n",
              "                         'gamma': [1000, 100, 10, 1, 0.1, 0.01, 0.001, 0.0001],\n",
              "                         'kernel': ['rbf', 'linear']},\n",
              "             verbose=3)"
            ]
          },
          "metadata": {},
          "execution_count": 97
        }
      ],
      "source": [
        "from sklearn.model_selection import GridSearchCV\n",
        "from sklearn.svm import SVC\n",
        " # defining parameter range\n",
        "param_grid = {'C': [0.01,0.1, 1, 10, 100, 1000],\n",
        "              'gamma': [1000,100,10,1, 0.1, 0.01, 0.001, 0.0001],\n",
        "              'kernel': ['rbf','linear']}\n",
        "grid = GridSearchCV(SVC(), param_grid, refit = True, verbose = 3,cv=5)\n",
        "# fitting the model for grid search\n",
        "grid.fit(x_train, y_train)"
      ]
    },
    {
      "cell_type": "code",
      "execution_count": null,
      "metadata": {
        "colab": {
          "base_uri": "https://localhost:8080/"
        },
        "id": "r-LiLJtduh5E",
        "outputId": "da98f7ba-6e35-45ab-9066-6e5c3848d786"
      },
      "outputs": [
        {
          "output_type": "stream",
          "name": "stdout",
          "text": [
            "{'C': 10, 'gamma': 0.0001, 'kernel': 'rbf'}\n",
            "SVC(C=10, gamma=0.0001)\n"
          ]
        }
      ],
      "source": [
        "# print best parameter after tuning\n",
        "print(grid.best_params_)\n",
        "# print how our model looks after hyper-parameter tuning\n",
        "print(grid.best_estimator_)\n",
        "clf=grid.best_estimator_"
      ]
    },
    {
      "cell_type": "code",
      "execution_count": null,
      "metadata": {
        "colab": {
          "base_uri": "https://localhost:8080/"
        },
        "id": "XZZMF2OSukfG",
        "outputId": "ae18c1d6-4529-4629-e83f-45a77ca57313"
      },
      "outputs": [
        {
          "output_type": "stream",
          "name": "stdout",
          "text": [
            "              precision    recall  f1-score   support\n",
            "\n",
            "           0       0.94      0.93      0.93       206\n",
            "           1       0.94      0.95      0.94       239\n",
            "\n",
            "    accuracy                           0.94       445\n",
            "   macro avg       0.94      0.94      0.94       445\n",
            "weighted avg       0.94      0.94      0.94       445\n",
            "\n"
          ]
        }
      ],
      "source": [
        "clf.fit(x_train,y_train)\n",
        "y_pred=clf.predict(x_test)\n",
        "from sklearn.metrics import classification_report\n",
        "cpr=classification_report(y_test,y_pred)\n",
        "print(cpr)"
      ]
    },
    {
      "cell_type": "code",
      "execution_count": null,
      "metadata": {
        "colab": {
          "base_uri": "https://localhost:8080/"
        },
        "id": "aVHYWIztum59",
        "outputId": "ed70bd08-1d67-4d9b-9e97-8806b6b4c8a3"
      },
      "outputs": [
        {
          "output_type": "stream",
          "name": "stdout",
          "text": [
            "93.93\n",
            "94.56\n",
            "94.17\n",
            "94.36\n"
          ]
        }
      ],
      "source": [
        "from sklearn.metrics import accuracy_score,precision_score,f1_score,recall_score\n",
        "acc=accuracy_score(y_pred,y_test)\n",
        "print('%.2f'%(acc*100))\n",
        "pre=precision_score(y_pred,y_test)\n",
        "print('%.2f'%(pre*100))\n",
        "rec=recall_score(y_pred,y_test)\n",
        "print('%.2f'%(rec*100))\n",
        "f1=f1_score(y_pred,y_test)\n",
        "print('%.2f'%(f1*100))"
      ]
    },
    {
      "cell_type": "code",
      "execution_count": null,
      "metadata": {
        "colab": {
          "base_uri": "https://localhost:8080/"
        },
        "id": "eiZgn2I0G9Bh",
        "outputId": "a83f9fa9-cbb9-44e7-b1ff-df4a53ade3be"
      },
      "outputs": [
        {
          "output_type": "stream",
          "name": "stdout",
          "text": [
            "Fitting 5 folds for each of 36 candidates, totalling 180 fits\n",
            "[CV 1/5] END .......criterion=gini, max_depth=4;, score=0.774 total time=   0.7s\n",
            "[CV 2/5] END .......criterion=gini, max_depth=4;, score=0.736 total time=   0.7s\n",
            "[CV 3/5] END .......criterion=gini, max_depth=4;, score=0.774 total time=   0.7s\n",
            "[CV 4/5] END .......criterion=gini, max_depth=4;, score=0.821 total time=   0.7s\n",
            "[CV 5/5] END .......criterion=gini, max_depth=4;, score=0.826 total time=   0.7s\n",
            "[CV 1/5] END .......criterion=gini, max_depth=5;, score=0.755 total time=   0.9s\n",
            "[CV 2/5] END .......criterion=gini, max_depth=5;, score=0.784 total time=   0.8s\n",
            "[CV 3/5] END .......criterion=gini, max_depth=5;, score=0.764 total time=   0.9s\n",
            "[CV 4/5] END .......criterion=gini, max_depth=5;, score=0.802 total time=   0.8s\n",
            "[CV 5/5] END .......criterion=gini, max_depth=5;, score=0.812 total time=   0.8s\n",
            "[CV 1/5] END .......criterion=gini, max_depth=6;, score=0.769 total time=   1.0s\n",
            "[CV 2/5] END .......criterion=gini, max_depth=6;, score=0.784 total time=   1.0s\n",
            "[CV 3/5] END .......criterion=gini, max_depth=6;, score=0.745 total time=   1.0s\n",
            "[CV 4/5] END .......criterion=gini, max_depth=6;, score=0.787 total time=   1.0s\n",
            "[CV 5/5] END .......criterion=gini, max_depth=6;, score=0.807 total time=   1.0s\n",
            "[CV 1/5] END .......criterion=gini, max_depth=7;, score=0.779 total time=   1.1s\n",
            "[CV 2/5] END .......criterion=gini, max_depth=7;, score=0.779 total time=   1.1s\n",
            "[CV 3/5] END .......criterion=gini, max_depth=7;, score=0.740 total time=   1.1s\n",
            "[CV 4/5] END .......criterion=gini, max_depth=7;, score=0.807 total time=   1.1s\n",
            "[CV 5/5] END .......criterion=gini, max_depth=7;, score=0.812 total time=   1.1s\n",
            "[CV 1/5] END .......criterion=gini, max_depth=8;, score=0.760 total time=   1.2s\n",
            "[CV 2/5] END .......criterion=gini, max_depth=8;, score=0.769 total time=   1.1s\n",
            "[CV 3/5] END .......criterion=gini, max_depth=8;, score=0.764 total time=   1.2s\n",
            "[CV 4/5] END .......criterion=gini, max_depth=8;, score=0.783 total time=   1.2s\n",
            "[CV 5/5] END .......criterion=gini, max_depth=8;, score=0.807 total time=   1.2s\n",
            "[CV 1/5] END .......criterion=gini, max_depth=9;, score=0.764 total time=   1.3s\n",
            "[CV 2/5] END .......criterion=gini, max_depth=9;, score=0.769 total time=   1.2s\n",
            "[CV 3/5] END .......criterion=gini, max_depth=9;, score=0.750 total time=   1.2s\n",
            "[CV 4/5] END .......criterion=gini, max_depth=9;, score=0.812 total time=   1.2s\n",
            "[CV 5/5] END .......criterion=gini, max_depth=9;, score=0.812 total time=   1.3s\n",
            "[CV 1/5] END ......criterion=gini, max_depth=10;, score=0.774 total time=   1.3s\n",
            "[CV 2/5] END ......criterion=gini, max_depth=10;, score=0.726 total time=   1.2s\n",
            "[CV 3/5] END ......criterion=gini, max_depth=10;, score=0.745 total time=   1.3s\n",
            "[CV 4/5] END ......criterion=gini, max_depth=10;, score=0.792 total time=   1.3s\n",
            "[CV 5/5] END ......criterion=gini, max_depth=10;, score=0.792 total time=   1.4s\n",
            "[CV 1/5] END ......criterion=gini, max_depth=11;, score=0.774 total time=   1.4s\n",
            "[CV 2/5] END ......criterion=gini, max_depth=11;, score=0.788 total time=   1.3s\n",
            "[CV 3/5] END ......criterion=gini, max_depth=11;, score=0.740 total time=   1.3s\n",
            "[CV 4/5] END ......criterion=gini, max_depth=11;, score=0.807 total time=   1.3s\n",
            "[CV 5/5] END ......criterion=gini, max_depth=11;, score=0.787 total time=   1.4s\n",
            "[CV 1/5] END ......criterion=gini, max_depth=12;, score=0.779 total time=   1.5s\n",
            "[CV 2/5] END ......criterion=gini, max_depth=12;, score=0.755 total time=   1.2s\n",
            "[CV 3/5] END ......criterion=gini, max_depth=12;, score=0.755 total time=   1.3s\n",
            "[CV 4/5] END ......criterion=gini, max_depth=12;, score=0.792 total time=   1.4s\n",
            "[CV 5/5] END ......criterion=gini, max_depth=12;, score=0.773 total time=   1.4s\n",
            "[CV 1/5] END ......criterion=gini, max_depth=15;, score=0.740 total time=   1.5s\n",
            "[CV 2/5] END ......criterion=gini, max_depth=15;, score=0.769 total time=   1.2s\n",
            "[CV 3/5] END ......criterion=gini, max_depth=15;, score=0.736 total time=   1.3s\n",
            "[CV 4/5] END ......criterion=gini, max_depth=15;, score=0.749 total time=   1.4s\n",
            "[CV 5/5] END ......criterion=gini, max_depth=15;, score=0.797 total time=   1.5s\n",
            "[CV 1/5] END ......criterion=gini, max_depth=20;, score=0.745 total time=   1.4s\n",
            "[CV 2/5] END ......criterion=gini, max_depth=20;, score=0.745 total time=   1.2s\n",
            "[CV 3/5] END ......criterion=gini, max_depth=20;, score=0.779 total time=   1.3s\n",
            "[CV 4/5] END ......criterion=gini, max_depth=20;, score=0.787 total time=   1.4s\n",
            "[CV 5/5] END ......criterion=gini, max_depth=20;, score=0.792 total time=   1.5s\n",
            "[CV 1/5] END ......criterion=gini, max_depth=30;, score=0.750 total time=   1.4s\n",
            "[CV 2/5] END ......criterion=gini, max_depth=30;, score=0.769 total time=   1.3s\n",
            "[CV 3/5] END ......criterion=gini, max_depth=30;, score=0.721 total time=   1.3s\n",
            "[CV 4/5] END ......criterion=gini, max_depth=30;, score=0.792 total time=   1.4s\n",
            "[CV 5/5] END ......criterion=gini, max_depth=30;, score=0.778 total time=   1.5s\n",
            "[CV 1/5] END ......criterion=gini, max_depth=40;, score=0.784 total time=   1.4s\n",
            "[CV 2/5] END ......criterion=gini, max_depth=40;, score=0.760 total time=   1.3s\n",
            "[CV 3/5] END ......criterion=gini, max_depth=40;, score=0.731 total time=   1.3s\n",
            "[CV 4/5] END ......criterion=gini, max_depth=40;, score=0.787 total time=   1.4s\n",
            "[CV 5/5] END ......criterion=gini, max_depth=40;, score=0.802 total time=   1.5s\n",
            "[CV 1/5] END ......criterion=gini, max_depth=50;, score=0.774 total time=   1.5s\n",
            "[CV 2/5] END ......criterion=gini, max_depth=50;, score=0.764 total time=   1.4s\n",
            "[CV 3/5] END ......criterion=gini, max_depth=50;, score=0.755 total time=   1.3s\n",
            "[CV 4/5] END ......criterion=gini, max_depth=50;, score=0.792 total time=   1.4s\n",
            "[CV 5/5] END ......criterion=gini, max_depth=50;, score=0.787 total time=   2.0s\n",
            "[CV 1/5] END ......criterion=gini, max_depth=70;, score=0.745 total time=   1.8s\n",
            "[CV 2/5] END ......criterion=gini, max_depth=70;, score=0.774 total time=   1.3s\n",
            "[CV 3/5] END ......criterion=gini, max_depth=70;, score=0.726 total time=   1.3s\n",
            "[CV 4/5] END ......criterion=gini, max_depth=70;, score=0.783 total time=   1.4s\n",
            "[CV 5/5] END ......criterion=gini, max_depth=70;, score=0.778 total time=   1.5s\n",
            "[CV 1/5] END ......criterion=gini, max_depth=90;, score=0.779 total time=   1.5s\n",
            "[CV 2/5] END ......criterion=gini, max_depth=90;, score=0.764 total time=   1.4s\n",
            "[CV 3/5] END ......criterion=gini, max_depth=90;, score=0.788 total time=   1.3s\n",
            "[CV 4/5] END ......criterion=gini, max_depth=90;, score=0.807 total time=   1.4s\n",
            "[CV 5/5] END ......criterion=gini, max_depth=90;, score=0.797 total time=   1.5s\n",
            "[CV 1/5] END .....criterion=gini, max_depth=120;, score=0.779 total time=   1.5s\n",
            "[CV 2/5] END .....criterion=gini, max_depth=120;, score=0.784 total time=   1.3s\n",
            "[CV 3/5] END .....criterion=gini, max_depth=120;, score=0.769 total time=   1.3s\n",
            "[CV 4/5] END .....criterion=gini, max_depth=120;, score=0.778 total time=   1.4s\n",
            "[CV 5/5] END .....criterion=gini, max_depth=120;, score=0.783 total time=   1.5s\n",
            "[CV 1/5] END .....criterion=gini, max_depth=150;, score=0.726 total time=   1.5s\n",
            "[CV 2/5] END .....criterion=gini, max_depth=150;, score=0.769 total time=   1.3s\n",
            "[CV 3/5] END .....criterion=gini, max_depth=150;, score=0.740 total time=   1.3s\n",
            "[CV 4/5] END .....criterion=gini, max_depth=150;, score=0.778 total time=   1.4s\n",
            "[CV 5/5] END .....criterion=gini, max_depth=150;, score=0.783 total time=   1.5s\n",
            "[CV 1/5] END ....criterion=entropy, max_depth=4;, score=0.812 total time=   1.2s\n",
            "[CV 2/5] END ....criterion=entropy, max_depth=4;, score=0.779 total time=   1.1s\n",
            "[CV 3/5] END ....criterion=entropy, max_depth=4;, score=0.769 total time=   1.1s\n",
            "[CV 4/5] END ....criterion=entropy, max_depth=4;, score=0.826 total time=   1.2s\n",
            "[CV 5/5] END ....criterion=entropy, max_depth=4;, score=0.802 total time=   1.1s\n",
            "[CV 1/5] END ....criterion=entropy, max_depth=5;, score=0.803 total time=   1.4s\n",
            "[CV 2/5] END ....criterion=entropy, max_depth=5;, score=0.793 total time=   1.3s\n",
            "[CV 3/5] END ....criterion=entropy, max_depth=5;, score=0.784 total time=   1.3s\n",
            "[CV 4/5] END ....criterion=entropy, max_depth=5;, score=0.787 total time=   1.4s\n",
            "[CV 5/5] END ....criterion=entropy, max_depth=5;, score=0.773 total time=   1.3s\n",
            "[CV 1/5] END ....criterion=entropy, max_depth=6;, score=0.788 total time=   1.6s\n",
            "[CV 2/5] END ....criterion=entropy, max_depth=6;, score=0.793 total time=   1.5s\n",
            "[CV 3/5] END ....criterion=entropy, max_depth=6;, score=0.774 total time=   1.4s\n",
            "[CV 4/5] END ....criterion=entropy, max_depth=6;, score=0.826 total time=   1.5s\n",
            "[CV 5/5] END ....criterion=entropy, max_depth=6;, score=0.778 total time=   1.5s\n",
            "[CV 1/5] END ....criterion=entropy, max_depth=7;, score=0.803 total time=   1.6s\n",
            "[CV 2/5] END ....criterion=entropy, max_depth=7;, score=0.793 total time=   1.5s\n",
            "[CV 3/5] END ....criterion=entropy, max_depth=7;, score=0.788 total time=   1.4s\n",
            "[CV 4/5] END ....criterion=entropy, max_depth=7;, score=0.816 total time=   1.6s\n",
            "[CV 5/5] END ....criterion=entropy, max_depth=7;, score=0.792 total time=   1.6s\n",
            "[CV 1/5] END ....criterion=entropy, max_depth=8;, score=0.784 total time=   1.6s\n",
            "[CV 2/5] END ....criterion=entropy, max_depth=8;, score=0.808 total time=   1.5s\n",
            "[CV 3/5] END ....criterion=entropy, max_depth=8;, score=0.798 total time=   1.4s\n",
            "[CV 4/5] END ....criterion=entropy, max_depth=8;, score=0.831 total time=   1.6s\n",
            "[CV 5/5] END ....criterion=entropy, max_depth=8;, score=0.768 total time=   1.6s\n",
            "[CV 1/5] END ....criterion=entropy, max_depth=9;, score=0.779 total time=   1.6s\n",
            "[CV 2/5] END ....criterion=entropy, max_depth=9;, score=0.808 total time=   1.5s\n",
            "[CV 3/5] END ....criterion=entropy, max_depth=9;, score=0.784 total time=   1.5s\n",
            "[CV 4/5] END ....criterion=entropy, max_depth=9;, score=0.812 total time=   1.6s\n",
            "[CV 5/5] END ....criterion=entropy, max_depth=9;, score=0.768 total time=   1.6s\n",
            "[CV 1/5] END ...criterion=entropy, max_depth=10;, score=0.793 total time=   1.7s\n",
            "[CV 2/5] END ...criterion=entropy, max_depth=10;, score=0.803 total time=   1.6s\n",
            "[CV 3/5] END ...criterion=entropy, max_depth=10;, score=0.774 total time=   1.5s\n",
            "[CV 4/5] END ...criterion=entropy, max_depth=10;, score=0.845 total time=   1.6s\n",
            "[CV 5/5] END ...criterion=entropy, max_depth=10;, score=0.758 total time=   1.6s\n",
            "[CV 1/5] END ...criterion=entropy, max_depth=11;, score=0.779 total time=   1.6s\n",
            "[CV 2/5] END ...criterion=entropy, max_depth=11;, score=0.817 total time=   1.5s\n",
            "[CV 3/5] END ...criterion=entropy, max_depth=11;, score=0.798 total time=   1.4s\n",
            "[CV 4/5] END ...criterion=entropy, max_depth=11;, score=0.821 total time=   1.6s\n",
            "[CV 5/5] END ...criterion=entropy, max_depth=11;, score=0.768 total time=   1.6s\n",
            "[CV 1/5] END ...criterion=entropy, max_depth=12;, score=0.793 total time=   1.6s\n",
            "[CV 2/5] END ...criterion=entropy, max_depth=12;, score=0.812 total time=   1.5s\n",
            "[CV 3/5] END ...criterion=entropy, max_depth=12;, score=0.812 total time=   1.5s\n",
            "[CV 4/5] END ...criterion=entropy, max_depth=12;, score=0.816 total time=   1.6s\n",
            "[CV 5/5] END ...criterion=entropy, max_depth=12;, score=0.807 total time=   1.6s\n",
            "[CV 1/5] END ...criterion=entropy, max_depth=15;, score=0.774 total time=   1.6s\n",
            "[CV 2/5] END ...criterion=entropy, max_depth=15;, score=0.798 total time=   1.5s\n",
            "[CV 3/5] END ...criterion=entropy, max_depth=15;, score=0.779 total time=   1.5s\n",
            "[CV 4/5] END ...criterion=entropy, max_depth=15;, score=0.807 total time=   1.6s\n",
            "[CV 5/5] END ...criterion=entropy, max_depth=15;, score=0.773 total time=   1.6s\n",
            "[CV 1/5] END ...criterion=entropy, max_depth=20;, score=0.769 total time=   1.6s\n",
            "[CV 2/5] END ...criterion=entropy, max_depth=20;, score=0.808 total time=   1.5s\n",
            "[CV 3/5] END ...criterion=entropy, max_depth=20;, score=0.788 total time=   1.5s\n",
            "[CV 4/5] END ...criterion=entropy, max_depth=20;, score=0.821 total time=   1.6s\n",
            "[CV 5/5] END ...criterion=entropy, max_depth=20;, score=0.773 total time=   1.6s\n",
            "[CV 1/5] END ...criterion=entropy, max_depth=30;, score=0.769 total time=   1.6s\n",
            "[CV 2/5] END ...criterion=entropy, max_depth=30;, score=0.798 total time=   1.5s\n",
            "[CV 3/5] END ...criterion=entropy, max_depth=30;, score=0.774 total time=   1.5s\n",
            "[CV 4/5] END ...criterion=entropy, max_depth=30;, score=0.821 total time=   1.6s\n",
            "[CV 5/5] END ...criterion=entropy, max_depth=30;, score=0.778 total time=   1.6s\n",
            "[CV 1/5] END ...criterion=entropy, max_depth=40;, score=0.793 total time=   1.6s\n",
            "[CV 2/5] END ...criterion=entropy, max_depth=40;, score=0.798 total time=   1.5s\n",
            "[CV 3/5] END ...criterion=entropy, max_depth=40;, score=0.793 total time=   1.6s\n",
            "[CV 4/5] END ...criterion=entropy, max_depth=40;, score=0.812 total time=   2.3s\n",
            "[CV 5/5] END ...criterion=entropy, max_depth=40;, score=0.763 total time=   1.7s\n",
            "[CV 1/5] END ...criterion=entropy, max_depth=50;, score=0.760 total time=   1.6s\n",
            "[CV 2/5] END ...criterion=entropy, max_depth=50;, score=0.803 total time=   1.6s\n",
            "[CV 3/5] END ...criterion=entropy, max_depth=50;, score=0.788 total time=   1.4s\n",
            "[CV 4/5] END ...criterion=entropy, max_depth=50;, score=0.821 total time=   1.6s\n",
            "[CV 5/5] END ...criterion=entropy, max_depth=50;, score=0.778 total time=   1.6s\n",
            "[CV 1/5] END ...criterion=entropy, max_depth=70;, score=0.793 total time=   1.6s\n",
            "[CV 2/5] END ...criterion=entropy, max_depth=70;, score=0.793 total time=   1.5s\n",
            "[CV 3/5] END ...criterion=entropy, max_depth=70;, score=0.798 total time=   1.5s\n",
            "[CV 4/5] END ...criterion=entropy, max_depth=70;, score=0.831 total time=   1.6s\n",
            "[CV 5/5] END ...criterion=entropy, max_depth=70;, score=0.773 total time=   1.6s\n",
            "[CV 1/5] END ...criterion=entropy, max_depth=90;, score=0.774 total time=   1.6s\n",
            "[CV 2/5] END ...criterion=entropy, max_depth=90;, score=0.793 total time=   1.5s\n",
            "[CV 3/5] END ...criterion=entropy, max_depth=90;, score=0.793 total time=   1.5s\n",
            "[CV 4/5] END ...criterion=entropy, max_depth=90;, score=0.807 total time=   1.6s\n",
            "[CV 5/5] END ...criterion=entropy, max_depth=90;, score=0.773 total time=   1.6s\n",
            "[CV 1/5] END ..criterion=entropy, max_depth=120;, score=0.769 total time=   1.7s\n",
            "[CV 2/5] END ..criterion=entropy, max_depth=120;, score=0.803 total time=   1.6s\n",
            "[CV 3/5] END ..criterion=entropy, max_depth=120;, score=0.788 total time=   1.5s\n",
            "[CV 4/5] END ..criterion=entropy, max_depth=120;, score=0.816 total time=   1.6s\n",
            "[CV 5/5] END ..criterion=entropy, max_depth=120;, score=0.773 total time=   1.6s\n",
            "[CV 1/5] END ..criterion=entropy, max_depth=150;, score=0.779 total time=   1.7s\n",
            "[CV 2/5] END ..criterion=entropy, max_depth=150;, score=0.793 total time=   1.5s\n",
            "[CV 3/5] END ..criterion=entropy, max_depth=150;, score=0.779 total time=   1.5s\n",
            "[CV 4/5] END ..criterion=entropy, max_depth=150;, score=0.807 total time=   1.6s\n",
            "[CV 5/5] END ..criterion=entropy, max_depth=150;, score=0.778 total time=   1.6s\n"
          ]
        },
        {
          "output_type": "execute_result",
          "data": {
            "text/plain": [
              "GridSearchCV(cv=5, estimator=DecisionTreeClassifier(),\n",
              "             param_grid={'criterion': ['gini', 'entropy'],\n",
              "                         'max_depth': [4, 5, 6, 7, 8, 9, 10, 11, 12, 15, 20, 30,\n",
              "                                       40, 50, 70, 90, 120, 150]},\n",
              "             verbose=3)"
            ]
          },
          "metadata": {},
          "execution_count": 101
        }
      ],
      "source": [
        "from sklearn.model_selection import GridSearchCV\n",
        "from sklearn.tree import DecisionTreeClassifier\n",
        " # defining parameter range\n",
        "param_grid = tree_para = {'criterion':['gini','entropy'],\n",
        "                          'max_depth':[4,5,6,7,8,9,10,11,12,15,20,30,40,50,70,90,120,150]}\n",
        "grid = GridSearchCV(DecisionTreeClassifier(), param_grid, refit = True, verbose = 3,cv=5)\n",
        "# fitting the model for grid search\n",
        "grid.fit(x_train, y_train)"
      ]
    },
    {
      "cell_type": "code",
      "execution_count": null,
      "metadata": {
        "colab": {
          "base_uri": "https://localhost:8080/"
        },
        "id": "H86oQ7nLHCRA",
        "outputId": "2c1590d3-edd1-4c51-fb9a-4b737233e0a2"
      },
      "outputs": [
        {
          "output_type": "stream",
          "name": "stdout",
          "text": [
            "{'criterion': 'entropy', 'max_depth': 12}\n",
            "DecisionTreeClassifier(criterion='entropy', max_depth=12)\n"
          ]
        }
      ],
      "source": [
        "# print best parameter after tuning\n",
        "print(grid.best_params_)\n",
        "# print how our model looks after hyper-parameter tuning\n",
        "print(grid.best_estimator_)\n",
        "clf_dt=grid.best_estimator_"
      ]
    },
    {
      "cell_type": "code",
      "execution_count": null,
      "metadata": {
        "colab": {
          "base_uri": "https://localhost:8080/"
        },
        "id": "rmAusBjsHHBu",
        "outputId": "3d170135-8f15-4e88-d79a-a89d052a135d"
      },
      "outputs": [
        {
          "output_type": "stream",
          "name": "stdout",
          "text": [
            "              precision    recall  f1-score   support\n",
            "\n",
            "           0       0.74      0.79      0.76       206\n",
            "           1       0.81      0.76      0.78       239\n",
            "\n",
            "    accuracy                           0.77       445\n",
            "   macro avg       0.77      0.77      0.77       445\n",
            "weighted avg       0.77      0.77      0.77       445\n",
            "\n"
          ]
        }
      ],
      "source": [
        "clf_dt.fit(x_train,y_train)\n",
        "y_pred=clf_dt.predict(x_test)\n",
        "from sklearn.metrics import classification_report\n",
        "cpr=classification_report(y_test,y_pred)\n",
        "print(cpr)"
      ]
    },
    {
      "cell_type": "code",
      "execution_count": null,
      "metadata": {
        "colab": {
          "base_uri": "https://localhost:8080/"
        },
        "id": "6HHXyY_HHHyO",
        "outputId": "107361b2-56bd-466f-9f23-48dde76a0d66"
      },
      "outputs": [
        {
          "output_type": "stream",
          "name": "stdout",
          "text": [
            "77.30\n",
            "76.15\n",
            "80.53\n",
            "78.28\n"
          ]
        }
      ],
      "source": [
        "from sklearn.metrics import accuracy_score,precision_score,f1_score,recall_score\n",
        "acc=accuracy_score(y_pred,y_test)\n",
        "print('%.2f'%(acc*100))\n",
        "pre=precision_score(y_pred,y_test)\n",
        "print('%.2f'%(pre*100))\n",
        "rec=recall_score(y_pred,y_test)\n",
        "print('%.2f'%(rec*100))\n",
        "f1=f1_score(y_pred,y_test)\n",
        "print('%.2f'%(f1*100))"
      ]
    },
    {
      "cell_type": "code",
      "execution_count": null,
      "metadata": {
        "colab": {
          "base_uri": "https://localhost:8080/"
        },
        "id": "qz8fEcN_HDNj",
        "outputId": "71e3d87b-1bc9-4234-9077-ce7818c2b7ea"
      },
      "outputs": [
        {
          "output_type": "stream",
          "name": "stdout",
          "text": [
            "Fitting 5 folds for each of 120 candidates, totalling 600 fits\n",
            "[CV 1/5] END criterion=gini, max_depth=4, max_features=auto, n_estimators=50;, score=0.832 total time=   0.4s\n",
            "[CV 2/5] END criterion=gini, max_depth=4, max_features=auto, n_estimators=50;, score=0.846 total time=   0.4s\n",
            "[CV 3/5] END criterion=gini, max_depth=4, max_features=auto, n_estimators=50;, score=0.865 total time=   0.4s\n",
            "[CV 4/5] END criterion=gini, max_depth=4, max_features=auto, n_estimators=50;, score=0.855 total time=   0.4s\n",
            "[CV 5/5] END criterion=gini, max_depth=4, max_features=auto, n_estimators=50;, score=0.836 total time=   0.4s\n",
            "[CV 1/5] END criterion=gini, max_depth=4, max_features=auto, n_estimators=100;, score=0.846 total time=   0.7s\n",
            "[CV 2/5] END criterion=gini, max_depth=4, max_features=auto, n_estimators=100;, score=0.851 total time=   0.7s\n",
            "[CV 3/5] END criterion=gini, max_depth=4, max_features=auto, n_estimators=100;, score=0.885 total time=   0.7s\n",
            "[CV 4/5] END criterion=gini, max_depth=4, max_features=auto, n_estimators=100;, score=0.874 total time=   0.7s\n",
            "[CV 5/5] END criterion=gini, max_depth=4, max_features=auto, n_estimators=100;, score=0.816 total time=   0.7s\n",
            "[CV 1/5] END criterion=gini, max_depth=4, max_features=auto, n_estimators=200;, score=0.827 total time=   1.4s\n",
            "[CV 2/5] END criterion=gini, max_depth=4, max_features=auto, n_estimators=200;, score=0.865 total time=   1.4s\n",
            "[CV 3/5] END criterion=gini, max_depth=4, max_features=auto, n_estimators=200;, score=0.894 total time=   1.4s\n",
            "[CV 4/5] END criterion=gini, max_depth=4, max_features=auto, n_estimators=200;, score=0.889 total time=   1.4s\n",
            "[CV 5/5] END criterion=gini, max_depth=4, max_features=auto, n_estimators=200;, score=0.836 total time=   1.4s\n",
            "[CV 1/5] END criterion=gini, max_depth=4, max_features=auto, n_estimators=500;, score=0.846 total time=   3.4s\n",
            "[CV 2/5] END criterion=gini, max_depth=4, max_features=auto, n_estimators=500;, score=0.851 total time=   3.4s\n",
            "[CV 3/5] END criterion=gini, max_depth=4, max_features=auto, n_estimators=500;, score=0.894 total time=   3.3s\n",
            "[CV 4/5] END criterion=gini, max_depth=4, max_features=auto, n_estimators=500;, score=0.870 total time=   3.3s\n",
            "[CV 5/5] END criterion=gini, max_depth=4, max_features=auto, n_estimators=500;, score=0.831 total time=   3.4s\n",
            "[CV 1/5] END criterion=gini, max_depth=4, max_features=sqrt, n_estimators=50;, score=0.822 total time=   0.4s\n",
            "[CV 2/5] END criterion=gini, max_depth=4, max_features=sqrt, n_estimators=50;, score=0.861 total time=   0.4s\n",
            "[CV 3/5] END criterion=gini, max_depth=4, max_features=sqrt, n_estimators=50;, score=0.865 total time=   0.4s\n",
            "[CV 4/5] END criterion=gini, max_depth=4, max_features=sqrt, n_estimators=50;, score=0.874 total time=   0.4s\n",
            "[CV 5/5] END criterion=gini, max_depth=4, max_features=sqrt, n_estimators=50;, score=0.812 total time=   0.4s\n",
            "[CV 1/5] END criterion=gini, max_depth=4, max_features=sqrt, n_estimators=100;, score=0.822 total time=   0.7s\n",
            "[CV 2/5] END criterion=gini, max_depth=4, max_features=sqrt, n_estimators=100;, score=0.846 total time=   0.7s\n",
            "[CV 3/5] END criterion=gini, max_depth=4, max_features=sqrt, n_estimators=100;, score=0.894 total time=   0.7s\n",
            "[CV 4/5] END criterion=gini, max_depth=4, max_features=sqrt, n_estimators=100;, score=0.860 total time=   0.7s\n",
            "[CV 5/5] END criterion=gini, max_depth=4, max_features=sqrt, n_estimators=100;, score=0.841 total time=   0.7s\n",
            "[CV 1/5] END criterion=gini, max_depth=4, max_features=sqrt, n_estimators=200;, score=0.841 total time=   1.4s\n",
            "[CV 2/5] END criterion=gini, max_depth=4, max_features=sqrt, n_estimators=200;, score=0.875 total time=   1.4s\n",
            "[CV 3/5] END criterion=gini, max_depth=4, max_features=sqrt, n_estimators=200;, score=0.885 total time=   1.3s\n",
            "[CV 4/5] END criterion=gini, max_depth=4, max_features=sqrt, n_estimators=200;, score=0.874 total time=   1.3s\n",
            "[CV 5/5] END criterion=gini, max_depth=4, max_features=sqrt, n_estimators=200;, score=0.836 total time=   1.3s\n",
            "[CV 1/5] END criterion=gini, max_depth=4, max_features=sqrt, n_estimators=500;, score=0.837 total time=   3.3s\n",
            "[CV 2/5] END criterion=gini, max_depth=4, max_features=sqrt, n_estimators=500;, score=0.870 total time=   3.3s\n",
            "[CV 3/5] END criterion=gini, max_depth=4, max_features=sqrt, n_estimators=500;, score=0.885 total time=   3.3s\n",
            "[CV 4/5] END criterion=gini, max_depth=4, max_features=sqrt, n_estimators=500;, score=0.884 total time=   3.3s\n",
            "[CV 5/5] END criterion=gini, max_depth=4, max_features=sqrt, n_estimators=500;, score=0.841 total time=   3.4s\n",
            "[CV 1/5] END criterion=gini, max_depth=4, max_features=log2, n_estimators=50;, score=0.827 total time=   0.1s\n",
            "[CV 2/5] END criterion=gini, max_depth=4, max_features=log2, n_estimators=50;, score=0.822 total time=   0.1s\n",
            "[CV 3/5] END criterion=gini, max_depth=4, max_features=log2, n_estimators=50;, score=0.832 total time=   0.1s\n",
            "[CV 4/5] END criterion=gini, max_depth=4, max_features=log2, n_estimators=50;, score=0.826 total time=   0.1s\n",
            "[CV 5/5] END criterion=gini, max_depth=4, max_features=log2, n_estimators=50;, score=0.841 total time=   0.1s\n",
            "[CV 1/5] END criterion=gini, max_depth=4, max_features=log2, n_estimators=100;, score=0.808 total time=   0.2s\n",
            "[CV 2/5] END criterion=gini, max_depth=4, max_features=log2, n_estimators=100;, score=0.827 total time=   0.3s\n",
            "[CV 3/5] END criterion=gini, max_depth=4, max_features=log2, n_estimators=100;, score=0.832 total time=   0.2s\n",
            "[CV 4/5] END criterion=gini, max_depth=4, max_features=log2, n_estimators=100;, score=0.831 total time=   0.2s\n",
            "[CV 5/5] END criterion=gini, max_depth=4, max_features=log2, n_estimators=100;, score=0.802 total time=   0.2s\n",
            "[CV 1/5] END criterion=gini, max_depth=4, max_features=log2, n_estimators=200;, score=0.808 total time=   0.5s\n",
            "[CV 2/5] END criterion=gini, max_depth=4, max_features=log2, n_estimators=200;, score=0.808 total time=   0.5s\n",
            "[CV 3/5] END criterion=gini, max_depth=4, max_features=log2, n_estimators=200;, score=0.837 total time=   0.5s\n",
            "[CV 4/5] END criterion=gini, max_depth=4, max_features=log2, n_estimators=200;, score=0.850 total time=   0.7s\n",
            "[CV 5/5] END criterion=gini, max_depth=4, max_features=log2, n_estimators=200;, score=0.812 total time=   0.7s\n",
            "[CV 1/5] END criterion=gini, max_depth=4, max_features=log2, n_estimators=500;, score=0.827 total time=   1.7s\n",
            "[CV 2/5] END criterion=gini, max_depth=4, max_features=log2, n_estimators=500;, score=0.827 total time=   1.2s\n",
            "[CV 3/5] END criterion=gini, max_depth=4, max_features=log2, n_estimators=500;, score=0.837 total time=   1.1s\n",
            "[CV 4/5] END criterion=gini, max_depth=4, max_features=log2, n_estimators=500;, score=0.855 total time=   1.1s\n",
            "[CV 5/5] END criterion=gini, max_depth=4, max_features=log2, n_estimators=500;, score=0.787 total time=   1.1s\n",
            "[CV 1/5] END criterion=gini, max_depth=5, max_features=auto, n_estimators=50;, score=0.846 total time=   0.4s\n",
            "[CV 2/5] END criterion=gini, max_depth=5, max_features=auto, n_estimators=50;, score=0.889 total time=   0.4s\n",
            "[CV 3/5] END criterion=gini, max_depth=5, max_features=auto, n_estimators=50;, score=0.875 total time=   0.4s\n",
            "[CV 4/5] END criterion=gini, max_depth=5, max_features=auto, n_estimators=50;, score=0.899 total time=   0.4s\n",
            "[CV 5/5] END criterion=gini, max_depth=5, max_features=auto, n_estimators=50;, score=0.850 total time=   0.4s\n",
            "[CV 1/5] END criterion=gini, max_depth=5, max_features=auto, n_estimators=100;, score=0.846 total time=   0.8s\n",
            "[CV 2/5] END criterion=gini, max_depth=5, max_features=auto, n_estimators=100;, score=0.885 total time=   0.8s\n",
            "[CV 3/5] END criterion=gini, max_depth=5, max_features=auto, n_estimators=100;, score=0.880 total time=   0.8s\n",
            "[CV 4/5] END criterion=gini, max_depth=5, max_features=auto, n_estimators=100;, score=0.879 total time=   0.8s\n",
            "[CV 5/5] END criterion=gini, max_depth=5, max_features=auto, n_estimators=100;, score=0.865 total time=   0.9s\n",
            "[CV 1/5] END criterion=gini, max_depth=5, max_features=auto, n_estimators=200;, score=0.851 total time=   1.6s\n",
            "[CV 2/5] END criterion=gini, max_depth=5, max_features=auto, n_estimators=200;, score=0.875 total time=   1.6s\n",
            "[CV 3/5] END criterion=gini, max_depth=5, max_features=auto, n_estimators=200;, score=0.889 total time=   1.6s\n",
            "[CV 4/5] END criterion=gini, max_depth=5, max_features=auto, n_estimators=200;, score=0.899 total time=   1.6s\n",
            "[CV 5/5] END criterion=gini, max_depth=5, max_features=auto, n_estimators=200;, score=0.860 total time=   1.6s\n",
            "[CV 1/5] END criterion=gini, max_depth=5, max_features=auto, n_estimators=500;, score=0.837 total time=   4.0s\n",
            "[CV 2/5] END criterion=gini, max_depth=5, max_features=auto, n_estimators=500;, score=0.885 total time=   4.0s\n",
            "[CV 3/5] END criterion=gini, max_depth=5, max_features=auto, n_estimators=500;, score=0.894 total time=   3.9s\n",
            "[CV 4/5] END criterion=gini, max_depth=5, max_features=auto, n_estimators=500;, score=0.894 total time=   3.8s\n",
            "[CV 5/5] END criterion=gini, max_depth=5, max_features=auto, n_estimators=500;, score=0.855 total time=   3.9s\n",
            "[CV 1/5] END criterion=gini, max_depth=5, max_features=sqrt, n_estimators=50;, score=0.846 total time=   0.4s\n",
            "[CV 2/5] END criterion=gini, max_depth=5, max_features=sqrt, n_estimators=50;, score=0.875 total time=   0.4s\n",
            "[CV 3/5] END criterion=gini, max_depth=5, max_features=sqrt, n_estimators=50;, score=0.870 total time=   0.4s\n",
            "[CV 4/5] END criterion=gini, max_depth=5, max_features=sqrt, n_estimators=50;, score=0.889 total time=   0.4s\n",
            "[CV 5/5] END criterion=gini, max_depth=5, max_features=sqrt, n_estimators=50;, score=0.879 total time=   0.4s\n",
            "[CV 1/5] END criterion=gini, max_depth=5, max_features=sqrt, n_estimators=100;, score=0.841 total time=   0.8s\n",
            "[CV 2/5] END criterion=gini, max_depth=5, max_features=sqrt, n_estimators=100;, score=0.880 total time=   0.8s\n",
            "[CV 3/5] END criterion=gini, max_depth=5, max_features=sqrt, n_estimators=100;, score=0.880 total time=   0.8s\n",
            "[CV 4/5] END criterion=gini, max_depth=5, max_features=sqrt, n_estimators=100;, score=0.889 total time=   0.8s\n",
            "[CV 5/5] END criterion=gini, max_depth=5, max_features=sqrt, n_estimators=100;, score=0.860 total time=   0.8s\n",
            "[CV 1/5] END criterion=gini, max_depth=5, max_features=sqrt, n_estimators=200;, score=0.861 total time=   1.6s\n",
            "[CV 2/5] END criterion=gini, max_depth=5, max_features=sqrt, n_estimators=200;, score=0.880 total time=   1.6s\n",
            "[CV 3/5] END criterion=gini, max_depth=5, max_features=sqrt, n_estimators=200;, score=0.899 total time=   1.6s\n",
            "[CV 4/5] END criterion=gini, max_depth=5, max_features=sqrt, n_estimators=200;, score=0.889 total time=   1.6s\n",
            "[CV 5/5] END criterion=gini, max_depth=5, max_features=sqrt, n_estimators=200;, score=0.855 total time=   1.6s\n",
            "[CV 1/5] END criterion=gini, max_depth=5, max_features=sqrt, n_estimators=500;, score=0.856 total time=   3.9s\n",
            "[CV 2/5] END criterion=gini, max_depth=5, max_features=sqrt, n_estimators=500;, score=0.880 total time=   3.9s\n",
            "[CV 3/5] END criterion=gini, max_depth=5, max_features=sqrt, n_estimators=500;, score=0.880 total time=   3.9s\n",
            "[CV 4/5] END criterion=gini, max_depth=5, max_features=sqrt, n_estimators=500;, score=0.889 total time=   3.9s\n",
            "[CV 5/5] END criterion=gini, max_depth=5, max_features=sqrt, n_estimators=500;, score=0.865 total time=   3.9s\n",
            "[CV 1/5] END criterion=gini, max_depth=5, max_features=log2, n_estimators=50;, score=0.812 total time=   0.1s\n",
            "[CV 2/5] END criterion=gini, max_depth=5, max_features=log2, n_estimators=50;, score=0.846 total time=   0.2s\n",
            "[CV 3/5] END criterion=gini, max_depth=5, max_features=log2, n_estimators=50;, score=0.837 total time=   0.1s\n",
            "[CV 4/5] END criterion=gini, max_depth=5, max_features=log2, n_estimators=50;, score=0.850 total time=   0.1s\n",
            "[CV 5/5] END criterion=gini, max_depth=5, max_features=log2, n_estimators=50;, score=0.812 total time=   0.1s\n",
            "[CV 1/5] END criterion=gini, max_depth=5, max_features=log2, n_estimators=100;, score=0.832 total time=   0.3s\n",
            "[CV 2/5] END criterion=gini, max_depth=5, max_features=log2, n_estimators=100;, score=0.832 total time=   0.3s\n",
            "[CV 3/5] END criterion=gini, max_depth=5, max_features=log2, n_estimators=100;, score=0.880 total time=   0.3s\n",
            "[CV 4/5] END criterion=gini, max_depth=5, max_features=log2, n_estimators=100;, score=0.865 total time=   0.3s\n",
            "[CV 5/5] END criterion=gini, max_depth=5, max_features=log2, n_estimators=100;, score=0.836 total time=   0.3s\n",
            "[CV 1/5] END criterion=gini, max_depth=5, max_features=log2, n_estimators=200;, score=0.837 total time=   0.5s\n",
            "[CV 2/5] END criterion=gini, max_depth=5, max_features=log2, n_estimators=200;, score=0.841 total time=   0.5s\n",
            "[CV 3/5] END criterion=gini, max_depth=5, max_features=log2, n_estimators=200;, score=0.880 total time=   0.5s\n",
            "[CV 4/5] END criterion=gini, max_depth=5, max_features=log2, n_estimators=200;, score=0.855 total time=   0.5s\n",
            "[CV 5/5] END criterion=gini, max_depth=5, max_features=log2, n_estimators=200;, score=0.826 total time=   0.5s\n",
            "[CV 1/5] END criterion=gini, max_depth=5, max_features=log2, n_estimators=500;, score=0.827 total time=   1.2s\n",
            "[CV 2/5] END criterion=gini, max_depth=5, max_features=log2, n_estimators=500;, score=0.837 total time=   1.2s\n",
            "[CV 3/5] END criterion=gini, max_depth=5, max_features=log2, n_estimators=500;, score=0.856 total time=   1.2s\n",
            "[CV 4/5] END criterion=gini, max_depth=5, max_features=log2, n_estimators=500;, score=0.855 total time=   1.2s\n",
            "[CV 5/5] END criterion=gini, max_depth=5, max_features=log2, n_estimators=500;, score=0.802 total time=   1.2s\n",
            "[CV 1/5] END criterion=gini, max_depth=6, max_features=auto, n_estimators=50;, score=0.851 total time=   0.5s\n",
            "[CV 2/5] END criterion=gini, max_depth=6, max_features=auto, n_estimators=50;, score=0.899 total time=   0.5s\n",
            "[CV 3/5] END criterion=gini, max_depth=6, max_features=auto, n_estimators=50;, score=0.885 total time=   0.5s\n",
            "[CV 4/5] END criterion=gini, max_depth=6, max_features=auto, n_estimators=50;, score=0.908 total time=   0.5s\n",
            "[CV 5/5] END criterion=gini, max_depth=6, max_features=auto, n_estimators=50;, score=0.884 total time=   0.5s\n",
            "[CV 1/5] END criterion=gini, max_depth=6, max_features=auto, n_estimators=100;, score=0.856 total time=   0.9s\n",
            "[CV 2/5] END criterion=gini, max_depth=6, max_features=auto, n_estimators=100;, score=0.894 total time=   0.9s\n",
            "[CV 3/5] END criterion=gini, max_depth=6, max_features=auto, n_estimators=100;, score=0.894 total time=   0.9s\n",
            "[CV 4/5] END criterion=gini, max_depth=6, max_features=auto, n_estimators=100;, score=0.889 total time=   0.9s\n",
            "[CV 5/5] END criterion=gini, max_depth=6, max_features=auto, n_estimators=100;, score=0.870 total time=   0.9s\n",
            "[CV 1/5] END criterion=gini, max_depth=6, max_features=auto, n_estimators=200;, score=0.851 total time=   1.8s\n",
            "[CV 2/5] END criterion=gini, max_depth=6, max_features=auto, n_estimators=200;, score=0.885 total time=   1.8s\n",
            "[CV 3/5] END criterion=gini, max_depth=6, max_features=auto, n_estimators=200;, score=0.885 total time=   1.8s\n",
            "[CV 4/5] END criterion=gini, max_depth=6, max_features=auto, n_estimators=200;, score=0.908 total time=   1.8s\n",
            "[CV 5/5] END criterion=gini, max_depth=6, max_features=auto, n_estimators=200;, score=0.874 total time=   1.8s\n",
            "[CV 1/5] END criterion=gini, max_depth=6, max_features=auto, n_estimators=500;, score=0.861 total time=   4.4s\n",
            "[CV 2/5] END criterion=gini, max_depth=6, max_features=auto, n_estimators=500;, score=0.885 total time=   4.4s\n",
            "[CV 3/5] END criterion=gini, max_depth=6, max_features=auto, n_estimators=500;, score=0.894 total time=   4.3s\n",
            "[CV 4/5] END criterion=gini, max_depth=6, max_features=auto, n_estimators=500;, score=0.903 total time=   4.3s\n",
            "[CV 5/5] END criterion=gini, max_depth=6, max_features=auto, n_estimators=500;, score=0.860 total time=   4.4s\n",
            "[CV 1/5] END criterion=gini, max_depth=6, max_features=sqrt, n_estimators=50;, score=0.846 total time=   0.5s\n",
            "[CV 2/5] END criterion=gini, max_depth=6, max_features=sqrt, n_estimators=50;, score=0.885 total time=   0.5s\n",
            "[CV 3/5] END criterion=gini, max_depth=6, max_features=sqrt, n_estimators=50;, score=0.923 total time=   0.5s\n",
            "[CV 4/5] END criterion=gini, max_depth=6, max_features=sqrt, n_estimators=50;, score=0.879 total time=   0.6s\n",
            "[CV 5/5] END criterion=gini, max_depth=6, max_features=sqrt, n_estimators=50;, score=0.860 total time=   0.6s\n",
            "[CV 1/5] END criterion=gini, max_depth=6, max_features=sqrt, n_estimators=100;, score=0.832 total time=   1.3s\n",
            "[CV 2/5] END criterion=gini, max_depth=6, max_features=sqrt, n_estimators=100;, score=0.894 total time=   1.2s\n",
            "[CV 3/5] END criterion=gini, max_depth=6, max_features=sqrt, n_estimators=100;, score=0.899 total time=   0.9s\n",
            "[CV 4/5] END criterion=gini, max_depth=6, max_features=sqrt, n_estimators=100;, score=0.899 total time=   0.9s\n",
            "[CV 5/5] END criterion=gini, max_depth=6, max_features=sqrt, n_estimators=100;, score=0.860 total time=   0.9s\n",
            "[CV 1/5] END criterion=gini, max_depth=6, max_features=sqrt, n_estimators=200;, score=0.846 total time=   1.8s\n",
            "[CV 2/5] END criterion=gini, max_depth=6, max_features=sqrt, n_estimators=200;, score=0.880 total time=   1.8s\n",
            "[CV 3/5] END criterion=gini, max_depth=6, max_features=sqrt, n_estimators=200;, score=0.899 total time=   1.8s\n",
            "[CV 4/5] END criterion=gini, max_depth=6, max_features=sqrt, n_estimators=200;, score=0.903 total time=   1.8s\n",
            "[CV 5/5] END criterion=gini, max_depth=6, max_features=sqrt, n_estimators=200;, score=0.860 total time=   1.8s\n",
            "[CV 1/5] END criterion=gini, max_depth=6, max_features=sqrt, n_estimators=500;, score=0.856 total time=   4.4s\n",
            "[CV 2/5] END criterion=gini, max_depth=6, max_features=sqrt, n_estimators=500;, score=0.885 total time=   4.3s\n",
            "[CV 3/5] END criterion=gini, max_depth=6, max_features=sqrt, n_estimators=500;, score=0.885 total time=   4.4s\n",
            "[CV 4/5] END criterion=gini, max_depth=6, max_features=sqrt, n_estimators=500;, score=0.913 total time=   4.4s\n",
            "[CV 5/5] END criterion=gini, max_depth=6, max_features=sqrt, n_estimators=500;, score=0.870 total time=   4.4s\n",
            "[CV 1/5] END criterion=gini, max_depth=6, max_features=log2, n_estimators=50;, score=0.827 total time=   0.2s\n",
            "[CV 2/5] END criterion=gini, max_depth=6, max_features=log2, n_estimators=50;, score=0.837 total time=   0.2s\n",
            "[CV 3/5] END criterion=gini, max_depth=6, max_features=log2, n_estimators=50;, score=0.841 total time=   0.2s\n",
            "[CV 4/5] END criterion=gini, max_depth=6, max_features=log2, n_estimators=50;, score=0.870 total time=   0.2s\n",
            "[CV 5/5] END criterion=gini, max_depth=6, max_features=log2, n_estimators=50;, score=0.850 total time=   0.2s\n",
            "[CV 1/5] END criterion=gini, max_depth=6, max_features=log2, n_estimators=100;, score=0.832 total time=   0.3s\n",
            "[CV 2/5] END criterion=gini, max_depth=6, max_features=log2, n_estimators=100;, score=0.856 total time=   0.3s\n",
            "[CV 3/5] END criterion=gini, max_depth=6, max_features=log2, n_estimators=100;, score=0.870 total time=   0.3s\n",
            "[CV 4/5] END criterion=gini, max_depth=6, max_features=log2, n_estimators=100;, score=0.850 total time=   0.3s\n",
            "[CV 5/5] END criterion=gini, max_depth=6, max_features=log2, n_estimators=100;, score=0.831 total time=   0.3s\n",
            "[CV 1/5] END criterion=gini, max_depth=6, max_features=log2, n_estimators=200;, score=0.841 total time=   0.5s\n",
            "[CV 2/5] END criterion=gini, max_depth=6, max_features=log2, n_estimators=200;, score=0.846 total time=   0.5s\n",
            "[CV 3/5] END criterion=gini, max_depth=6, max_features=log2, n_estimators=200;, score=0.861 total time=   0.5s\n",
            "[CV 4/5] END criterion=gini, max_depth=6, max_features=log2, n_estimators=200;, score=0.845 total time=   0.5s\n",
            "[CV 5/5] END criterion=gini, max_depth=6, max_features=log2, n_estimators=200;, score=0.836 total time=   0.5s\n",
            "[CV 1/5] END criterion=gini, max_depth=6, max_features=log2, n_estimators=500;, score=0.822 total time=   1.3s\n",
            "[CV 2/5] END criterion=gini, max_depth=6, max_features=log2, n_estimators=500;, score=0.841 total time=   1.3s\n",
            "[CV 3/5] END criterion=gini, max_depth=6, max_features=log2, n_estimators=500;, score=0.861 total time=   1.3s\n",
            "[CV 4/5] END criterion=gini, max_depth=6, max_features=log2, n_estimators=500;, score=0.874 total time=   1.3s\n",
            "[CV 5/5] END criterion=gini, max_depth=6, max_features=log2, n_estimators=500;, score=0.845 total time=   1.3s\n",
            "[CV 1/5] END criterion=gini, max_depth=7, max_features=auto, n_estimators=50;, score=0.861 total time=   0.5s\n",
            "[CV 2/5] END criterion=gini, max_depth=7, max_features=auto, n_estimators=50;, score=0.889 total time=   0.5s\n",
            "[CV 3/5] END criterion=gini, max_depth=7, max_features=auto, n_estimators=50;, score=0.880 total time=   0.5s\n",
            "[CV 4/5] END criterion=gini, max_depth=7, max_features=auto, n_estimators=50;, score=0.923 total time=   0.5s\n",
            "[CV 5/5] END criterion=gini, max_depth=7, max_features=auto, n_estimators=50;, score=0.865 total time=   0.5s\n",
            "[CV 1/5] END criterion=gini, max_depth=7, max_features=auto, n_estimators=100;, score=0.856 total time=   1.0s\n",
            "[CV 2/5] END criterion=gini, max_depth=7, max_features=auto, n_estimators=100;, score=0.889 total time=   1.0s\n",
            "[CV 3/5] END criterion=gini, max_depth=7, max_features=auto, n_estimators=100;, score=0.899 total time=   1.0s\n",
            "[CV 4/5] END criterion=gini, max_depth=7, max_features=auto, n_estimators=100;, score=0.932 total time=   1.0s\n",
            "[CV 5/5] END criterion=gini, max_depth=7, max_features=auto, n_estimators=100;, score=0.870 total time=   1.0s\n",
            "[CV 1/5] END criterion=gini, max_depth=7, max_features=auto, n_estimators=200;, score=0.846 total time=   2.0s\n",
            "[CV 2/5] END criterion=gini, max_depth=7, max_features=auto, n_estimators=200;, score=0.894 total time=   2.0s\n",
            "[CV 3/5] END criterion=gini, max_depth=7, max_features=auto, n_estimators=200;, score=0.904 total time=   2.0s\n",
            "[CV 4/5] END criterion=gini, max_depth=7, max_features=auto, n_estimators=200;, score=0.903 total time=   2.0s\n",
            "[CV 5/5] END criterion=gini, max_depth=7, max_features=auto, n_estimators=200;, score=0.884 total time=   2.0s\n",
            "[CV 1/5] END criterion=gini, max_depth=7, max_features=auto, n_estimators=500;, score=0.846 total time=   5.0s\n",
            "[CV 2/5] END criterion=gini, max_depth=7, max_features=auto, n_estimators=500;, score=0.899 total time=   4.9s\n",
            "[CV 3/5] END criterion=gini, max_depth=7, max_features=auto, n_estimators=500;, score=0.904 total time=   4.9s\n",
            "[CV 4/5] END criterion=gini, max_depth=7, max_features=auto, n_estimators=500;, score=0.908 total time=   4.9s\n",
            "[CV 5/5] END criterion=gini, max_depth=7, max_features=auto, n_estimators=500;, score=0.874 total time=   4.8s\n",
            "[CV 1/5] END criterion=gini, max_depth=7, max_features=sqrt, n_estimators=50;, score=0.851 total time=   0.5s\n",
            "[CV 2/5] END criterion=gini, max_depth=7, max_features=sqrt, n_estimators=50;, score=0.894 total time=   0.5s\n",
            "[CV 3/5] END criterion=gini, max_depth=7, max_features=sqrt, n_estimators=50;, score=0.870 total time=   0.5s\n",
            "[CV 4/5] END criterion=gini, max_depth=7, max_features=sqrt, n_estimators=50;, score=0.889 total time=   0.5s\n",
            "[CV 5/5] END criterion=gini, max_depth=7, max_features=sqrt, n_estimators=50;, score=0.874 total time=   0.5s\n",
            "[CV 1/5] END criterion=gini, max_depth=7, max_features=sqrt, n_estimators=100;, score=0.875 total time=   1.0s\n",
            "[CV 2/5] END criterion=gini, max_depth=7, max_features=sqrt, n_estimators=100;, score=0.880 total time=   1.0s\n",
            "[CV 3/5] END criterion=gini, max_depth=7, max_features=sqrt, n_estimators=100;, score=0.894 total time=   1.0s\n",
            "[CV 4/5] END criterion=gini, max_depth=7, max_features=sqrt, n_estimators=100;, score=0.899 total time=   1.0s\n",
            "[CV 5/5] END criterion=gini, max_depth=7, max_features=sqrt, n_estimators=100;, score=0.865 total time=   1.0s\n",
            "[CV 1/5] END criterion=gini, max_depth=7, max_features=sqrt, n_estimators=200;, score=0.841 total time=   2.0s\n",
            "[CV 2/5] END criterion=gini, max_depth=7, max_features=sqrt, n_estimators=200;, score=0.899 total time=   2.0s\n",
            "[CV 3/5] END criterion=gini, max_depth=7, max_features=sqrt, n_estimators=200;, score=0.889 total time=   2.0s\n",
            "[CV 4/5] END criterion=gini, max_depth=7, max_features=sqrt, n_estimators=200;, score=0.903 total time=   2.0s\n",
            "[CV 5/5] END criterion=gini, max_depth=7, max_features=sqrt, n_estimators=200;, score=0.879 total time=   2.0s\n",
            "[CV 1/5] END criterion=gini, max_depth=7, max_features=sqrt, n_estimators=500;, score=0.865 total time=   4.8s\n",
            "[CV 2/5] END criterion=gini, max_depth=7, max_features=sqrt, n_estimators=500;, score=0.899 total time=   4.8s\n",
            "[CV 3/5] END criterion=gini, max_depth=7, max_features=sqrt, n_estimators=500;, score=0.899 total time=   4.9s\n",
            "[CV 4/5] END criterion=gini, max_depth=7, max_features=sqrt, n_estimators=500;, score=0.899 total time=   5.2s\n",
            "[CV 5/5] END criterion=gini, max_depth=7, max_features=sqrt, n_estimators=500;, score=0.879 total time=   5.4s\n",
            "[CV 1/5] END criterion=gini, max_depth=7, max_features=log2, n_estimators=50;, score=0.856 total time=   0.2s\n",
            "[CV 2/5] END criterion=gini, max_depth=7, max_features=log2, n_estimators=50;, score=0.841 total time=   0.2s\n",
            "[CV 3/5] END criterion=gini, max_depth=7, max_features=log2, n_estimators=50;, score=0.856 total time=   0.2s\n",
            "[CV 4/5] END criterion=gini, max_depth=7, max_features=log2, n_estimators=50;, score=0.860 total time=   0.2s\n",
            "[CV 5/5] END criterion=gini, max_depth=7, max_features=log2, n_estimators=50;, score=0.816 total time=   0.2s\n",
            "[CV 1/5] END criterion=gini, max_depth=7, max_features=log2, n_estimators=100;, score=0.846 total time=   0.3s\n",
            "[CV 2/5] END criterion=gini, max_depth=7, max_features=log2, n_estimators=100;, score=0.846 total time=   0.3s\n",
            "[CV 3/5] END criterion=gini, max_depth=7, max_features=log2, n_estimators=100;, score=0.865 total time=   0.3s\n",
            "[CV 4/5] END criterion=gini, max_depth=7, max_features=log2, n_estimators=100;, score=0.884 total time=   0.3s\n",
            "[CV 5/5] END criterion=gini, max_depth=7, max_features=log2, n_estimators=100;, score=0.826 total time=   0.3s\n",
            "[CV 1/5] END criterion=gini, max_depth=7, max_features=log2, n_estimators=200;, score=0.837 total time=   0.6s\n",
            "[CV 2/5] END criterion=gini, max_depth=7, max_features=log2, n_estimators=200;, score=0.865 total time=   0.6s\n",
            "[CV 3/5] END criterion=gini, max_depth=7, max_features=log2, n_estimators=200;, score=0.846 total time=   0.6s\n",
            "[CV 4/5] END criterion=gini, max_depth=7, max_features=log2, n_estimators=200;, score=0.874 total time=   0.6s\n",
            "[CV 5/5] END criterion=gini, max_depth=7, max_features=log2, n_estimators=200;, score=0.850 total time=   0.6s\n",
            "[CV 1/5] END criterion=gini, max_depth=7, max_features=log2, n_estimators=500;, score=0.841 total time=   1.4s\n",
            "[CV 2/5] END criterion=gini, max_depth=7, max_features=log2, n_estimators=500;, score=0.851 total time=   1.4s\n",
            "[CV 3/5] END criterion=gini, max_depth=7, max_features=log2, n_estimators=500;, score=0.870 total time=   1.4s\n",
            "[CV 4/5] END criterion=gini, max_depth=7, max_features=log2, n_estimators=500;, score=0.870 total time=   1.4s\n",
            "[CV 5/5] END criterion=gini, max_depth=7, max_features=log2, n_estimators=500;, score=0.845 total time=   1.3s\n",
            "[CV 1/5] END criterion=gini, max_depth=8, max_features=auto, n_estimators=50;, score=0.851 total time=   0.5s\n",
            "[CV 2/5] END criterion=gini, max_depth=8, max_features=auto, n_estimators=50;, score=0.856 total time=   0.6s\n",
            "[CV 3/5] END criterion=gini, max_depth=8, max_features=auto, n_estimators=50;, score=0.913 total time=   0.5s\n",
            "[CV 4/5] END criterion=gini, max_depth=8, max_features=auto, n_estimators=50;, score=0.903 total time=   0.6s\n",
            "[CV 5/5] END criterion=gini, max_depth=8, max_features=auto, n_estimators=50;, score=0.860 total time=   0.5s\n",
            "[CV 1/5] END criterion=gini, max_depth=8, max_features=auto, n_estimators=100;, score=0.851 total time=   1.0s\n",
            "[CV 2/5] END criterion=gini, max_depth=8, max_features=auto, n_estimators=100;, score=0.904 total time=   1.1s\n",
            "[CV 3/5] END criterion=gini, max_depth=8, max_features=auto, n_estimators=100;, score=0.899 total time=   1.0s\n",
            "[CV 4/5] END criterion=gini, max_depth=8, max_features=auto, n_estimators=100;, score=0.918 total time=   1.0s\n",
            "[CV 5/5] END criterion=gini, max_depth=8, max_features=auto, n_estimators=100;, score=0.889 total time=   1.0s\n",
            "[CV 1/5] END criterion=gini, max_depth=8, max_features=auto, n_estimators=200;, score=0.856 total time=   2.1s\n",
            "[CV 2/5] END criterion=gini, max_depth=8, max_features=auto, n_estimators=200;, score=0.899 total time=   2.1s\n",
            "[CV 3/5] END criterion=gini, max_depth=8, max_features=auto, n_estimators=200;, score=0.899 total time=   2.0s\n",
            "[CV 4/5] END criterion=gini, max_depth=8, max_features=auto, n_estimators=200;, score=0.903 total time=   2.0s\n",
            "[CV 5/5] END criterion=gini, max_depth=8, max_features=auto, n_estimators=200;, score=0.884 total time=   2.1s\n",
            "[CV 1/5] END criterion=gini, max_depth=8, max_features=auto, n_estimators=500;, score=0.856 total time=   5.2s\n",
            "[CV 2/5] END criterion=gini, max_depth=8, max_features=auto, n_estimators=500;, score=0.899 total time=   5.2s\n",
            "[CV 3/5] END criterion=gini, max_depth=8, max_features=auto, n_estimators=500;, score=0.894 total time=   5.1s\n",
            "[CV 4/5] END criterion=gini, max_depth=8, max_features=auto, n_estimators=500;, score=0.903 total time=   5.1s\n",
            "[CV 5/5] END criterion=gini, max_depth=8, max_features=auto, n_estimators=500;, score=0.879 total time=   5.1s\n",
            "[CV 1/5] END criterion=gini, max_depth=8, max_features=sqrt, n_estimators=50;, score=0.856 total time=   0.6s\n",
            "[CV 2/5] END criterion=gini, max_depth=8, max_features=sqrt, n_estimators=50;, score=0.899 total time=   0.6s\n",
            "[CV 3/5] END criterion=gini, max_depth=8, max_features=sqrt, n_estimators=50;, score=0.889 total time=   0.6s\n",
            "[CV 4/5] END criterion=gini, max_depth=8, max_features=sqrt, n_estimators=50;, score=0.903 total time=   0.6s\n",
            "[CV 5/5] END criterion=gini, max_depth=8, max_features=sqrt, n_estimators=50;, score=0.845 total time=   0.6s\n",
            "[CV 1/5] END criterion=gini, max_depth=8, max_features=sqrt, n_estimators=100;, score=0.841 total time=   1.1s\n",
            "[CV 2/5] END criterion=gini, max_depth=8, max_features=sqrt, n_estimators=100;, score=0.904 total time=   1.1s\n",
            "[CV 3/5] END criterion=gini, max_depth=8, max_features=sqrt, n_estimators=100;, score=0.885 total time=   1.1s\n",
            "[CV 4/5] END criterion=gini, max_depth=8, max_features=sqrt, n_estimators=100;, score=0.908 total time=   1.1s\n",
            "[CV 5/5] END criterion=gini, max_depth=8, max_features=sqrt, n_estimators=100;, score=0.860 total time=   1.1s\n",
            "[CV 1/5] END criterion=gini, max_depth=8, max_features=sqrt, n_estimators=200;, score=0.875 total time=   2.1s\n",
            "[CV 2/5] END criterion=gini, max_depth=8, max_features=sqrt, n_estimators=200;, score=0.894 total time=   2.1s\n",
            "[CV 3/5] END criterion=gini, max_depth=8, max_features=sqrt, n_estimators=200;, score=0.889 total time=   2.1s\n",
            "[CV 4/5] END criterion=gini, max_depth=8, max_features=sqrt, n_estimators=200;, score=0.928 total time=   2.1s\n",
            "[CV 5/5] END criterion=gini, max_depth=8, max_features=sqrt, n_estimators=200;, score=0.874 total time=   2.1s\n",
            "[CV 1/5] END criterion=gini, max_depth=8, max_features=sqrt, n_estimators=500;, score=0.861 total time=   5.1s\n",
            "[CV 2/5] END criterion=gini, max_depth=8, max_features=sqrt, n_estimators=500;, score=0.904 total time=   5.1s\n",
            "[CV 3/5] END criterion=gini, max_depth=8, max_features=sqrt, n_estimators=500;, score=0.889 total time=   5.1s\n",
            "[CV 4/5] END criterion=gini, max_depth=8, max_features=sqrt, n_estimators=500;, score=0.923 total time=   5.1s\n",
            "[CV 5/5] END criterion=gini, max_depth=8, max_features=sqrt, n_estimators=500;, score=0.879 total time=   5.1s\n",
            "[CV 1/5] END criterion=gini, max_depth=8, max_features=log2, n_estimators=50;, score=0.846 total time=   0.2s\n",
            "[CV 2/5] END criterion=gini, max_depth=8, max_features=log2, n_estimators=50;, score=0.851 total time=   0.2s\n",
            "[CV 3/5] END criterion=gini, max_depth=8, max_features=log2, n_estimators=50;, score=0.841 total time=   0.2s\n",
            "[CV 4/5] END criterion=gini, max_depth=8, max_features=log2, n_estimators=50;, score=0.870 total time=   0.2s\n",
            "[CV 5/5] END criterion=gini, max_depth=8, max_features=log2, n_estimators=50;, score=0.855 total time=   0.2s\n",
            "[CV 1/5] END criterion=gini, max_depth=8, max_features=log2, n_estimators=100;, score=0.841 total time=   0.3s\n",
            "[CV 2/5] END criterion=gini, max_depth=8, max_features=log2, n_estimators=100;, score=0.885 total time=   0.3s\n",
            "[CV 3/5] END criterion=gini, max_depth=8, max_features=log2, n_estimators=100;, score=0.865 total time=   0.3s\n",
            "[CV 4/5] END criterion=gini, max_depth=8, max_features=log2, n_estimators=100;, score=0.860 total time=   0.3s\n",
            "[CV 5/5] END criterion=gini, max_depth=8, max_features=log2, n_estimators=100;, score=0.836 total time=   0.3s\n",
            "[CV 1/5] END criterion=gini, max_depth=8, max_features=log2, n_estimators=200;, score=0.846 total time=   0.6s\n",
            "[CV 2/5] END criterion=gini, max_depth=8, max_features=log2, n_estimators=200;, score=0.870 total time=   0.6s\n",
            "[CV 3/5] END criterion=gini, max_depth=8, max_features=log2, n_estimators=200;, score=0.870 total time=   0.6s\n",
            "[CV 4/5] END criterion=gini, max_depth=8, max_features=log2, n_estimators=200;, score=0.860 total time=   0.6s\n",
            "[CV 5/5] END criterion=gini, max_depth=8, max_features=log2, n_estimators=200;, score=0.860 total time=   0.6s\n",
            "[CV 1/5] END criterion=gini, max_depth=8, max_features=log2, n_estimators=500;, score=0.841 total time=   1.4s\n",
            "[CV 2/5] END criterion=gini, max_depth=8, max_features=log2, n_estimators=500;, score=0.861 total time=   1.4s\n",
            "[CV 3/5] END criterion=gini, max_depth=8, max_features=log2, n_estimators=500;, score=0.880 total time=   1.4s\n",
            "[CV 4/5] END criterion=gini, max_depth=8, max_features=log2, n_estimators=500;, score=0.894 total time=   1.5s\n",
            "[CV 5/5] END criterion=gini, max_depth=8, max_features=log2, n_estimators=500;, score=0.879 total time=   1.4s\n",
            "[CV 1/5] END criterion=entropy, max_depth=4, max_features=auto, n_estimators=50;, score=0.851 total time=   0.6s\n",
            "[CV 2/5] END criterion=entropy, max_depth=4, max_features=auto, n_estimators=50;, score=0.856 total time=   0.6s\n",
            "[CV 3/5] END criterion=entropy, max_depth=4, max_features=auto, n_estimators=50;, score=0.889 total time=   0.6s\n",
            "[CV 4/5] END criterion=entropy, max_depth=4, max_features=auto, n_estimators=50;, score=0.870 total time=   0.6s\n",
            "[CV 5/5] END criterion=entropy, max_depth=4, max_features=auto, n_estimators=50;, score=0.850 total time=   0.6s\n",
            "[CV 1/5] END criterion=entropy, max_depth=4, max_features=auto, n_estimators=100;, score=0.832 total time=   1.1s\n",
            "[CV 2/5] END criterion=entropy, max_depth=4, max_features=auto, n_estimators=100;, score=0.856 total time=   1.1s\n",
            "[CV 3/5] END criterion=entropy, max_depth=4, max_features=auto, n_estimators=100;, score=0.894 total time=   1.1s\n",
            "[CV 4/5] END criterion=entropy, max_depth=4, max_features=auto, n_estimators=100;, score=0.889 total time=   1.1s\n",
            "[CV 5/5] END criterion=entropy, max_depth=4, max_features=auto, n_estimators=100;, score=0.841 total time=   1.3s\n",
            "[CV 1/5] END criterion=entropy, max_depth=4, max_features=auto, n_estimators=200;, score=0.832 total time=   3.0s\n",
            "[CV 2/5] END criterion=entropy, max_depth=4, max_features=auto, n_estimators=200;, score=0.856 total time=   2.2s\n",
            "[CV 3/5] END criterion=entropy, max_depth=4, max_features=auto, n_estimators=200;, score=0.885 total time=   2.2s\n",
            "[CV 4/5] END criterion=entropy, max_depth=4, max_features=auto, n_estimators=200;, score=0.889 total time=   2.1s\n",
            "[CV 5/5] END criterion=entropy, max_depth=4, max_features=auto, n_estimators=200;, score=0.845 total time=   2.2s\n",
            "[CV 1/5] END criterion=entropy, max_depth=4, max_features=auto, n_estimators=500;, score=0.832 total time=   5.3s\n",
            "[CV 2/5] END criterion=entropy, max_depth=4, max_features=auto, n_estimators=500;, score=0.837 total time=   5.4s\n",
            "[CV 3/5] END criterion=entropy, max_depth=4, max_features=auto, n_estimators=500;, score=0.885 total time=   5.3s\n",
            "[CV 4/5] END criterion=entropy, max_depth=4, max_features=auto, n_estimators=500;, score=0.870 total time=   5.3s\n",
            "[CV 5/5] END criterion=entropy, max_depth=4, max_features=auto, n_estimators=500;, score=0.836 total time=   5.3s\n",
            "[CV 1/5] END criterion=entropy, max_depth=4, max_features=sqrt, n_estimators=50;, score=0.827 total time=   0.6s\n",
            "[CV 2/5] END criterion=entropy, max_depth=4, max_features=sqrt, n_estimators=50;, score=0.851 total time=   0.5s\n",
            "[CV 3/5] END criterion=entropy, max_depth=4, max_features=sqrt, n_estimators=50;, score=0.880 total time=   0.5s\n",
            "[CV 4/5] END criterion=entropy, max_depth=4, max_features=sqrt, n_estimators=50;, score=0.865 total time=   0.5s\n",
            "[CV 5/5] END criterion=entropy, max_depth=4, max_features=sqrt, n_estimators=50;, score=0.802 total time=   0.6s\n",
            "[CV 1/5] END criterion=entropy, max_depth=4, max_features=sqrt, n_estimators=100;, score=0.837 total time=   1.1s\n",
            "[CV 2/5] END criterion=entropy, max_depth=4, max_features=sqrt, n_estimators=100;, score=0.865 total time=   1.1s\n",
            "[CV 3/5] END criterion=entropy, max_depth=4, max_features=sqrt, n_estimators=100;, score=0.880 total time=   1.1s\n",
            "[CV 4/5] END criterion=entropy, max_depth=4, max_features=sqrt, n_estimators=100;, score=0.874 total time=   1.1s\n",
            "[CV 5/5] END criterion=entropy, max_depth=4, max_features=sqrt, n_estimators=100;, score=0.836 total time=   1.1s\n",
            "[CV 1/5] END criterion=entropy, max_depth=4, max_features=sqrt, n_estimators=200;, score=0.841 total time=   2.2s\n",
            "[CV 2/5] END criterion=entropy, max_depth=4, max_features=sqrt, n_estimators=200;, score=0.846 total time=   2.2s\n",
            "[CV 3/5] END criterion=entropy, max_depth=4, max_features=sqrt, n_estimators=200;, score=0.880 total time=   2.1s\n",
            "[CV 4/5] END criterion=entropy, max_depth=4, max_features=sqrt, n_estimators=200;, score=0.874 total time=   2.1s\n",
            "[CV 5/5] END criterion=entropy, max_depth=4, max_features=sqrt, n_estimators=200;, score=0.826 total time=   2.1s\n",
            "[CV 1/5] END criterion=entropy, max_depth=4, max_features=sqrt, n_estimators=500;, score=0.841 total time=   5.2s\n",
            "[CV 2/5] END criterion=entropy, max_depth=4, max_features=sqrt, n_estimators=500;, score=0.837 total time=   5.2s\n",
            "[CV 3/5] END criterion=entropy, max_depth=4, max_features=sqrt, n_estimators=500;, score=0.880 total time=   5.1s\n",
            "[CV 4/5] END criterion=entropy, max_depth=4, max_features=sqrt, n_estimators=500;, score=0.865 total time=   5.2s\n",
            "[CV 5/5] END criterion=entropy, max_depth=4, max_features=sqrt, n_estimators=500;, score=0.831 total time=   5.2s\n",
            "[CV 1/5] END criterion=entropy, max_depth=4, max_features=log2, n_estimators=50;, score=0.808 total time=   0.2s\n",
            "[CV 2/5] END criterion=entropy, max_depth=4, max_features=log2, n_estimators=50;, score=0.803 total time=   0.2s\n",
            "[CV 3/5] END criterion=entropy, max_depth=4, max_features=log2, n_estimators=50;, score=0.832 total time=   0.2s\n",
            "[CV 4/5] END criterion=entropy, max_depth=4, max_features=log2, n_estimators=50;, score=0.836 total time=   0.2s\n",
            "[CV 5/5] END criterion=entropy, max_depth=4, max_features=log2, n_estimators=50;, score=0.797 total time=   0.2s\n",
            "[CV 1/5] END criterion=entropy, max_depth=4, max_features=log2, n_estimators=100;, score=0.808 total time=   0.3s\n",
            "[CV 2/5] END criterion=entropy, max_depth=4, max_features=log2, n_estimators=100;, score=0.812 total time=   0.3s\n",
            "[CV 3/5] END criterion=entropy, max_depth=4, max_features=log2, n_estimators=100;, score=0.827 total time=   0.3s\n",
            "[CV 4/5] END criterion=entropy, max_depth=4, max_features=log2, n_estimators=100;, score=0.845 total time=   0.3s\n",
            "[CV 5/5] END criterion=entropy, max_depth=4, max_features=log2, n_estimators=100;, score=0.773 total time=   0.3s\n",
            "[CV 1/5] END criterion=entropy, max_depth=4, max_features=log2, n_estimators=200;, score=0.837 total time=   0.6s\n",
            "[CV 2/5] END criterion=entropy, max_depth=4, max_features=log2, n_estimators=200;, score=0.808 total time=   0.6s\n",
            "[CV 3/5] END criterion=entropy, max_depth=4, max_features=log2, n_estimators=200;, score=0.827 total time=   0.6s\n",
            "[CV 4/5] END criterion=entropy, max_depth=4, max_features=log2, n_estimators=200;, score=0.845 total time=   0.6s\n",
            "[CV 5/5] END criterion=entropy, max_depth=4, max_features=log2, n_estimators=200;, score=0.816 total time=   0.6s\n",
            "[CV 1/5] END criterion=entropy, max_depth=4, max_features=log2, n_estimators=500;, score=0.827 total time=   1.4s\n",
            "[CV 2/5] END criterion=entropy, max_depth=4, max_features=log2, n_estimators=500;, score=0.808 total time=   1.4s\n",
            "[CV 3/5] END criterion=entropy, max_depth=4, max_features=log2, n_estimators=500;, score=0.846 total time=   1.4s\n",
            "[CV 4/5] END criterion=entropy, max_depth=4, max_features=log2, n_estimators=500;, score=0.860 total time=   1.4s\n",
            "[CV 5/5] END criterion=entropy, max_depth=4, max_features=log2, n_estimators=500;, score=0.802 total time=   1.4s\n",
            "[CV 1/5] END criterion=entropy, max_depth=5, max_features=auto, n_estimators=50;, score=0.865 total time=   0.7s\n",
            "[CV 2/5] END criterion=entropy, max_depth=5, max_features=auto, n_estimators=50;, score=0.851 total time=   0.6s\n",
            "[CV 3/5] END criterion=entropy, max_depth=5, max_features=auto, n_estimators=50;, score=0.870 total time=   0.7s\n",
            "[CV 4/5] END criterion=entropy, max_depth=5, max_features=auto, n_estimators=50;, score=0.870 total time=   0.7s\n",
            "[CV 5/5] END criterion=entropy, max_depth=5, max_features=auto, n_estimators=50;, score=0.831 total time=   0.6s\n",
            "[CV 1/5] END criterion=entropy, max_depth=5, max_features=auto, n_estimators=100;, score=0.837 total time=   1.3s\n",
            "[CV 2/5] END criterion=entropy, max_depth=5, max_features=auto, n_estimators=100;, score=0.875 total time=   1.3s\n",
            "[CV 3/5] END criterion=entropy, max_depth=5, max_features=auto, n_estimators=100;, score=0.889 total time=   1.3s\n",
            "[CV 4/5] END criterion=entropy, max_depth=5, max_features=auto, n_estimators=100;, score=0.894 total time=   1.3s\n",
            "[CV 5/5] END criterion=entropy, max_depth=5, max_features=auto, n_estimators=100;, score=0.850 total time=   1.3s\n",
            "[CV 1/5] END criterion=entropy, max_depth=5, max_features=auto, n_estimators=200;, score=0.841 total time=   2.5s\n",
            "[CV 2/5] END criterion=entropy, max_depth=5, max_features=auto, n_estimators=200;, score=0.885 total time=   2.4s\n",
            "[CV 3/5] END criterion=entropy, max_depth=5, max_features=auto, n_estimators=200;, score=0.889 total time=   2.5s\n",
            "[CV 4/5] END criterion=entropy, max_depth=5, max_features=auto, n_estimators=200;, score=0.874 total time=   2.4s\n",
            "[CV 5/5] END criterion=entropy, max_depth=5, max_features=auto, n_estimators=200;, score=0.865 total time=   2.5s\n",
            "[CV 1/5] END criterion=entropy, max_depth=5, max_features=auto, n_estimators=500;, score=0.841 total time=   6.1s\n",
            "[CV 2/5] END criterion=entropy, max_depth=5, max_features=auto, n_estimators=500;, score=0.865 total time=   7.1s\n",
            "[CV 3/5] END criterion=entropy, max_depth=5, max_features=auto, n_estimators=500;, score=0.889 total time=   6.1s\n",
            "[CV 4/5] END criterion=entropy, max_depth=5, max_features=auto, n_estimators=500;, score=0.899 total time=   6.1s\n",
            "[CV 5/5] END criterion=entropy, max_depth=5, max_features=auto, n_estimators=500;, score=0.850 total time=   6.2s\n",
            "[CV 1/5] END criterion=entropy, max_depth=5, max_features=sqrt, n_estimators=50;, score=0.832 total time=   0.6s\n",
            "[CV 2/5] END criterion=entropy, max_depth=5, max_features=sqrt, n_estimators=50;, score=0.875 total time=   0.6s\n",
            "[CV 3/5] END criterion=entropy, max_depth=5, max_features=sqrt, n_estimators=50;, score=0.865 total time=   0.7s\n",
            "[CV 4/5] END criterion=entropy, max_depth=5, max_features=sqrt, n_estimators=50;, score=0.879 total time=   0.7s\n",
            "[CV 5/5] END criterion=entropy, max_depth=5, max_features=sqrt, n_estimators=50;, score=0.855 total time=   0.7s\n",
            "[CV 1/5] END criterion=entropy, max_depth=5, max_features=sqrt, n_estimators=100;, score=0.832 total time=   1.3s\n",
            "[CV 2/5] END criterion=entropy, max_depth=5, max_features=sqrt, n_estimators=100;, score=0.875 total time=   1.3s\n",
            "[CV 3/5] END criterion=entropy, max_depth=5, max_features=sqrt, n_estimators=100;, score=0.885 total time=   1.3s\n",
            "[CV 4/5] END criterion=entropy, max_depth=5, max_features=sqrt, n_estimators=100;, score=0.879 total time=   1.3s\n",
            "[CV 5/5] END criterion=entropy, max_depth=5, max_features=sqrt, n_estimators=100;, score=0.841 total time=   1.3s\n",
            "[CV 1/5] END criterion=entropy, max_depth=5, max_features=sqrt, n_estimators=200;, score=0.837 total time=   2.5s\n",
            "[CV 2/5] END criterion=entropy, max_depth=5, max_features=sqrt, n_estimators=200;, score=0.865 total time=   2.5s\n",
            "[CV 3/5] END criterion=entropy, max_depth=5, max_features=sqrt, n_estimators=200;, score=0.889 total time=   2.5s\n",
            "[CV 4/5] END criterion=entropy, max_depth=5, max_features=sqrt, n_estimators=200;, score=0.874 total time=   2.5s\n",
            "[CV 5/5] END criterion=entropy, max_depth=5, max_features=sqrt, n_estimators=200;, score=0.855 total time=   2.4s\n",
            "[CV 1/5] END criterion=entropy, max_depth=5, max_features=sqrt, n_estimators=500;, score=0.841 total time=   6.2s\n",
            "[CV 2/5] END criterion=entropy, max_depth=5, max_features=sqrt, n_estimators=500;, score=0.885 total time=   6.2s\n",
            "[CV 3/5] END criterion=entropy, max_depth=5, max_features=sqrt, n_estimators=500;, score=0.894 total time=   6.1s\n",
            "[CV 4/5] END criterion=entropy, max_depth=5, max_features=sqrt, n_estimators=500;, score=0.894 total time=   6.1s\n",
            "[CV 5/5] END criterion=entropy, max_depth=5, max_features=sqrt, n_estimators=500;, score=0.850 total time=   6.1s\n",
            "[CV 1/5] END criterion=entropy, max_depth=5, max_features=log2, n_estimators=50;, score=0.803 total time=   0.2s\n",
            "[CV 2/5] END criterion=entropy, max_depth=5, max_features=log2, n_estimators=50;, score=0.856 total time=   0.2s\n",
            "[CV 3/5] END criterion=entropy, max_depth=5, max_features=log2, n_estimators=50;, score=0.841 total time=   0.2s\n",
            "[CV 4/5] END criterion=entropy, max_depth=5, max_features=log2, n_estimators=50;, score=0.865 total time=   0.2s\n",
            "[CV 5/5] END criterion=entropy, max_depth=5, max_features=log2, n_estimators=50;, score=0.821 total time=   0.2s\n",
            "[CV 1/5] END criterion=entropy, max_depth=5, max_features=log2, n_estimators=100;, score=0.827 total time=   0.3s\n",
            "[CV 2/5] END criterion=entropy, max_depth=5, max_features=log2, n_estimators=100;, score=0.827 total time=   0.3s\n",
            "[CV 3/5] END criterion=entropy, max_depth=5, max_features=log2, n_estimators=100;, score=0.851 total time=   0.3s\n",
            "[CV 4/5] END criterion=entropy, max_depth=5, max_features=log2, n_estimators=100;, score=0.860 total time=   0.3s\n",
            "[CV 5/5] END criterion=entropy, max_depth=5, max_features=log2, n_estimators=100;, score=0.812 total time=   0.3s\n",
            "[CV 1/5] END criterion=entropy, max_depth=5, max_features=log2, n_estimators=200;, score=0.841 total time=   0.6s\n",
            "[CV 2/5] END criterion=entropy, max_depth=5, max_features=log2, n_estimators=200;, score=0.832 total time=   0.6s\n",
            "[CV 3/5] END criterion=entropy, max_depth=5, max_features=log2, n_estimators=200;, score=0.861 total time=   0.6s\n",
            "[CV 4/5] END criterion=entropy, max_depth=5, max_features=log2, n_estimators=200;, score=0.870 total time=   0.6s\n",
            "[CV 5/5] END criterion=entropy, max_depth=5, max_features=log2, n_estimators=200;, score=0.812 total time=   0.6s\n",
            "[CV 1/5] END criterion=entropy, max_depth=5, max_features=log2, n_estimators=500;, score=0.832 total time=   1.5s\n",
            "[CV 2/5] END criterion=entropy, max_depth=5, max_features=log2, n_estimators=500;, score=0.827 total time=   1.5s\n",
            "[CV 3/5] END criterion=entropy, max_depth=5, max_features=log2, n_estimators=500;, score=0.851 total time=   1.5s\n",
            "[CV 4/5] END criterion=entropy, max_depth=5, max_features=log2, n_estimators=500;, score=0.865 total time=   1.5s\n",
            "[CV 5/5] END criterion=entropy, max_depth=5, max_features=log2, n_estimators=500;, score=0.850 total time=   1.5s\n",
            "[CV 1/5] END criterion=entropy, max_depth=6, max_features=auto, n_estimators=50;, score=0.851 total time=   0.7s\n",
            "[CV 2/5] END criterion=entropy, max_depth=6, max_features=auto, n_estimators=50;, score=0.913 total time=   0.7s\n",
            "[CV 3/5] END criterion=entropy, max_depth=6, max_features=auto, n_estimators=50;, score=0.899 total time=   0.7s\n",
            "[CV 4/5] END criterion=entropy, max_depth=6, max_features=auto, n_estimators=50;, score=0.884 total time=   0.7s\n",
            "[CV 5/5] END criterion=entropy, max_depth=6, max_features=auto, n_estimators=50;, score=0.860 total time=   0.7s\n",
            "[CV 1/5] END criterion=entropy, max_depth=6, max_features=auto, n_estimators=100;, score=0.841 total time=   1.4s\n",
            "[CV 2/5] END criterion=entropy, max_depth=6, max_features=auto, n_estimators=100;, score=0.875 total time=   1.4s\n",
            "[CV 3/5] END criterion=entropy, max_depth=6, max_features=auto, n_estimators=100;, score=0.899 total time=   1.4s\n",
            "[CV 4/5] END criterion=entropy, max_depth=6, max_features=auto, n_estimators=100;, score=0.889 total time=   1.4s\n",
            "[CV 5/5] END criterion=entropy, max_depth=6, max_features=auto, n_estimators=100;, score=0.879 total time=   1.4s\n",
            "[CV 1/5] END criterion=entropy, max_depth=6, max_features=auto, n_estimators=200;, score=0.837 total time=   2.7s\n",
            "[CV 2/5] END criterion=entropy, max_depth=6, max_features=auto, n_estimators=200;, score=0.894 total time=   2.7s\n",
            "[CV 3/5] END criterion=entropy, max_depth=6, max_features=auto, n_estimators=200;, score=0.889 total time=   2.7s\n",
            "[CV 4/5] END criterion=entropy, max_depth=6, max_features=auto, n_estimators=200;, score=0.894 total time=   2.7s\n",
            "[CV 5/5] END criterion=entropy, max_depth=6, max_features=auto, n_estimators=200;, score=0.874 total time=   2.7s\n",
            "[CV 1/5] END criterion=entropy, max_depth=6, max_features=auto, n_estimators=500;, score=0.856 total time=   6.8s\n",
            "[CV 2/5] END criterion=entropy, max_depth=6, max_features=auto, n_estimators=500;, score=0.894 total time=   6.9s\n",
            "[CV 3/5] END criterion=entropy, max_depth=6, max_features=auto, n_estimators=500;, score=0.889 total time=   7.8s\n",
            "[CV 4/5] END criterion=entropy, max_depth=6, max_features=auto, n_estimators=500;, score=0.889 total time=   6.8s\n",
            "[CV 5/5] END criterion=entropy, max_depth=6, max_features=auto, n_estimators=500;, score=0.860 total time=   6.8s\n",
            "[CV 1/5] END criterion=entropy, max_depth=6, max_features=sqrt, n_estimators=50;, score=0.865 total time=   0.7s\n",
            "[CV 2/5] END criterion=entropy, max_depth=6, max_features=sqrt, n_estimators=50;, score=0.870 total time=   0.7s\n",
            "[CV 3/5] END criterion=entropy, max_depth=6, max_features=sqrt, n_estimators=50;, score=0.885 total time=   0.7s\n",
            "[CV 4/5] END criterion=entropy, max_depth=6, max_features=sqrt, n_estimators=50;, score=0.894 total time=   0.7s\n",
            "[CV 5/5] END criterion=entropy, max_depth=6, max_features=sqrt, n_estimators=50;, score=0.865 total time=   0.7s\n",
            "[CV 1/5] END criterion=entropy, max_depth=6, max_features=sqrt, n_estimators=100;, score=0.865 total time=   1.4s\n",
            "[CV 2/5] END criterion=entropy, max_depth=6, max_features=sqrt, n_estimators=100;, score=0.894 total time=   1.4s\n",
            "[CV 3/5] END criterion=entropy, max_depth=6, max_features=sqrt, n_estimators=100;, score=0.885 total time=   1.4s\n",
            "[CV 4/5] END criterion=entropy, max_depth=6, max_features=sqrt, n_estimators=100;, score=0.908 total time=   1.4s\n",
            "[CV 5/5] END criterion=entropy, max_depth=6, max_features=sqrt, n_estimators=100;, score=0.870 total time=   1.4s\n",
            "[CV 1/5] END criterion=entropy, max_depth=6, max_features=sqrt, n_estimators=200;, score=0.827 total time=   2.7s\n",
            "[CV 2/5] END criterion=entropy, max_depth=6, max_features=sqrt, n_estimators=200;, score=0.889 total time=   2.7s\n",
            "[CV 3/5] END criterion=entropy, max_depth=6, max_features=sqrt, n_estimators=200;, score=0.894 total time=   2.7s\n",
            "[CV 4/5] END criterion=entropy, max_depth=6, max_features=sqrt, n_estimators=200;, score=0.879 total time=   2.8s\n",
            "[CV 5/5] END criterion=entropy, max_depth=6, max_features=sqrt, n_estimators=200;, score=0.855 total time=   2.8s\n",
            "[CV 1/5] END criterion=entropy, max_depth=6, max_features=sqrt, n_estimators=500;, score=0.846 total time=   6.9s\n",
            "[CV 2/5] END criterion=entropy, max_depth=6, max_features=sqrt, n_estimators=500;, score=0.880 total time=   6.9s\n",
            "[CV 3/5] END criterion=entropy, max_depth=6, max_features=sqrt, n_estimators=500;, score=0.899 total time=   6.9s\n",
            "[CV 4/5] END criterion=entropy, max_depth=6, max_features=sqrt, n_estimators=500;, score=0.899 total time=   6.9s\n",
            "[CV 5/5] END criterion=entropy, max_depth=6, max_features=sqrt, n_estimators=500;, score=0.870 total time=   6.9s\n",
            "[CV 1/5] END criterion=entropy, max_depth=6, max_features=log2, n_estimators=50;, score=0.812 total time=   0.2s\n",
            "[CV 2/5] END criterion=entropy, max_depth=6, max_features=log2, n_estimators=50;, score=0.846 total time=   0.2s\n",
            "[CV 3/5] END criterion=entropy, max_depth=6, max_features=log2, n_estimators=50;, score=0.870 total time=   0.2s\n",
            "[CV 4/5] END criterion=entropy, max_depth=6, max_features=log2, n_estimators=50;, score=0.870 total time=   0.2s\n",
            "[CV 5/5] END criterion=entropy, max_depth=6, max_features=log2, n_estimators=50;, score=0.768 total time=   0.2s\n",
            "[CV 1/5] END criterion=entropy, max_depth=6, max_features=log2, n_estimators=100;, score=0.817 total time=   0.4s\n",
            "[CV 2/5] END criterion=entropy, max_depth=6, max_features=log2, n_estimators=100;, score=0.841 total time=   0.4s\n",
            "[CV 3/5] END criterion=entropy, max_depth=6, max_features=log2, n_estimators=100;, score=0.870 total time=   0.4s\n",
            "[CV 4/5] END criterion=entropy, max_depth=6, max_features=log2, n_estimators=100;, score=0.860 total time=   0.4s\n",
            "[CV 5/5] END criterion=entropy, max_depth=6, max_features=log2, n_estimators=100;, score=0.821 total time=   0.4s\n",
            "[CV 1/5] END criterion=entropy, max_depth=6, max_features=log2, n_estimators=200;, score=0.837 total time=   0.7s\n",
            "[CV 2/5] END criterion=entropy, max_depth=6, max_features=log2, n_estimators=200;, score=0.827 total time=   0.7s\n",
            "[CV 3/5] END criterion=entropy, max_depth=6, max_features=log2, n_estimators=200;, score=0.851 total time=   0.7s\n",
            "[CV 4/5] END criterion=entropy, max_depth=6, max_features=log2, n_estimators=200;, score=0.870 total time=   0.7s\n",
            "[CV 5/5] END criterion=entropy, max_depth=6, max_features=log2, n_estimators=200;, score=0.816 total time=   0.7s\n",
            "[CV 1/5] END criterion=entropy, max_depth=6, max_features=log2, n_estimators=500;, score=0.837 total time=   1.7s\n",
            "[CV 2/5] END criterion=entropy, max_depth=6, max_features=log2, n_estimators=500;, score=0.851 total time=   1.7s\n",
            "[CV 3/5] END criterion=entropy, max_depth=6, max_features=log2, n_estimators=500;, score=0.865 total time=   1.7s\n",
            "[CV 4/5] END criterion=entropy, max_depth=6, max_features=log2, n_estimators=500;, score=0.884 total time=   1.6s\n",
            "[CV 5/5] END criterion=entropy, max_depth=6, max_features=log2, n_estimators=500;, score=0.845 total time=   1.7s\n",
            "[CV 1/5] END criterion=entropy, max_depth=7, max_features=auto, n_estimators=50;, score=0.851 total time=   0.8s\n",
            "[CV 2/5] END criterion=entropy, max_depth=7, max_features=auto, n_estimators=50;, score=0.899 total time=   0.7s\n",
            "[CV 3/5] END criterion=entropy, max_depth=7, max_features=auto, n_estimators=50;, score=0.875 total time=   0.8s\n",
            "[CV 4/5] END criterion=entropy, max_depth=7, max_features=auto, n_estimators=50;, score=0.894 total time=   0.7s\n",
            "[CV 5/5] END criterion=entropy, max_depth=7, max_features=auto, n_estimators=50;, score=0.855 total time=   0.8s\n",
            "[CV 1/5] END criterion=entropy, max_depth=7, max_features=auto, n_estimators=100;, score=0.851 total time=   1.5s\n",
            "[CV 2/5] END criterion=entropy, max_depth=7, max_features=auto, n_estimators=100;, score=0.885 total time=   1.5s\n",
            "[CV 3/5] END criterion=entropy, max_depth=7, max_features=auto, n_estimators=100;, score=0.894 total time=   1.5s\n",
            "[CV 4/5] END criterion=entropy, max_depth=7, max_features=auto, n_estimators=100;, score=0.894 total time=   1.5s\n",
            "[CV 5/5] END criterion=entropy, max_depth=7, max_features=auto, n_estimators=100;, score=0.879 total time=   1.5s\n",
            "[CV 1/5] END criterion=entropy, max_depth=7, max_features=auto, n_estimators=200;, score=0.861 total time=   3.0s\n",
            "[CV 2/5] END criterion=entropy, max_depth=7, max_features=auto, n_estimators=200;, score=0.899 total time=   3.0s\n",
            "[CV 3/5] END criterion=entropy, max_depth=7, max_features=auto, n_estimators=200;, score=0.885 total time=   3.0s\n",
            "[CV 4/5] END criterion=entropy, max_depth=7, max_features=auto, n_estimators=200;, score=0.889 total time=   3.0s\n",
            "[CV 5/5] END criterion=entropy, max_depth=7, max_features=auto, n_estimators=200;, score=0.884 total time=   2.9s\n",
            "[CV 1/5] END criterion=entropy, max_depth=7, max_features=auto, n_estimators=500;, score=0.856 total time=   7.2s\n",
            "[CV 2/5] END criterion=entropy, max_depth=7, max_features=auto, n_estimators=500;, score=0.875 total time=   8.3s\n",
            "[CV 3/5] END criterion=entropy, max_depth=7, max_features=auto, n_estimators=500;, score=0.894 total time=   7.4s\n",
            "[CV 4/5] END criterion=entropy, max_depth=7, max_features=auto, n_estimators=500;, score=0.899 total time=   7.4s\n",
            "[CV 5/5] END criterion=entropy, max_depth=7, max_features=auto, n_estimators=500;, score=0.884 total time=   7.4s\n",
            "[CV 1/5] END criterion=entropy, max_depth=7, max_features=sqrt, n_estimators=50;, score=0.837 total time=   0.8s\n",
            "[CV 2/5] END criterion=entropy, max_depth=7, max_features=sqrt, n_estimators=50;, score=0.885 total time=   0.8s\n",
            "[CV 3/5] END criterion=entropy, max_depth=7, max_features=sqrt, n_estimators=50;, score=0.856 total time=   0.8s\n",
            "[CV 4/5] END criterion=entropy, max_depth=7, max_features=sqrt, n_estimators=50;, score=0.884 total time=   0.8s\n",
            "[CV 5/5] END criterion=entropy, max_depth=7, max_features=sqrt, n_estimators=50;, score=0.899 total time=   0.8s\n",
            "[CV 1/5] END criterion=entropy, max_depth=7, max_features=sqrt, n_estimators=100;, score=0.870 total time=   1.5s\n",
            "[CV 2/5] END criterion=entropy, max_depth=7, max_features=sqrt, n_estimators=100;, score=0.899 total time=   1.5s\n",
            "[CV 3/5] END criterion=entropy, max_depth=7, max_features=sqrt, n_estimators=100;, score=0.880 total time=   1.5s\n",
            "[CV 4/5] END criterion=entropy, max_depth=7, max_features=sqrt, n_estimators=100;, score=0.894 total time=   1.5s\n",
            "[CV 5/5] END criterion=entropy, max_depth=7, max_features=sqrt, n_estimators=100;, score=0.865 total time=   1.5s\n",
            "[CV 1/5] END criterion=entropy, max_depth=7, max_features=sqrt, n_estimators=200;, score=0.861 total time=   2.9s\n",
            "[CV 2/5] END criterion=entropy, max_depth=7, max_features=sqrt, n_estimators=200;, score=0.894 total time=   2.9s\n",
            "[CV 3/5] END criterion=entropy, max_depth=7, max_features=sqrt, n_estimators=200;, score=0.889 total time=   3.0s\n",
            "[CV 4/5] END criterion=entropy, max_depth=7, max_features=sqrt, n_estimators=200;, score=0.913 total time=   3.0s\n",
            "[CV 5/5] END criterion=entropy, max_depth=7, max_features=sqrt, n_estimators=200;, score=0.884 total time=   2.9s\n",
            "[CV 1/5] END criterion=entropy, max_depth=7, max_features=sqrt, n_estimators=500;, score=0.856 total time=   7.3s\n",
            "[CV 2/5] END criterion=entropy, max_depth=7, max_features=sqrt, n_estimators=500;, score=0.880 total time=   7.3s\n",
            "[CV 3/5] END criterion=entropy, max_depth=7, max_features=sqrt, n_estimators=500;, score=0.904 total time=   7.2s\n",
            "[CV 4/5] END criterion=entropy, max_depth=7, max_features=sqrt, n_estimators=500;, score=0.913 total time=   7.2s\n",
            "[CV 5/5] END criterion=entropy, max_depth=7, max_features=sqrt, n_estimators=500;, score=0.879 total time=   7.2s\n",
            "[CV 1/5] END criterion=entropy, max_depth=7, max_features=log2, n_estimators=50;, score=0.812 total time=   0.2s\n",
            "[CV 2/5] END criterion=entropy, max_depth=7, max_features=log2, n_estimators=50;, score=0.851 total time=   0.2s\n",
            "[CV 3/5] END criterion=entropy, max_depth=7, max_features=log2, n_estimators=50;, score=0.841 total time=   0.2s\n",
            "[CV 4/5] END criterion=entropy, max_depth=7, max_features=log2, n_estimators=50;, score=0.899 total time=   0.2s\n",
            "[CV 5/5] END criterion=entropy, max_depth=7, max_features=log2, n_estimators=50;, score=0.826 total time=   0.2s\n",
            "[CV 1/5] END criterion=entropy, max_depth=7, max_features=log2, n_estimators=100;, score=0.837 total time=   0.4s\n",
            "[CV 2/5] END criterion=entropy, max_depth=7, max_features=log2, n_estimators=100;, score=0.846 total time=   0.4s\n",
            "[CV 3/5] END criterion=entropy, max_depth=7, max_features=log2, n_estimators=100;, score=0.875 total time=   0.4s\n",
            "[CV 4/5] END criterion=entropy, max_depth=7, max_features=log2, n_estimators=100;, score=0.865 total time=   0.4s\n",
            "[CV 5/5] END criterion=entropy, max_depth=7, max_features=log2, n_estimators=100;, score=0.845 total time=   0.4s\n",
            "[CV 1/5] END criterion=entropy, max_depth=7, max_features=log2, n_estimators=200;, score=0.827 total time=   0.7s\n",
            "[CV 2/5] END criterion=entropy, max_depth=7, max_features=log2, n_estimators=200;, score=0.861 total time=   0.8s\n",
            "[CV 3/5] END criterion=entropy, max_depth=7, max_features=log2, n_estimators=200;, score=0.885 total time=   0.7s\n",
            "[CV 4/5] END criterion=entropy, max_depth=7, max_features=log2, n_estimators=200;, score=0.870 total time=   0.8s\n",
            "[CV 5/5] END criterion=entropy, max_depth=7, max_features=log2, n_estimators=200;, score=0.855 total time=   0.8s\n",
            "[CV 1/5] END criterion=entropy, max_depth=7, max_features=log2, n_estimators=500;, score=0.832 total time=   1.8s\n",
            "[CV 2/5] END criterion=entropy, max_depth=7, max_features=log2, n_estimators=500;, score=0.861 total time=   1.8s\n",
            "[CV 3/5] END criterion=entropy, max_depth=7, max_features=log2, n_estimators=500;, score=0.865 total time=   1.8s\n",
            "[CV 4/5] END criterion=entropy, max_depth=7, max_features=log2, n_estimators=500;, score=0.879 total time=   1.8s\n",
            "[CV 5/5] END criterion=entropy, max_depth=7, max_features=log2, n_estimators=500;, score=0.850 total time=   1.8s\n",
            "[CV 1/5] END criterion=entropy, max_depth=8, max_features=auto, n_estimators=50;, score=0.841 total time=   0.8s\n",
            "[CV 2/5] END criterion=entropy, max_depth=8, max_features=auto, n_estimators=50;, score=0.909 total time=   0.8s\n",
            "[CV 3/5] END criterion=entropy, max_depth=8, max_features=auto, n_estimators=50;, score=0.885 total time=   0.8s\n",
            "[CV 4/5] END criterion=entropy, max_depth=8, max_features=auto, n_estimators=50;, score=0.874 total time=   0.8s\n",
            "[CV 5/5] END criterion=entropy, max_depth=8, max_features=auto, n_estimators=50;, score=0.870 total time=   0.8s\n",
            "[CV 1/5] END criterion=entropy, max_depth=8, max_features=auto, n_estimators=100;, score=0.865 total time=   1.5s\n",
            "[CV 2/5] END criterion=entropy, max_depth=8, max_features=auto, n_estimators=100;, score=0.899 total time=   1.5s\n",
            "[CV 3/5] END criterion=entropy, max_depth=8, max_features=auto, n_estimators=100;, score=0.885 total time=   1.5s\n",
            "[CV 4/5] END criterion=entropy, max_depth=8, max_features=auto, n_estimators=100;, score=0.899 total time=   1.6s\n",
            "[CV 5/5] END criterion=entropy, max_depth=8, max_features=auto, n_estimators=100;, score=0.894 total time=   1.5s\n",
            "[CV 1/5] END criterion=entropy, max_depth=8, max_features=auto, n_estimators=200;, score=0.846 total time=   3.0s\n",
            "[CV 2/5] END criterion=entropy, max_depth=8, max_features=auto, n_estimators=200;, score=0.918 total time=   3.2s\n",
            "[CV 3/5] END criterion=entropy, max_depth=8, max_features=auto, n_estimators=200;, score=0.904 total time=   3.5s\n",
            "[CV 4/5] END criterion=entropy, max_depth=8, max_features=auto, n_estimators=200;, score=0.908 total time=   3.7s\n",
            "[CV 5/5] END criterion=entropy, max_depth=8, max_features=auto, n_estimators=200;, score=0.874 total time=   3.0s\n",
            "[CV 1/5] END criterion=entropy, max_depth=8, max_features=auto, n_estimators=500;, score=0.846 total time=   7.6s\n",
            "[CV 2/5] END criterion=entropy, max_depth=8, max_features=auto, n_estimators=500;, score=0.899 total time=   7.6s\n",
            "[CV 3/5] END criterion=entropy, max_depth=8, max_features=auto, n_estimators=500;, score=0.889 total time=   7.7s\n",
            "[CV 4/5] END criterion=entropy, max_depth=8, max_features=auto, n_estimators=500;, score=0.923 total time=   7.6s\n",
            "[CV 5/5] END criterion=entropy, max_depth=8, max_features=auto, n_estimators=500;, score=0.874 total time=   7.5s\n",
            "[CV 1/5] END criterion=entropy, max_depth=8, max_features=sqrt, n_estimators=50;, score=0.865 total time=   0.8s\n",
            "[CV 2/5] END criterion=entropy, max_depth=8, max_features=sqrt, n_estimators=50;, score=0.875 total time=   0.8s\n",
            "[CV 3/5] END criterion=entropy, max_depth=8, max_features=sqrt, n_estimators=50;, score=0.875 total time=   0.8s\n",
            "[CV 4/5] END criterion=entropy, max_depth=8, max_features=sqrt, n_estimators=50;, score=0.889 total time=   0.8s\n",
            "[CV 5/5] END criterion=entropy, max_depth=8, max_features=sqrt, n_estimators=50;, score=0.903 total time=   0.8s\n",
            "[CV 1/5] END criterion=entropy, max_depth=8, max_features=sqrt, n_estimators=100;, score=0.875 total time=   1.5s\n",
            "[CV 2/5] END criterion=entropy, max_depth=8, max_features=sqrt, n_estimators=100;, score=0.904 total time=   1.6s\n",
            "[CV 3/5] END criterion=entropy, max_depth=8, max_features=sqrt, n_estimators=100;, score=0.899 total time=   1.6s\n",
            "[CV 4/5] END criterion=entropy, max_depth=8, max_features=sqrt, n_estimators=100;, score=0.894 total time=   1.6s\n",
            "[CV 5/5] END criterion=entropy, max_depth=8, max_features=sqrt, n_estimators=100;, score=0.870 total time=   1.6s\n",
            "[CV 1/5] END criterion=entropy, max_depth=8, max_features=sqrt, n_estimators=200;, score=0.861 total time=   3.1s\n",
            "[CV 2/5] END criterion=entropy, max_depth=8, max_features=sqrt, n_estimators=200;, score=0.899 total time=   3.1s\n",
            "[CV 3/5] END criterion=entropy, max_depth=8, max_features=sqrt, n_estimators=200;, score=0.889 total time=   3.1s\n",
            "[CV 4/5] END criterion=entropy, max_depth=8, max_features=sqrt, n_estimators=200;, score=0.923 total time=   3.1s\n",
            "[CV 5/5] END criterion=entropy, max_depth=8, max_features=sqrt, n_estimators=200;, score=0.889 total time=   3.0s\n",
            "[CV 1/5] END criterion=entropy, max_depth=8, max_features=sqrt, n_estimators=500;, score=0.846 total time=   7.5s\n",
            "[CV 2/5] END criterion=entropy, max_depth=8, max_features=sqrt, n_estimators=500;, score=0.894 total time=   7.7s\n",
            "[CV 3/5] END criterion=entropy, max_depth=8, max_features=sqrt, n_estimators=500;, score=0.885 total time=   7.7s\n",
            "[CV 4/5] END criterion=entropy, max_depth=8, max_features=sqrt, n_estimators=500;, score=0.913 total time=   7.7s\n",
            "[CV 5/5] END criterion=entropy, max_depth=8, max_features=sqrt, n_estimators=500;, score=0.884 total time=   7.7s\n",
            "[CV 1/5] END criterion=entropy, max_depth=8, max_features=log2, n_estimators=50;, score=0.832 total time=   0.2s\n",
            "[CV 2/5] END criterion=entropy, max_depth=8, max_features=log2, n_estimators=50;, score=0.832 total time=   0.2s\n",
            "[CV 3/5] END criterion=entropy, max_depth=8, max_features=log2, n_estimators=50;, score=0.841 total time=   0.2s\n",
            "[CV 4/5] END criterion=entropy, max_depth=8, max_features=log2, n_estimators=50;, score=0.870 total time=   0.2s\n",
            "[CV 5/5] END criterion=entropy, max_depth=8, max_features=log2, n_estimators=50;, score=0.850 total time=   0.2s\n",
            "[CV 1/5] END criterion=entropy, max_depth=8, max_features=log2, n_estimators=100;, score=0.841 total time=   0.4s\n",
            "[CV 2/5] END criterion=entropy, max_depth=8, max_features=log2, n_estimators=100;, score=0.875 total time=   0.4s\n",
            "[CV 3/5] END criterion=entropy, max_depth=8, max_features=log2, n_estimators=100;, score=0.851 total time=   0.4s\n",
            "[CV 4/5] END criterion=entropy, max_depth=8, max_features=log2, n_estimators=100;, score=0.865 total time=   0.4s\n",
            "[CV 5/5] END criterion=entropy, max_depth=8, max_features=log2, n_estimators=100;, score=0.855 total time=   0.4s\n",
            "[CV 1/5] END criterion=entropy, max_depth=8, max_features=log2, n_estimators=200;, score=0.837 total time=   0.8s\n",
            "[CV 2/5] END criterion=entropy, max_depth=8, max_features=log2, n_estimators=200;, score=0.865 total time=   0.8s\n",
            "[CV 3/5] END criterion=entropy, max_depth=8, max_features=log2, n_estimators=200;, score=0.875 total time=   0.8s\n",
            "[CV 4/5] END criterion=entropy, max_depth=8, max_features=log2, n_estimators=200;, score=0.874 total time=   0.8s\n",
            "[CV 5/5] END criterion=entropy, max_depth=8, max_features=log2, n_estimators=200;, score=0.870 total time=   0.8s\n",
            "[CV 1/5] END criterion=entropy, max_depth=8, max_features=log2, n_estimators=500;, score=0.856 total time=   2.0s\n",
            "[CV 2/5] END criterion=entropy, max_depth=8, max_features=log2, n_estimators=500;, score=0.885 total time=   1.9s\n",
            "[CV 3/5] END criterion=entropy, max_depth=8, max_features=log2, n_estimators=500;, score=0.865 total time=   1.9s\n",
            "[CV 4/5] END criterion=entropy, max_depth=8, max_features=log2, n_estimators=500;, score=0.889 total time=   1.9s\n",
            "[CV 5/5] END criterion=entropy, max_depth=8, max_features=log2, n_estimators=500;, score=0.860 total time=   2.3s\n"
          ]
        },
        {
          "output_type": "execute_result",
          "data": {
            "text/plain": [
              "GridSearchCV(cv=5, estimator=RandomForestClassifier(),\n",
              "             param_grid={'criterion': ['gini', 'entropy'],\n",
              "                         'max_depth': [4, 5, 6, 7, 8],\n",
              "                         'max_features': ['auto', 'sqrt', 'log2'],\n",
              "                         'n_estimators': [50, 100, 200, 500]},\n",
              "             verbose=3)"
            ]
          },
          "metadata": {},
          "execution_count": 105
        }
      ],
      "source": [
        "from sklearn.model_selection import GridSearchCV\n",
        "from sklearn.ensemble import RandomForestClassifier\n",
        " # defining parameter range\n",
        "param_grid = {\n",
        "    'n_estimators': [50,100,200,500],\n",
        "    'max_features': ['auto', 'sqrt', 'log2'],\n",
        "    'max_depth' : [4,5,6,7,8],\n",
        "    'criterion' :['gini', 'entropy']\n",
        "}\n",
        "grid = GridSearchCV(RandomForestClassifier(), param_grid, refit = True, verbose = 3,cv=5)\n",
        "# fitting the model for grid search\n",
        "grid.fit(x_train, y_train)"
      ]
    },
    {
      "cell_type": "code",
      "execution_count": null,
      "metadata": {
        "colab": {
          "base_uri": "https://localhost:8080/"
        },
        "id": "Q6FvVtWEHQEN",
        "outputId": "fe12ad2d-11a5-4b35-f9a9-6c90fbbc3d09"
      },
      "outputs": [
        {
          "output_type": "stream",
          "name": "stdout",
          "text": [
            "{'criterion': 'entropy', 'max_depth': 8, 'max_features': 'sqrt', 'n_estimators': 200}\n",
            "RandomForestClassifier(criterion='entropy', max_depth=8, max_features='sqrt',\n",
            "                       n_estimators=200)\n"
          ]
        }
      ],
      "source": [
        "# print best parameter after tuning\n",
        "print(grid.best_params_)\n",
        "# print how our model looks after hyper-parameter tuning\n",
        "print(grid.best_estimator_)\n",
        "clf_rf=grid.best_estimator_"
      ]
    },
    {
      "cell_type": "code",
      "execution_count": null,
      "metadata": {
        "colab": {
          "base_uri": "https://localhost:8080/"
        },
        "id": "nuHvOh2DHSzx",
        "outputId": "8e22fc61-b705-41dc-81ba-8e001f15c200"
      },
      "outputs": [
        {
          "output_type": "stream",
          "name": "stdout",
          "text": [
            "              precision    recall  f1-score   support\n",
            "\n",
            "           0       0.87      0.88      0.87       206\n",
            "           1       0.89      0.89      0.89       239\n",
            "\n",
            "    accuracy                           0.88       445\n",
            "   macro avg       0.88      0.88      0.88       445\n",
            "weighted avg       0.88      0.88      0.88       445\n",
            "\n"
          ]
        }
      ],
      "source": [
        "clf_rf.fit(x_train,y_train)\n",
        "y_pred=clf_rf.predict(x_test)\n",
        "from sklearn.metrics import classification_report\n",
        "cpr=classification_report(y_test,y_pred)\n",
        "print(cpr)"
      ]
    },
    {
      "cell_type": "code",
      "execution_count": null,
      "metadata": {
        "colab": {
          "base_uri": "https://localhost:8080/"
        },
        "id": "PkgKy-m0HXFf",
        "outputId": "625e214a-8187-46b5-b78e-d7a0cfb5adde"
      },
      "outputs": [
        {
          "output_type": "stream",
          "name": "stdout",
          "text": [
            "88.31\n",
            "88.70\n",
            "89.45\n",
            "89.08\n"
          ]
        }
      ],
      "source": [
        "from sklearn.metrics import accuracy_score,precision_score,f1_score,recall_score\n",
        "acc=accuracy_score(y_pred,y_test)\n",
        "print('%.2f'%(acc*100))\n",
        "pre=precision_score(y_pred,y_test)\n",
        "print('%.2f'%(pre*100))\n",
        "rec=recall_score(y_pred,y_test)\n",
        "print('%.2f'%(rec*100))\n",
        "f1=f1_score(y_pred,y_test)\n",
        "print('%.2f'%(f1*100))"
      ]
    },
    {
      "cell_type": "code",
      "execution_count": null,
      "metadata": {
        "colab": {
          "base_uri": "https://localhost:8080/",
          "height": 519
        },
        "id": "tG9GogzZHX2-",
        "outputId": "194e98cd-928a-4d76-b0e7-ec30b80bb6f1"
      },
      "outputs": [
        {
          "output_type": "stream",
          "name": "stderr",
          "text": [
            "/usr/local/lib/python3.7/dist-packages/sklearn/utils/deprecation.py:87: FutureWarning: Function plot_roc_curve is deprecated; Function :func:`plot_roc_curve` is deprecated in 1.0 and will be removed in 1.2. Use one of the class methods: :meth:`sklearn.metric.RocCurveDisplay.from_predictions` or :meth:`sklearn.metric.RocCurveDisplay.from_estimator`.\n",
            "  warnings.warn(msg, category=FutureWarning)\n",
            "/usr/local/lib/python3.7/dist-packages/sklearn/utils/deprecation.py:87: FutureWarning: Function plot_roc_curve is deprecated; Function :func:`plot_roc_curve` is deprecated in 1.0 and will be removed in 1.2. Use one of the class methods: :meth:`sklearn.metric.RocCurveDisplay.from_predictions` or :meth:`sklearn.metric.RocCurveDisplay.from_estimator`.\n",
            "  warnings.warn(msg, category=FutureWarning)\n",
            "/usr/local/lib/python3.7/dist-packages/sklearn/utils/deprecation.py:87: FutureWarning: Function plot_roc_curve is deprecated; Function :func:`plot_roc_curve` is deprecated in 1.0 and will be removed in 1.2. Use one of the class methods: :meth:`sklearn.metric.RocCurveDisplay.from_predictions` or :meth:`sklearn.metric.RocCurveDisplay.from_estimator`.\n",
            "  warnings.warn(msg, category=FutureWarning)\n",
            "/usr/local/lib/python3.7/dist-packages/sklearn/utils/deprecation.py:87: FutureWarning: Function plot_roc_curve is deprecated; Function :func:`plot_roc_curve` is deprecated in 1.0 and will be removed in 1.2. Use one of the class methods: :meth:`sklearn.metric.RocCurveDisplay.from_predictions` or :meth:`sklearn.metric.RocCurveDisplay.from_estimator`.\n",
            "  warnings.warn(msg, category=FutureWarning)\n",
            "/usr/local/lib/python3.7/dist-packages/sklearn/utils/deprecation.py:87: FutureWarning: Function plot_roc_curve is deprecated; Function :func:`plot_roc_curve` is deprecated in 1.0 and will be removed in 1.2. Use one of the class methods: :meth:`sklearn.metric.RocCurveDisplay.from_predictions` or :meth:`sklearn.metric.RocCurveDisplay.from_estimator`.\n",
            "  warnings.warn(msg, category=FutureWarning)\n"
          ]
        },
        {
          "output_type": "execute_result",
          "data": {
            "text/plain": [
              "Text(0.5, 0.98, 'ROC curve comparison')"
            ]
          },
          "metadata": {},
          "execution_count": 109
        },
        {
          "output_type": "display_data",
          "data": {
            "text/plain": [
              "<Figure size 432x288 with 1 Axes>"
            ],
            "image/png": "[encoded data removed]"
          },
          "metadata": {
            "needs_background": "light"
          }
        }
      ],
      "source": [
        "from sklearn.metrics import plot_roc_curve\n",
        "svc_disp = plot_roc_curve(clf, x_test, y_test)\n",
        "dt_disp = plot_roc_curve(clf_dt, x_test, y_test, ax=svc_disp.ax_)\n",
        "rf_disp = plot_roc_curve(clf_rf, x_test, y_test, ax=dt_disp.ax_)\n",
        "rf_disp = plot_roc_curve(clf_kn, x_test, y_test, ax=dt_disp.ax_)\n",
        "rf_disp = plot_roc_curve(clf_lr, x_test, y_test, ax=dt_disp.ax_)\n",
        "rf_disp.figure_.suptitle(\"ROC curve comparison\")"
      ]
    }
  ],
  "metadata": {
    "accelerator": "GPU",
    "colab": {
      "provenance": []
    },
    "gpuClass": "standard",
    "kernelspec": {
      "display_name": "Python 3",
      "name": "python3"
    },
    "language_info": {
      "name": "python"
    }
  },
  "nbformat": 4,
  "nbformat_minor": 0
}